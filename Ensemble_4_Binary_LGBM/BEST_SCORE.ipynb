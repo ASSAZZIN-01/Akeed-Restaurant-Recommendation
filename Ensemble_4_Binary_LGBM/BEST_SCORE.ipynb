{
  "nbformat": 4,
  "nbformat_minor": 0,
  "metadata": {
    "colab": {
      "name": "BEST_SCORE.ipynb",
      "provenance": [],
      "collapsed_sections": []
    },
    "kernelspec": {
      "name": "python3",
      "display_name": "Python 3"
    }
  },
  "cells": [
    {
      "cell_type": "code",
      "metadata": {
        "id": "T3YNaWdIt6H1",
        "colab_type": "code",
        "colab": {
          "base_uri": "https://localhost:8080/",
          "height": 122
        },
        "outputId": "867298a4-49b6-4a21-f1fe-7f2c12180df3"
      },
      "source": [
        "from google.colab import drive\n",
        "drive.mount('/content/drive')"
      ],
      "execution_count": 1,
      "outputs": [
        {
          "output_type": "stream",
          "text": [
            "Go to this URL in a browser: https://accounts.google.com/o/oauth2/auth?client_id=947318989803-6bn6qk8qdgf4n4g3pfee6491hc0brc4i.apps.googleusercontent.com&redirect_uri=urn%3aietf%3awg%3aoauth%3a2.0%3aoob&scope=email%20https%3a%2f%2fwww.googleapis.com%2fauth%2fdocs.test%20https%3a%2f%2fwww.googleapis.com%2fauth%2fdrive%20https%3a%2f%2fwww.googleapis.com%2fauth%2fdrive.photos.readonly%20https%3a%2f%2fwww.googleapis.com%2fauth%2fpeopleapi.readonly&response_type=code\n",
            "\n",
            "Enter your authorization code:\n",
            "··········\n",
            "Mounted at /content/drive\n"
          ],
          "name": "stdout"
        }
      ]
    },
    {
      "cell_type": "markdown",
      "metadata": {
        "id": "_Vqsf33vm-c1",
        "colab_type": "text"
      },
      "source": [
        "# **FIRST BEST BLEND**"
      ]
    },
    {
      "cell_type": "code",
      "metadata": {
        "id": "pKxxK8iZFlnP",
        "colab_type": "code",
        "colab": {}
      },
      "source": [
        "import pandas as pd\n",
        "\n",
        "# this submission is the result from LGBM_AHMED \n",
        "sub_lgbm_ahmed = pd.read_csv('/content/drive/My Drive/AKEED_SOLUTION_Predictions/Akeed_LGB_ALL_DATA_Ahmed_Binary.csv')\n",
        "\n",
        "# this submission is the result from LGBM_AZER \n",
        "sub_best_azer_lr_003 = pd.read_csv('/content/drive/My Drive/AKEED_SOLUTION_Predictions/LGBM_without_categ_features_STABLE_BINARY.csv')\n",
        "\n",
        "# this submission is the result from LGBM_NACIR \n",
        "sub_best_nacir = pd.read_csv('/content/drive/My Drive/AKEED_SOLUTION_Predictions/AKEED_LGBM_NACIR_BINARY.csv')\n",
        "\n",
        "# this submission is the result from LGBM_Categorical \n",
        "sub_best_azer_categorical = pd.read_csv('/content/drive/My Drive/AKEED_SOLUTION_Predictions/LGBM_CATEGORICAL_features_BINARY.csv')"
      ],
      "execution_count": 2,
      "outputs": []
    },
    {
      "cell_type": "code",
      "metadata": {
        "id": "6xftY4g-6180",
        "colab_type": "code",
        "colab": {
          "base_uri": "https://localhost:8080/",
          "height": 187
        },
        "outputId": "4891f9b1-8a55-47d0-d8fe-7f393b5e630f"
      },
      "source": [
        "import numpy as np\n",
        "\n",
        "print('THe mean of each sub is : \\n')\n",
        "print('sub_lgbm_ahmed',np.mean(sub_lgbm_ahmed['target']),'\\n')\n",
        "print('sub_best_azer_lr_003',np.mean(sub_best_azer_lr_003['target']),'\\n')\n",
        "print( 'sub_best_nacir',np.mean(sub_best_nacir['target']),'\\n')\n",
        "print('sub_best_azer_categorical',np.mean(sub_best_azer_categorical['target']),'\\n')"
      ],
      "execution_count": 3,
      "outputs": [
        {
          "output_type": "stream",
          "text": [
            "THe mean of each sub is : \n",
            "\n",
            "sub_lgbm_ahmed 0.019050837320574162 \n",
            "\n",
            "sub_best_azer_lr_003 0.017504186602870814 \n",
            "\n",
            "sub_best_nacir 0.022684808612440193 \n",
            "\n",
            "sub_best_azer_categorical 0.017988038277511963 \n",
            "\n"
          ],
          "name": "stdout"
        }
      ]
    },
    {
      "cell_type": "code",
      "metadata": {
        "id": "WSaSTY6pIgtg",
        "colab_type": "code",
        "colab": {}
      },
      "source": [
        "def binary_blend(sub1,sub2,sub3,sub4) :\n",
        "  final_blend = []\n",
        "  for a,b,c,d in zip(list(map(bool,sub1)),list(map(bool,sub2)),\n",
        "                   list(map(bool,sub3)),list(map(bool,sub4))) :\n",
        "    final_blend.append(int(bool(a*b + a*c + a*d + b*c + b*d + c*d)))\n",
        "    \n",
        "\n",
        "  return final_blend"
      ],
      "execution_count": 4,
      "outputs": []
    },
    {
      "cell_type": "code",
      "metadata": {
        "id": "OtDuuY91I3J6",
        "colab_type": "code",
        "colab": {}
      },
      "source": [
        "sub = sub_best_nacir.copy()\n",
        "sub['target']= binary_blend(list(sub_best_azer_categorical['target'].values),\n",
        "                            list(sub_lgbm_ahmed['target'].values),\n",
        "                            list(sub_best_nacir['target'].values),\n",
        "                            list(sub_best_azer_lr_003['target'].values))"
      ],
      "execution_count": 5,
      "outputs": []
    },
    {
      "cell_type": "code",
      "metadata": {
        "id": "h-S0pDu1I_Nr",
        "colab_type": "code",
        "colab": {
          "base_uri": "https://localhost:8080/",
          "height": 68
        },
        "outputId": "82c96ea4-168c-406e-e64f-ca5e286c3572"
      },
      "source": [
        "sub['target'].value_counts()"
      ],
      "execution_count": 6,
      "outputs": [
        {
          "output_type": "execute_result",
          "data": {
            "text/plain": [
              "0    1640012\n",
              "1      31988\n",
              "Name: target, dtype: int64"
            ]
          },
          "metadata": {
            "tags": []
          },
          "execution_count": 6
        }
      ]
    },
    {
      "cell_type": "code",
      "metadata": {
        "id": "sG8yQy-CM7kJ",
        "colab_type": "code",
        "colab": {}
      },
      "source": [
        "sub.to_csv('LGBM_CATEG_LGBM_AHMED_LGBM_NACIR_LGBM_AZER_003.csv',index=False)"
      ],
      "execution_count": null,
      "outputs": []
    },
    {
      "cell_type": "code",
      "metadata": {
        "id": "un4s-j18ViGW",
        "colab_type": "code",
        "colab": {
          "base_uri": "https://localhost:8080/",
          "height": 34
        },
        "outputId": "8d7a73e3-1d17-4c90-b53e-b82375b4187f"
      },
      "source": [
        "import numpy as np\n",
        "\n",
        "np.mean(sub['target'])"
      ],
      "execution_count": 7,
      "outputs": [
        {
          "output_type": "execute_result",
          "data": {
            "text/plain": [
              "0.01913157894736842"
            ]
          },
          "metadata": {
            "tags": []
          },
          "execution_count": 7
        }
      ]
    },
    {
      "cell_type": "markdown",
      "metadata": {
        "id": "rDMpXF-qnCfj",
        "colab_type": "text"
      },
      "source": [
        "# **SECOND BEST BLEND**"
      ]
    },
    {
      "cell_type": "code",
      "metadata": {
        "id": "X1Oen07ekjsG",
        "colab_type": "code",
        "colab": {}
      },
      "source": [
        "import pandas as pd "
      ],
      "execution_count": null,
      "outputs": []
    },
    {
      "cell_type": "code",
      "metadata": {
        "id": "QLisj5v_j4zQ",
        "colab_type": "code",
        "colab": {}
      },
      "source": [
        "lgb_nacir = pd.read_csv('AKEED_LGBM_NACIR_FLOATS.csv')\n",
        "lgb_ahmed = pd.read_csv('Akeed_LGB_ALL_DATA_Ahmed_Float_Preds.csv')\n",
        "lgb_azer = pd.read_csv('LGBM_without_categ_features_STABLE_FLOATS.csv')\n",
        "xgb_azer = pd.read_csv('XGBOOST_FLOATS.csv')"
      ],
      "execution_count": null,
      "outputs": []
    },
    {
      "cell_type": "code",
      "metadata": {
        "id": "KU8Vr5TokgwW",
        "colab_type": "code",
        "colab": {
          "base_uri": "https://localhost:8080/",
          "height": 81
        },
        "outputId": "48aa8510-44db-4573-836b-7e3e32c107fd"
      },
      "source": [
        "lgb_ahmed.sort_values(by='CID X LOC_NUM X VENDOR',inplace=True)\n",
        "lgb_ahmed.reset_index(drop=True,inplace=True)\n",
        "lgb_ahmed.head(1)"
      ],
      "execution_count": null,
      "outputs": [
        {
          "output_type": "execute_result",
          "data": {
            "text/html": [
              "<div>\n",
              "<style scoped>\n",
              "    .dataframe tbody tr th:only-of-type {\n",
              "        vertical-align: middle;\n",
              "    }\n",
              "\n",
              "    .dataframe tbody tr th {\n",
              "        vertical-align: top;\n",
              "    }\n",
              "\n",
              "    .dataframe thead th {\n",
              "        text-align: right;\n",
              "    }\n",
              "</style>\n",
              "<table border=\"1\" class=\"dataframe\">\n",
              "  <thead>\n",
              "    <tr style=\"text-align: right;\">\n",
              "      <th></th>\n",
              "      <th>CID X LOC_NUM X VENDOR</th>\n",
              "      <th>target</th>\n",
              "    </tr>\n",
              "  </thead>\n",
              "  <tbody>\n",
              "    <tr>\n",
              "      <th>0</th>\n",
              "      <td>000IPH5 X 0 X 104</td>\n",
              "      <td>0.176987</td>\n",
              "    </tr>\n",
              "  </tbody>\n",
              "</table>\n",
              "</div>"
            ],
            "text/plain": [
              "  CID X LOC_NUM X VENDOR    target\n",
              "0      000IPH5 X 0 X 104  0.176987"
            ]
          },
          "metadata": {
            "tags": []
          },
          "execution_count": 5
        }
      ]
    },
    {
      "cell_type": "code",
      "metadata": {
        "id": "qCJ0M5z_kqc3",
        "colab_type": "code",
        "colab": {
          "base_uri": "https://localhost:8080/",
          "height": 81
        },
        "outputId": "94ae851e-6fe1-4f9b-ff7f-89db66cc11a4"
      },
      "source": [
        "lgb_azer.rename(columns = {'preds_test':'target'},inplace=True)\n",
        "lgb_azer.sort_values(by='CID X LOC_NUM X VENDOR',inplace=True)\n",
        "lgb_azer.reset_index(drop=True,inplace=True)\n",
        "lgb_azer.head(1)"
      ],
      "execution_count": null,
      "outputs": [
        {
          "output_type": "execute_result",
          "data": {
            "text/html": [
              "<div>\n",
              "<style scoped>\n",
              "    .dataframe tbody tr th:only-of-type {\n",
              "        vertical-align: middle;\n",
              "    }\n",
              "\n",
              "    .dataframe tbody tr th {\n",
              "        vertical-align: top;\n",
              "    }\n",
              "\n",
              "    .dataframe thead th {\n",
              "        text-align: right;\n",
              "    }\n",
              "</style>\n",
              "<table border=\"1\" class=\"dataframe\">\n",
              "  <thead>\n",
              "    <tr style=\"text-align: right;\">\n",
              "      <th></th>\n",
              "      <th>CID X LOC_NUM X VENDOR</th>\n",
              "      <th>target</th>\n",
              "    </tr>\n",
              "  </thead>\n",
              "  <tbody>\n",
              "    <tr>\n",
              "      <th>0</th>\n",
              "      <td>000IPH5 X 0 X 104</td>\n",
              "      <td>0.235992</td>\n",
              "    </tr>\n",
              "  </tbody>\n",
              "</table>\n",
              "</div>"
            ],
            "text/plain": [
              "  CID X LOC_NUM X VENDOR    target\n",
              "0      000IPH5 X 0 X 104  0.235992"
            ]
          },
          "metadata": {
            "tags": []
          },
          "execution_count": 7
        }
      ]
    },
    {
      "cell_type": "code",
      "metadata": {
        "id": "LmwOZAakkuME",
        "colab_type": "code",
        "colab": {
          "base_uri": "https://localhost:8080/",
          "height": 81
        },
        "outputId": "372f0edf-f8f4-4312-a042-1e9eb4e96078"
      },
      "source": [
        "lgb_nacir.sort_values(by='CID X LOC_NUM X VENDOR',inplace=True)\n",
        "lgb_nacir.reset_index(drop=True,inplace=True)\n",
        "lgb_nacir.head(1)"
      ],
      "execution_count": null,
      "outputs": [
        {
          "output_type": "execute_result",
          "data": {
            "text/html": [
              "<div>\n",
              "<style scoped>\n",
              "    .dataframe tbody tr th:only-of-type {\n",
              "        vertical-align: middle;\n",
              "    }\n",
              "\n",
              "    .dataframe tbody tr th {\n",
              "        vertical-align: top;\n",
              "    }\n",
              "\n",
              "    .dataframe thead th {\n",
              "        text-align: right;\n",
              "    }\n",
              "</style>\n",
              "<table border=\"1\" class=\"dataframe\">\n",
              "  <thead>\n",
              "    <tr style=\"text-align: right;\">\n",
              "      <th></th>\n",
              "      <th>CID X LOC_NUM X VENDOR</th>\n",
              "      <th>target</th>\n",
              "    </tr>\n",
              "  </thead>\n",
              "  <tbody>\n",
              "    <tr>\n",
              "      <th>0</th>\n",
              "      <td>000IPH5 X 0 X 104</td>\n",
              "      <td>0.240278</td>\n",
              "    </tr>\n",
              "  </tbody>\n",
              "</table>\n",
              "</div>"
            ],
            "text/plain": [
              "  CID X LOC_NUM X VENDOR    target\n",
              "0      000IPH5 X 0 X 104  0.240278"
            ]
          },
          "metadata": {
            "tags": []
          },
          "execution_count": 8
        }
      ]
    },
    {
      "cell_type": "code",
      "metadata": {
        "id": "pn4eQdGl17jW",
        "colab_type": "code",
        "colab": {
          "base_uri": "https://localhost:8080/",
          "height": 81
        },
        "outputId": "8516f991-0e55-45b6-b0d8-ac13502916a5"
      },
      "source": [
        "xgb_azer.sort_values(by='CID X LOC_NUM X VENDOR',inplace=True)\n",
        "xgb_azer.reset_index(drop=True,inplace=True)\n",
        "xgb_azer.head(1)"
      ],
      "execution_count": null,
      "outputs": [
        {
          "output_type": "execute_result",
          "data": {
            "text/html": [
              "<div>\n",
              "<style scoped>\n",
              "    .dataframe tbody tr th:only-of-type {\n",
              "        vertical-align: middle;\n",
              "    }\n",
              "\n",
              "    .dataframe tbody tr th {\n",
              "        vertical-align: top;\n",
              "    }\n",
              "\n",
              "    .dataframe thead th {\n",
              "        text-align: right;\n",
              "    }\n",
              "</style>\n",
              "<table border=\"1\" class=\"dataframe\">\n",
              "  <thead>\n",
              "    <tr style=\"text-align: right;\">\n",
              "      <th></th>\n",
              "      <th>CID X LOC_NUM X VENDOR</th>\n",
              "      <th>target</th>\n",
              "    </tr>\n",
              "  </thead>\n",
              "  <tbody>\n",
              "    <tr>\n",
              "      <th>0</th>\n",
              "      <td>000IPH5 X 0 X 104</td>\n",
              "      <td>0.317326</td>\n",
              "    </tr>\n",
              "  </tbody>\n",
              "</table>\n",
              "</div>"
            ],
            "text/plain": [
              "  CID X LOC_NUM X VENDOR    target\n",
              "0      000IPH5 X 0 X 104  0.317326"
            ]
          },
          "metadata": {
            "tags": []
          },
          "execution_count": 9
        }
      ]
    },
    {
      "cell_type": "code",
      "metadata": {
        "id": "99cMewxvkwTQ",
        "colab_type": "code",
        "colab": {
          "base_uri": "https://localhost:8080/",
          "height": 81
        },
        "outputId": "538a29b6-7796-4465-ac9f-1db6cb5eba6d"
      },
      "source": [
        "blend = pd.DataFrame()\n",
        "blend['CID X LOC_NUM X VENDOR'] = lgb_ahmed['CID X LOC_NUM X VENDOR']\n",
        "blend['target'] = lgb_nacir.target*0.47 + lgb_azer.target*0.29 + lgb_ahmed.target*0.14 + xgb_azer.target*0.1\n",
        "blend.head(1)"
      ],
      "execution_count": null,
      "outputs": [
        {
          "output_type": "execute_result",
          "data": {
            "text/html": [
              "<div>\n",
              "<style scoped>\n",
              "    .dataframe tbody tr th:only-of-type {\n",
              "        vertical-align: middle;\n",
              "    }\n",
              "\n",
              "    .dataframe tbody tr th {\n",
              "        vertical-align: top;\n",
              "    }\n",
              "\n",
              "    .dataframe thead th {\n",
              "        text-align: right;\n",
              "    }\n",
              "</style>\n",
              "<table border=\"1\" class=\"dataframe\">\n",
              "  <thead>\n",
              "    <tr style=\"text-align: right;\">\n",
              "      <th></th>\n",
              "      <th>CID X LOC_NUM X VENDOR</th>\n",
              "      <th>target</th>\n",
              "    </tr>\n",
              "  </thead>\n",
              "  <tbody>\n",
              "    <tr>\n",
              "      <th>0</th>\n",
              "      <td>000IPH5 X 0 X 104</td>\n",
              "      <td>0.237879</td>\n",
              "    </tr>\n",
              "  </tbody>\n",
              "</table>\n",
              "</div>"
            ],
            "text/plain": [
              "  CID X LOC_NUM X VENDOR    target\n",
              "0      000IPH5 X 0 X 104  0.237879"
            ]
          },
          "metadata": {
            "tags": []
          },
          "execution_count": 10
        }
      ]
    },
    {
      "cell_type": "code",
      "metadata": {
        "id": "xlcN7mJ3mE9n",
        "colab_type": "code",
        "colab": {
          "base_uri": "https://localhost:8080/",
          "height": 69
        },
        "outputId": "dd1d088e-854c-4f62-f154-3a2ec8c08592"
      },
      "source": [
        "blend['target'] = (blend['target']>0.475).astype('int')\n",
        "blend['target'].value_counts()"
      ],
      "execution_count": null,
      "outputs": [
        {
          "output_type": "execute_result",
          "data": {
            "text/plain": [
              "0    1638732\n",
              "1      33268\n",
              "Name: target, dtype: int64"
            ]
          },
          "metadata": {
            "tags": []
          },
          "execution_count": 11
        }
      ]
    },
    {
      "cell_type": "markdown",
      "metadata": {
        "id": "PhInMdpknIaL",
        "colab_type": "text"
      },
      "source": [
        "# **FIRST BEST BLEND  + SECOND BEST BLEND**"
      ]
    },
    {
      "cell_type": "code",
      "metadata": {
        "id": "yHCTSTGVC-qf",
        "colab_type": "code",
        "colab": {}
      },
      "source": [
        "blend = pd.read_csv('/content/drive/My Drive/AKEED_SOLUTION_Predictions/CheckBlenAhmed.csv')"
      ],
      "execution_count": 8,
      "outputs": []
    },
    {
      "cell_type": "code",
      "metadata": {
        "id": "1yzrCGQ2nOsV",
        "colab_type": "code",
        "colab": {}
      },
      "source": [
        "sub = sub.sort_values('CID X LOC_NUM X VENDOR',ascending=False)\n",
        "blend = blend.sort_values('CID X LOC_NUM X VENDOR',ascending=False)"
      ],
      "execution_count": 9,
      "outputs": []
    },
    {
      "cell_type": "code",
      "metadata": {
        "id": "SRPYyAfIASvK",
        "colab_type": "code",
        "colab": {}
      },
      "source": [
        "def binary_blend(sub1,sub2) :\n",
        "  final_blend = []\n",
        "  for i,j in zip(sub1,sub2) :\n",
        "    x= i&j\n",
        "    final_blend.append(x)\n",
        "\n",
        "  return final_blend"
      ],
      "execution_count": 10,
      "outputs": []
    },
    {
      "cell_type": "code",
      "metadata": {
        "id": "9_b1AXpvAh8s",
        "colab_type": "code",
        "colab": {}
      },
      "source": [
        "final_blend = blend.copy()\n",
        "final_blend['target']= binary_blend(list(blend['target'].values),\n",
        "                            list(sub['target'].values),)"
      ],
      "execution_count": 11,
      "outputs": []
    },
    {
      "cell_type": "code",
      "metadata": {
        "id": "IwIH0HuoA0Qd",
        "colab_type": "code",
        "colab": {
          "base_uri": "https://localhost:8080/",
          "height": 68
        },
        "outputId": "17d3a981-bbc7-440a-d7b7-9b2534cd02fa"
      },
      "source": [
        "final_blend['target'].value_counts()"
      ],
      "execution_count": 12,
      "outputs": [
        {
          "output_type": "execute_result",
          "data": {
            "text/plain": [
              "0    1641641\n",
              "1      30359\n",
              "Name: target, dtype: int64"
            ]
          },
          "metadata": {
            "tags": []
          },
          "execution_count": 12
        }
      ]
    },
    {
      "cell_type": "code",
      "metadata": {
        "id": "nYMQzQocA15F",
        "colab_type": "code",
        "colab": {}
      },
      "source": [
        "final_blend.to_csv('BestScore.csv',index=False)"
      ],
      "execution_count": 13,
      "outputs": []
    },
    {
      "cell_type": "code",
      "metadata": {
        "id": "OChDOzR-DOkW",
        "colab_type": "code",
        "colab": {}
      },
      "source": [
        ""
      ],
      "execution_count": null,
      "outputs": []
    }
  ]
}