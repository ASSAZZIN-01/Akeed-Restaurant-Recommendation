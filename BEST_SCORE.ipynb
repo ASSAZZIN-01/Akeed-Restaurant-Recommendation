{
 "cells": [
  {
   "cell_type": "code",
   "execution_count": 1,
   "metadata": {
    "colab": {
     "base_uri": "https://localhost:8080/",
     "height": 122
    },
    "colab_type": "code",
    "id": "T3YNaWdIt6H1",
    "outputId": "867298a4-49b6-4a21-f1fe-7f2c12180df3"
   },
   "outputs": [
    {
     "name": "stdout",
     "output_type": "stream",
     "text": [
      "Go to this URL in a browser: https://accounts.google.com/o/oauth2/auth?client_id=947318989803-6bn6qk8qdgf4n4g3pfee6491hc0brc4i.apps.googleusercontent.com&redirect_uri=urn%3aietf%3awg%3aoauth%3a2.0%3aoob&scope=email%20https%3a%2f%2fwww.googleapis.com%2fauth%2fdocs.test%20https%3a%2f%2fwww.googleapis.com%2fauth%2fdrive%20https%3a%2f%2fwww.googleapis.com%2fauth%2fdrive.photos.readonly%20https%3a%2f%2fwww.googleapis.com%2fauth%2fpeopleapi.readonly&response_type=code\n",
      "\n",
      "Enter your authorization code:\n",
      "··········\n",
      "Mounted at /content/drive\n"
     ]
    }
   ],
   "source": [
    "#from google.colab import drive\n",
    "#drive.mount('/content/drive')"
   ]
  },
  {
   "cell_type": "markdown",
   "metadata": {
    "colab_type": "text",
    "id": "_Vqsf33vm-c1"
   },
   "source": [
    "# **FIRST BEST BLEND**"
   ]
  },
  {
   "cell_type": "code",
   "execution_count": 2,
   "metadata": {
    "colab": {},
    "colab_type": "code",
    "id": "pKxxK8iZFlnP"
   },
   "outputs": [],
   "source": [
    "import pandas as pd\n",
    "\n",
    "# this submission is the result from LGBM_AHMED \n",
    "sub_lgbm_ahmed = pd.read_csv('LGBM_AHMED/Akeed_LGB_ALL_DATA_Ahmed_Binary.csv')\n",
    "\n",
    "# this submission is the result from LGBM_AZER \n",
    "sub_best_azer_lr_003 = pd.read_csv('LGBM_AZER/LGBM_without_categ_features_STABLE_BINARY.csv')\n",
    "\n",
    "# this submission is the result from LGBM_NACIR \n",
    "sub_best_nacir = pd.read_csv('LGBM_Nacir/AKEED_LGBM_NACIR_BINARY.csv')\n",
    "\n",
    "# this submission is the result from LGBM_Categorical \n",
    "sub_best_azer_categorical = pd.read_csv('LGBM_Categorical/LGBM_CATEGORICAL_features_BINARY.csv')"
   ]
  },
  {
   "cell_type": "code",
   "execution_count": 3,
   "metadata": {
    "colab": {
     "base_uri": "https://localhost:8080/",
     "height": 187
    },
    "colab_type": "code",
    "id": "6xftY4g-6180",
    "outputId": "4891f9b1-8a55-47d0-d8fe-7f393b5e630f"
   },
   "outputs": [
    {
     "name": "stdout",
     "output_type": "stream",
     "text": [
      "THe mean of each sub is : \n",
      "\n",
      "sub_lgbm_ahmed 0.019050837320574162 \n",
      "\n",
      "sub_best_azer_lr_003 0.017504186602870814 \n",
      "\n",
      "sub_best_nacir 0.022684808612440193 \n",
      "\n",
      "sub_best_azer_categorical 0.017988038277511963 \n",
      "\n"
     ]
    }
   ],
   "source": [
    "import numpy as np\n",
    "\n",
    "print('THe mean of each sub is : \\n')\n",
    "print('sub_lgbm_ahmed',np.mean(sub_lgbm_ahmed['target']),'\\n')\n",
    "print('sub_best_azer_lr_003',np.mean(sub_best_azer_lr_003['target']),'\\n')\n",
    "print( 'sub_best_nacir',np.mean(sub_best_nacir['target']),'\\n')\n",
    "print('sub_best_azer_categorical',np.mean(sub_best_azer_categorical['target']),'\\n')"
   ]
  },
  {
   "cell_type": "code",
   "execution_count": 4,
   "metadata": {
    "colab": {},
    "colab_type": "code",
    "id": "WSaSTY6pIgtg"
   },
   "outputs": [],
   "source": [
    "def binary_blend(sub1,sub2,sub3,sub4) :\n",
    "  final_blend = []\n",
    "  for a,b,c,d in zip(list(map(bool,sub1)),list(map(bool,sub2)),\n",
    "                   list(map(bool,sub3)),list(map(bool,sub4))) :\n",
    "    final_blend.append(int(bool(a*b + a*c + a*d + b*c + b*d + c*d)))\n",
    "    \n",
    "\n",
    "  return final_blend"
   ]
  },
  {
   "cell_type": "code",
   "execution_count": 5,
   "metadata": {
    "colab": {},
    "colab_type": "code",
    "id": "OtDuuY91I3J6"
   },
   "outputs": [],
   "source": [
    "sub = sub_best_nacir.copy()\n",
    "sub['target']= binary_blend(list(sub_best_azer_categorical['target'].values),\n",
    "                            list(sub_lgbm_ahmed['target'].values),\n",
    "                            list(sub_best_nacir['target'].values),\n",
    "                            list(sub_best_azer_lr_003['target'].values))"
   ]
  },
  {
   "cell_type": "code",
   "execution_count": 6,
   "metadata": {
    "colab": {
     "base_uri": "https://localhost:8080/",
     "height": 68
    },
    "colab_type": "code",
    "id": "h-S0pDu1I_Nr",
    "outputId": "82c96ea4-168c-406e-e64f-ca5e286c3572"
   },
   "outputs": [
    {
     "data": {
      "text/plain": [
       "0    1640012\n",
       "1      31988\n",
       "Name: target, dtype: int64"
      ]
     },
     "execution_count": 6,
     "metadata": {
      "tags": []
     },
     "output_type": "execute_result"
    }
   ],
   "source": [
    "sub['target'].value_counts()"
   ]
  },
  {
   "cell_type": "code",
   "execution_count": 7,
   "metadata": {
    "colab": {
     "base_uri": "https://localhost:8080/",
     "height": 34
    },
    "colab_type": "code",
    "id": "un4s-j18ViGW",
    "outputId": "8d7a73e3-1d17-4c90-b53e-b82375b4187f"
   },
   "outputs": [
    {
     "data": {
      "text/plain": [
       "0.01913157894736842"
      ]
     },
     "execution_count": 7,
     "metadata": {
      "tags": []
     },
     "output_type": "execute_result"
    }
   ],
   "source": [
    "import numpy as np\n",
    "np.mean(sub['target'])"
   ]
  },
  {
   "cell_type": "markdown",
   "metadata": {
    "colab_type": "text",
    "id": "rDMpXF-qnCfj"
   },
   "source": [
    "# **SECOND BEST BLEND**"
   ]
  },
  {
   "cell_type": "code",
   "execution_count": null,
   "metadata": {
    "colab": {},
    "colab_type": "code",
    "id": "X1Oen07ekjsG"
   },
   "outputs": [],
   "source": [
    "import pandas as pd "
   ]
  },
  {
   "cell_type": "code",
   "execution_count": null,
   "metadata": {
    "colab": {},
    "colab_type": "code",
    "id": "QLisj5v_j4zQ"
   },
   "outputs": [],
   "source": [
    "lgb_nacir = pd.read_csv('LGBM_Nacir/AKEED_LGBM_NACIR_FLOATS.csv')\n",
    "lgb_ahmed = pd.read_csv('LGBM_AHMED/Akeed_LGB_ALL_DATA_Ahmed_Float_Preds.csv')\n",
    "lgb_azer = pd.read_csv('LGBM_AZER/LGBM_without_categ_features_STABLE_FLOATS.csv')\n",
    "xgb_azer = pd.read_csv('Xgboost/XGBOOST_FLOATS.csv')"
   ]
  },
  {
   "cell_type": "code",
   "execution_count": null,
   "metadata": {
    "colab": {
     "base_uri": "https://localhost:8080/",
     "height": 81
    },
    "colab_type": "code",
    "id": "KU8Vr5TokgwW",
    "outputId": "48aa8510-44db-4573-836b-7e3e32c107fd"
   },
   "outputs": [
    {
     "data": {
      "text/html": [
       "<div>\n",
       "<style scoped>\n",
       "    .dataframe tbody tr th:only-of-type {\n",
       "        vertical-align: middle;\n",
       "    }\n",
       "\n",
       "    .dataframe tbody tr th {\n",
       "        vertical-align: top;\n",
       "    }\n",
       "\n",
       "    .dataframe thead th {\n",
       "        text-align: right;\n",
       "    }\n",
       "</style>\n",
       "<table border=\"1\" class=\"dataframe\">\n",
       "  <thead>\n",
       "    <tr style=\"text-align: right;\">\n",
       "      <th></th>\n",
       "      <th>CID X LOC_NUM X VENDOR</th>\n",
       "      <th>target</th>\n",
       "    </tr>\n",
       "  </thead>\n",
       "  <tbody>\n",
       "    <tr>\n",
       "      <th>0</th>\n",
       "      <td>000IPH5 X 0 X 104</td>\n",
       "      <td>0.176987</td>\n",
       "    </tr>\n",
       "  </tbody>\n",
       "</table>\n",
       "</div>"
      ],
      "text/plain": [
       "  CID X LOC_NUM X VENDOR    target\n",
       "0      000IPH5 X 0 X 104  0.176987"
      ]
     },
     "execution_count": 5,
     "metadata": {
      "tags": []
     },
     "output_type": "execute_result"
    }
   ],
   "source": [
    "lgb_ahmed.sort_values(by='CID X LOC_NUM X VENDOR',inplace=True)\n",
    "lgb_ahmed.reset_index(drop=True,inplace=True)\n",
    "lgb_ahmed.head(1)"
   ]
  },
  {
   "cell_type": "code",
   "execution_count": null,
   "metadata": {
    "colab": {
     "base_uri": "https://localhost:8080/",
     "height": 81
    },
    "colab_type": "code",
    "id": "qCJ0M5z_kqc3",
    "outputId": "94ae851e-6fe1-4f9b-ff7f-89db66cc11a4"
   },
   "outputs": [
    {
     "data": {
      "text/html": [
       "<div>\n",
       "<style scoped>\n",
       "    .dataframe tbody tr th:only-of-type {\n",
       "        vertical-align: middle;\n",
       "    }\n",
       "\n",
       "    .dataframe tbody tr th {\n",
       "        vertical-align: top;\n",
       "    }\n",
       "\n",
       "    .dataframe thead th {\n",
       "        text-align: right;\n",
       "    }\n",
       "</style>\n",
       "<table border=\"1\" class=\"dataframe\">\n",
       "  <thead>\n",
       "    <tr style=\"text-align: right;\">\n",
       "      <th></th>\n",
       "      <th>CID X LOC_NUM X VENDOR</th>\n",
       "      <th>target</th>\n",
       "    </tr>\n",
       "  </thead>\n",
       "  <tbody>\n",
       "    <tr>\n",
       "      <th>0</th>\n",
       "      <td>000IPH5 X 0 X 104</td>\n",
       "      <td>0.235992</td>\n",
       "    </tr>\n",
       "  </tbody>\n",
       "</table>\n",
       "</div>"
      ],
      "text/plain": [
       "  CID X LOC_NUM X VENDOR    target\n",
       "0      000IPH5 X 0 X 104  0.235992"
      ]
     },
     "execution_count": 7,
     "metadata": {
      "tags": []
     },
     "output_type": "execute_result"
    }
   ],
   "source": [
    "lgb_azer.rename(columns = {'preds_test':'target'},inplace=True)\n",
    "lgb_azer.sort_values(by='CID X LOC_NUM X VENDOR',inplace=True)\n",
    "lgb_azer.reset_index(drop=True,inplace=True)\n",
    "lgb_azer.head(1)"
   ]
  },
  {
   "cell_type": "code",
   "execution_count": null,
   "metadata": {
    "colab": {
     "base_uri": "https://localhost:8080/",
     "height": 81
    },
    "colab_type": "code",
    "id": "LmwOZAakkuME",
    "outputId": "372f0edf-f8f4-4312-a042-1e9eb4e96078"
   },
   "outputs": [
    {
     "data": {
      "text/html": [
       "<div>\n",
       "<style scoped>\n",
       "    .dataframe tbody tr th:only-of-type {\n",
       "        vertical-align: middle;\n",
       "    }\n",
       "\n",
       "    .dataframe tbody tr th {\n",
       "        vertical-align: top;\n",
       "    }\n",
       "\n",
       "    .dataframe thead th {\n",
       "        text-align: right;\n",
       "    }\n",
       "</style>\n",
       "<table border=\"1\" class=\"dataframe\">\n",
       "  <thead>\n",
       "    <tr style=\"text-align: right;\">\n",
       "      <th></th>\n",
       "      <th>CID X LOC_NUM X VENDOR</th>\n",
       "      <th>target</th>\n",
       "    </tr>\n",
       "  </thead>\n",
       "  <tbody>\n",
       "    <tr>\n",
       "      <th>0</th>\n",
       "      <td>000IPH5 X 0 X 104</td>\n",
       "      <td>0.240278</td>\n",
       "    </tr>\n",
       "  </tbody>\n",
       "</table>\n",
       "</div>"
      ],
      "text/plain": [
       "  CID X LOC_NUM X VENDOR    target\n",
       "0      000IPH5 X 0 X 104  0.240278"
      ]
     },
     "execution_count": 8,
     "metadata": {
      "tags": []
     },
     "output_type": "execute_result"
    }
   ],
   "source": [
    "lgb_nacir.sort_values(by='CID X LOC_NUM X VENDOR',inplace=True)\n",
    "lgb_nacir.reset_index(drop=True,inplace=True)\n",
    "lgb_nacir.head(1)"
   ]
  },
  {
   "cell_type": "code",
   "execution_count": null,
   "metadata": {
    "colab": {
     "base_uri": "https://localhost:8080/",
     "height": 81
    },
    "colab_type": "code",
    "id": "pn4eQdGl17jW",
    "outputId": "8516f991-0e55-45b6-b0d8-ac13502916a5"
   },
   "outputs": [
    {
     "data": {
      "text/html": [
       "<div>\n",
       "<style scoped>\n",
       "    .dataframe tbody tr th:only-of-type {\n",
       "        vertical-align: middle;\n",
       "    }\n",
       "\n",
       "    .dataframe tbody tr th {\n",
       "        vertical-align: top;\n",
       "    }\n",
       "\n",
       "    .dataframe thead th {\n",
       "        text-align: right;\n",
       "    }\n",
       "</style>\n",
       "<table border=\"1\" class=\"dataframe\">\n",
       "  <thead>\n",
       "    <tr style=\"text-align: right;\">\n",
       "      <th></th>\n",
       "      <th>CID X LOC_NUM X VENDOR</th>\n",
       "      <th>target</th>\n",
       "    </tr>\n",
       "  </thead>\n",
       "  <tbody>\n",
       "    <tr>\n",
       "      <th>0</th>\n",
       "      <td>000IPH5 X 0 X 104</td>\n",
       "      <td>0.317326</td>\n",
       "    </tr>\n",
       "  </tbody>\n",
       "</table>\n",
       "</div>"
      ],
      "text/plain": [
       "  CID X LOC_NUM X VENDOR    target\n",
       "0      000IPH5 X 0 X 104  0.317326"
      ]
     },
     "execution_count": 9,
     "metadata": {
      "tags": []
     },
     "output_type": "execute_result"
    }
   ],
   "source": [
    "xgb_azer.sort_values(by='CID X LOC_NUM X VENDOR',inplace=True)\n",
    "xgb_azer.reset_index(drop=True,inplace=True)\n",
    "xgb_azer.head(1)"
   ]
  },
  {
   "cell_type": "code",
   "execution_count": null,
   "metadata": {
    "colab": {
     "base_uri": "https://localhost:8080/",
     "height": 81
    },
    "colab_type": "code",
    "id": "99cMewxvkwTQ",
    "outputId": "538a29b6-7796-4465-ac9f-1db6cb5eba6d"
   },
   "outputs": [
    {
     "data": {
      "text/html": [
       "<div>\n",
       "<style scoped>\n",
       "    .dataframe tbody tr th:only-of-type {\n",
       "        vertical-align: middle;\n",
       "    }\n",
       "\n",
       "    .dataframe tbody tr th {\n",
       "        vertical-align: top;\n",
       "    }\n",
       "\n",
       "    .dataframe thead th {\n",
       "        text-align: right;\n",
       "    }\n",
       "</style>\n",
       "<table border=\"1\" class=\"dataframe\">\n",
       "  <thead>\n",
       "    <tr style=\"text-align: right;\">\n",
       "      <th></th>\n",
       "      <th>CID X LOC_NUM X VENDOR</th>\n",
       "      <th>target</th>\n",
       "    </tr>\n",
       "  </thead>\n",
       "  <tbody>\n",
       "    <tr>\n",
       "      <th>0</th>\n",
       "      <td>000IPH5 X 0 X 104</td>\n",
       "      <td>0.237879</td>\n",
       "    </tr>\n",
       "  </tbody>\n",
       "</table>\n",
       "</div>"
      ],
      "text/plain": [
       "  CID X LOC_NUM X VENDOR    target\n",
       "0      000IPH5 X 0 X 104  0.237879"
      ]
     },
     "execution_count": 10,
     "metadata": {
      "tags": []
     },
     "output_type": "execute_result"
    }
   ],
   "source": [
    "blend = pd.DataFrame()\n",
    "blend['CID X LOC_NUM X VENDOR'] = lgb_ahmed['CID X LOC_NUM X VENDOR']\n",
    "blend['target'] = lgb_nacir.target*0.47 + lgb_azer.target*0.29 + lgb_ahmed.target*0.14 + xgb_azer.target*0.1\n",
    "blend.head(1)"
   ]
  },
  {
   "cell_type": "code",
   "execution_count": null,
   "metadata": {
    "colab": {
     "base_uri": "https://localhost:8080/",
     "height": 69
    },
    "colab_type": "code",
    "id": "xlcN7mJ3mE9n",
    "outputId": "dd1d088e-854c-4f62-f154-3a2ec8c08592"
   },
   "outputs": [
    {
     "data": {
      "text/plain": [
       "0    1638732\n",
       "1      33268\n",
       "Name: target, dtype: int64"
      ]
     },
     "execution_count": 11,
     "metadata": {
      "tags": []
     },
     "output_type": "execute_result"
    }
   ],
   "source": [
    "blend['target'] = (blend['target']>0.475).astype('int')\n",
    "blend['target'].value_counts()"
   ]
  },
  {
   "cell_type": "markdown",
   "metadata": {
    "colab_type": "text",
    "id": "PhInMdpknIaL"
   },
   "source": [
    "# **FIRST BEST BLEND  + SECOND BEST BLEND**"
   ]
  },
  {
   "cell_type": "code",
   "execution_count": 9,
   "metadata": {
    "colab": {},
    "colab_type": "code",
    "id": "1yzrCGQ2nOsV"
   },
   "outputs": [],
   "source": [
    "sub = sub.sort_values('CID X LOC_NUM X VENDOR',ascending=False)\n",
    "blend = blend.sort_values('CID X LOC_NUM X VENDOR',ascending=False)"
   ]
  },
  {
   "cell_type": "code",
   "execution_count": 10,
   "metadata": {
    "colab": {},
    "colab_type": "code",
    "id": "SRPYyAfIASvK"
   },
   "outputs": [],
   "source": [
    "def binary_blend(sub1,sub2) :\n",
    "  final_blend = []\n",
    "  for i,j in zip(sub1,sub2) :\n",
    "    x= i&j\n",
    "    final_blend.append(x)\n",
    "\n",
    "  return final_blend"
   ]
  },
  {
   "cell_type": "code",
   "execution_count": 11,
   "metadata": {
    "colab": {},
    "colab_type": "code",
    "id": "9_b1AXpvAh8s"
   },
   "outputs": [],
   "source": [
    "final_blend = blend.copy()\n",
    "final_blend['target']= binary_blend(list(blend['target'].values),\n",
    "                            list(sub['target'].values),)"
   ]
  },
  {
   "cell_type": "code",
   "execution_count": 12,
   "metadata": {
    "colab": {
     "base_uri": "https://localhost:8080/",
     "height": 68
    },
    "colab_type": "code",
    "id": "IwIH0HuoA0Qd",
    "outputId": "17d3a981-bbc7-440a-d7b7-9b2534cd02fa"
   },
   "outputs": [
    {
     "data": {
      "text/plain": [
       "0    1641641\n",
       "1      30359\n",
       "Name: target, dtype: int64"
      ]
     },
     "execution_count": 12,
     "metadata": {
      "tags": []
     },
     "output_type": "execute_result"
    }
   ],
   "source": [
    "final_blend['target'].value_counts()"
   ]
  },
  {
   "cell_type": "code",
   "execution_count": 13,
   "metadata": {
    "colab": {},
    "colab_type": "code",
    "id": "nYMQzQocA15F"
   },
   "outputs": [],
   "source": [
    "final_blend.to_csv('BestScore.csv',index=False)"
   ]
  },
  {
   "cell_type": "code",
   "execution_count": null,
   "metadata": {
    "colab": {},
    "colab_type": "code",
    "id": "OChDOzR-DOkW"
   },
   "outputs": [],
   "source": []
  }
 ],
 "metadata": {
  "colab": {
   "collapsed_sections": [],
   "name": "BEST_SCORE.ipynb",
   "provenance": []
  },
  "kernelspec": {
   "display_name": "Python 3",
   "language": "python",
   "name": "python3"
  },
  "language_info": {
   "codemirror_mode": {
    "name": "ipython",
    "version": 3
   },
   "file_extension": ".py",
   "mimetype": "text/x-python",
   "name": "python",
   "nbconvert_exporter": "python",
   "pygments_lexer": "ipython3",
   "version": "3.7.6"
  }
 },
 "nbformat": 4,
 "nbformat_minor": 1
}
