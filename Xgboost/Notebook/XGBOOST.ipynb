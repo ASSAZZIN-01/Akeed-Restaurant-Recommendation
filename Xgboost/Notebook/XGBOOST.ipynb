{
  "nbformat": 4,
  "nbformat_minor": 0,
  "metadata": {
    "colab": {
      "name": "XGBOOST.ipynb",
      "provenance": [],
      "collapsed_sections": [],
      "machine_shape": "hm"
    },
    "kernelspec": {
      "name": "python3",
      "display_name": "Python 3"
    },
    "accelerator": "GPU"
  },
  "cells": [
    {
      "cell_type": "markdown",
      "metadata": {
        "id": "sweLqSI1R2HR",
        "colab_type": "text"
      },
      "source": [
        "# **IMPORT DATA**"
      ]
    },
    {
      "cell_type": "code",
      "metadata": {
        "id": "oHdyg1fABxAe",
        "colab_type": "code",
        "colab": {
          "base_uri": "https://localhost:8080/",
          "height": 122
        },
        "outputId": "af3fb61b-ca3a-496f-eb30-769c703147e5"
      },
      "source": [
        "from google.colab import drive\n",
        "drive.mount('/content/drive')"
      ],
      "execution_count": 1,
      "outputs": [
        {
          "output_type": "stream",
          "text": [
            "Go to this URL in a browser: https://accounts.google.com/o/oauth2/auth?client_id=947318989803-6bn6qk8qdgf4n4g3pfee6491hc0brc4i.apps.googleusercontent.com&redirect_uri=urn%3aietf%3awg%3aoauth%3a2.0%3aoob&scope=email%20https%3a%2f%2fwww.googleapis.com%2fauth%2fdocs.test%20https%3a%2f%2fwww.googleapis.com%2fauth%2fdrive%20https%3a%2f%2fwww.googleapis.com%2fauth%2fdrive.photos.readonly%20https%3a%2f%2fwww.googleapis.com%2fauth%2fpeopleapi.readonly&response_type=code\n",
            "\n",
            "Enter your authorization code:\n",
            "··········\n",
            "Mounted at /content/drive\n"
          ],
          "name": "stdout"
        }
      ]
    },
    {
      "cell_type": "code",
      "metadata": {
        "id": "NIyfw_BnFYia",
        "colab_type": "code",
        "colab": {}
      },
      "source": [
        "path = \"/content/drive/My Drive/Akeed_Competition/\""
      ],
      "execution_count": 2,
      "outputs": []
    },
    {
      "cell_type": "code",
      "metadata": {
        "id": "YwniecdJF4TT",
        "colab_type": "code",
        "colab": {}
      },
      "source": [
        "import gc\n",
        "import math\n",
        "import datetime\n",
        "import pandas as pd\n",
        "import numpy as np\n",
        "from sklearn.preprocessing import LabelEncoder\n",
        "\n",
        "import warnings\n",
        "warnings.filterwarnings(\"ignore\")"
      ],
      "execution_count": 3,
      "outputs": []
    },
    {
      "cell_type": "code",
      "metadata": {
        "id": "X06fxVoZmZMb",
        "colab_type": "code",
        "colab": {
          "base_uri": "https://localhost:8080/",
          "height": 51
        },
        "outputId": "7c87a57d-d3df-49da-d7fa-e70786cea9fd"
      },
      "source": [
        "%%time\n",
        "import pandas as pd\n",
        "import warnings\n",
        "warnings.simplefilter('ignore')\n",
        "test_customers=pd.read_csv(path +'test_customers.csv')\n",
        "test_locations=pd.read_csv(path +'test_locations.csv')\n",
        "train_customers=pd.read_csv(path +'train_customers.csv')\n",
        "train_locations=pd.read_csv(path +'train_locations.csv')\n",
        "vendors=pd.read_csv(path +'vendors.csv')\n",
        "vendors = vendors.add_prefix('v_')\n",
        "\n",
        "orders=pd.read_csv(path +'orders.csv')\n",
        "\n",
        "\n",
        "#SampleSubmission = pd.read_csv(path + \"SampleSubmission (8).csv\")"
      ],
      "execution_count": 4,
      "outputs": [
        {
          "output_type": "stream",
          "text": [
            "CPU times: user 663 ms, sys: 83 ms, total: 746 ms\n",
            "Wall time: 4.96 s\n"
          ],
          "name": "stdout"
        }
      ]
    },
    {
      "cell_type": "markdown",
      "metadata": {
        "id": "aeku4adXQ96C",
        "colab_type": "text"
      },
      "source": [
        "# **Create final train & test**"
      ]
    },
    {
      "cell_type": "code",
      "metadata": {
        "id": "aKNP7be1UYut",
        "colab_type": "code",
        "colab": {}
      },
      "source": [
        "def reduce_mem_usage(df, verbose=True):\n",
        "  numerics = ['int16', 'int32', 'int64', 'float16', 'float32', 'float64']\n",
        "  start_mem = df.memory_usage().sum() / 1024**2\n",
        "  for col in df.columns:\n",
        "      col_type = df[col].dtypes\n",
        "      if col_type in numerics:\n",
        "          c_min = df[col].min()\n",
        "          c_max = df[col].max()\n",
        "          if str(col_type)[:3] == 'int':\n",
        "              if c_min > np.iinfo(np.int8).min and c_max < np.iinfo(np.int8).max:\n",
        "                  df[col] = df[col].astype(np.int8)\n",
        "              elif c_min > np.iinfo(np.int16).min and c_max < np.iinfo(np.int16).max:\n",
        "                  df[col] = df[col].astype(np.int16)\n",
        "              elif c_min > np.iinfo(np.int32).min and c_max < np.iinfo(np.int32).max:\n",
        "                  df[col] = df[col].astype(np.int32)\n",
        "              elif c_min > np.iinfo(np.int64).min and c_max < np.iinfo(np.int64).max:\n",
        "                  df[col] = df[col].astype(np.int64)\n",
        "          else:\n",
        "              if c_min > np.finfo(np.float16).min and c_max < np.finfo(np.float16).max:\n",
        "                  df[col] = df[col].astype(np.float16)\n",
        "              elif c_min > np.finfo(np.float32).min and c_max < np.finfo(np.float32).max:\n",
        "                  df[col] = df[col].astype(np.float32)\n",
        "              else:\n",
        "                  df[col] = df[col].astype(np.float64)\n",
        "\n",
        "  end_mem = df.memory_usage().sum() / 1024**2\n",
        "  print('Memory usage after optimization is: {:.2f} MB'.format(end_mem))\n",
        "  print('Decreased by {:.1f}%'.format(100 * (start_mem - end_mem) / start_mem))\n",
        "\n",
        "  return df"
      ],
      "execution_count": 5,
      "outputs": []
    },
    {
      "cell_type": "code",
      "metadata": {
        "id": "9LLBg7K8Wa60",
        "colab_type": "code",
        "colab": {}
      },
      "source": [
        "def prepare_orders(orders) :\n",
        "    \n",
        "    ################################### Vendor Statistics  ###################################################################\n",
        "\n",
        "    vendor_stats = orders.groupby(by=\"vendor_id\",as_index=False).agg({ \n",
        "        'customer_id':['count','nunique'],\n",
        "        'item_count':['mean','min' ,'std'],\n",
        "        'grand_total':['mean','min' ,'std'],\n",
        "        'driver_rating' : ['mean','std'],\n",
        "        'deliverydistance' : ['std','mean','min'],\n",
        "        \n",
        "        })\n",
        "    vendor_stats.columns = [\"_\".join(x) for x in vendor_stats.columns.ravel()]\n",
        "    \n",
        "    vendor_stats['nb_reordered'] = (vendor_stats['customer_id_count']-vendor_stats['customer_id_nunique'])\n",
        "    \n",
        "    \n",
        "    return vendor_stats"
      ],
      "execution_count": 6,
      "outputs": []
    },
    {
      "cell_type": "code",
      "metadata": {
        "id": "ztRP-weCUgIj",
        "colab_type": "code",
        "colab": {}
      },
      "source": [
        "def prepare_vendors(vendors,vendor_stats):\n",
        "\n",
        "      #merging stats with vendors\n",
        "      vendors = pd.merge(vendors,vendor_stats,how=\"left\",right_on=\"vendor_id_\",left_on=\"v_id\")\n",
        "      \n",
        "      \n",
        "      \n",
        "      \n",
        "      ############################################   FEATURE ENGINEERING  ON VENDORS ###############################################\n",
        "      \n",
        "      vendors['length_of_tags'] = vendors['v_vendor_tag_name'].str.split(',').str.len().fillna(0).astype('int')\n",
        "      vendors['quality'] = vendors['length_of_tags'] * vendors['v_vendor_rating']\n",
        "      \n",
        "      \n",
        "      \n",
        "      #################################     Here i will calculate Hours of work  & services per week   ###################################\n",
        "      \n",
        "      \n",
        "      \n",
        "      vendors['v_total_hours_per_week'] = 0\n",
        "      vendors['v_total_services_per_week'] = 0\n",
        "\n",
        "      for i , col in enumerate([('v_sunday_from_time2','v_sunday_to_time2'),('v_monday_from_time2','v_monday_to_time2'),('v_tuesday_from_time2','v_tuesday_to_time2'),('v_wednesday_from_time2','v_wednesday_to_time2'),('v_thursday_from_time2','v_thursday_to_time2'),('v_friday_from_time2','v_friday_to_time2'),('v_saturday_from_time2','v_saturday_to_time2')]) :\n",
        "            vendors[col[0]] = pd.to_datetime(vendors[col[0]], yearfirst=True)\n",
        "            vendors[col[1]] = pd.to_datetime(vendors[col[1]], yearfirst=True)\n",
        "            #hours\n",
        "            vendors[f'time2_diff_of_day_{i}'] = vendors[col[1]] - vendors[col[0]]\n",
        "            vendors[f'time2_diff_of_day_{i}']  =vendors[f'time2_diff_of_day_{i}'].apply(number_of_hours)\n",
        "            vendors['v_total_hours_per_week']  = vendors['v_total_hours_per_week'] + vendors[f'time2_diff_of_day_{i}']\n",
        "\n",
        "            del vendors[f'time2_diff_of_day_{i}']\n",
        "            #minutes\n",
        "            vendors[f'time2_diff_minutes_of_day_{i}'] = vendors[col[1]] - vendors[col[0]]\n",
        "            \n",
        "            vendors[f'time2_diff_minutes_of_day_{i}']  =vendors[f'time2_diff_minutes_of_day_{i}'].apply(number_of_minutes)\n",
        "            vendors[f'estimated_number_of_services_on_day_{i}'] = vendors[f'time2_diff_minutes_of_day_{i}'] // vendors['v_prepration_time']\n",
        "            vendors['v_total_services_per_week'] = vendors['v_total_services_per_week'] + vendors[f'estimated_number_of_services_on_day_{i}']\n",
        "\n",
        "            del vendors[f'time2_diff_minutes_of_day_{i}']\n",
        "            del vendors[f'estimated_number_of_services_on_day_{i}']\n",
        "\n",
        "        \n",
        "\n",
        "      return vendors"
      ],
      "execution_count": 7,
      "outputs": []
    },
    {
      "cell_type": "code",
      "metadata": {
        "id": "Hp8vMTsAGani",
        "colab_type": "code",
        "colab": {}
      },
      "source": [
        "def pre_final_df(train_customers,train_locations,vendors) :\n",
        "      train_customers = train_customers.drop_duplicates(\"akeed_customer_id\").reset_index()\n",
        "      train_locations=train_locations.rename(columns = {\"customer_id\":\"akeed_customer_id\"})\n",
        "      First_Train= train_customers.merge(train_locations,on=\"akeed_customer_id\",how=\"right\")\n",
        "      First_Train = First_Train.add_prefix('cust_')\n",
        "       \n",
        "      pre_Final_df = vendors.assign(key=1).merge(First_Train.assign(key=1), on='key').drop('key',axis=1)\n",
        "\n",
        "      return pre_Final_df"
      ],
      "execution_count": 8,
      "outputs": []
    },
    {
      "cell_type": "code",
      "metadata": {
        "id": "3TIGGCfrUgL2",
        "colab_type": "code",
        "colab": {}
      },
      "source": [
        "def number_of_hours(duration):\n",
        "    time_s = duration.total_seconds()\n",
        "    nb_hours = divmod(time_s, 3600)[0]\n",
        "    return nb_hours"
      ],
      "execution_count": 9,
      "outputs": []
    },
    {
      "cell_type": "code",
      "metadata": {
        "id": "6xF7IJTdUgRM",
        "colab_type": "code",
        "colab": {}
      },
      "source": [
        "def number_of_minutes(duration):\n",
        "    time_s = duration.total_seconds()\n",
        "    nb_minutes = divmod(time_s, 60)[0]\n",
        "    return nb_minutes"
      ],
      "execution_count": 10,
      "outputs": []
    },
    {
      "cell_type": "code",
      "metadata": {
        "id": "gRqygZ27CXHE",
        "colab_type": "code",
        "colab": {}
      },
      "source": [
        "def days(duration):\n",
        "    time_s = duration.total_seconds()\n",
        "    nb_days = divmod(time_s, 86400)[0]\n",
        "    return nb_days"
      ],
      "execution_count": 11,
      "outputs": []
    },
    {
      "cell_type": "code",
      "metadata": {
        "id": "wA_pCKO4DKXT",
        "colab_type": "code",
        "colab": {}
      },
      "source": [
        "def haversine(lat1, lon1, lat2, lon2 ):\n",
        "    \n",
        "    \n",
        "    lat1, lon1, lat2, lon2 = map(np.radians, (lat1, lon1, lat2, lon2))\n",
        "    lat_diff = lat2 - lat1\n",
        "    long_diff = lon2 - lon1\n",
        "    distance = np.sin(lat_diff * 0.5) ** 2 + np.cos(lat1) * np.cos(lat2) * np.sin(long_diff * 0.5) ** 2\n",
        "    haversine_ = 2 * 6371 * np.arcsin(np.sqrt(distance))\n",
        "    return haversine_"
      ],
      "execution_count": 12,
      "outputs": []
    },
    {
      "cell_type": "code",
      "metadata": {
        "id": "ZFSpfFAzECkb",
        "colab_type": "code",
        "colab": {}
      },
      "source": [
        "def distance(lat1, lon1, lat2, lon2):\n",
        "    p = 0.017453292519943295 # Pi/180\n",
        "    a = 0.5 - np.cos((lat2 - lat1) * p)/2 + np.cos(lat1 * p) * np.cos(lat2 * p) * (1 - np.cos((lon2 - lon1) * p)) / 2\n",
        "    return 0.6213712 * 12742 * np.arcsin(np.sqrt(a))"
      ],
      "execution_count": 13,
      "outputs": []
    },
    {
      "cell_type": "code",
      "metadata": {
        "id": "E9DRaqP3DKZ7",
        "colab_type": "code",
        "colab": {}
      },
      "source": [
        "def manhattan_distance(lat1, lon1, lat2, lon2):\n",
        "    \n",
        "    h1 = haversine(lat1, lon1, lat1, lon2)\n",
        "    h2 = haversine(lat1, lon1, lat2, lon1)\n",
        "    return h1 + h2"
      ],
      "execution_count": 14,
      "outputs": []
    },
    {
      "cell_type": "code",
      "metadata": {
        "id": "-2tHQe2hDKcz",
        "colab_type": "code",
        "colab": {}
      },
      "source": [
        "def bearing(lat1, lon1, lat2, lon2):\n",
        "    lon_rad = np.radians(lon2 - lon1)\n",
        "    lat1, lon1, lat2, lon2 = map(np.radians, (lat1, lon1, lat2, lon2))\n",
        "    \n",
        "    return np.degrees(np.arctan2(np.sin(lon_rad) * np.cos(lat2), np.cos(lat1) * np.sin(lat2) - np.sin(lat1) * np.cos(lat2) * np.cos(lon_rad)))"
      ],
      "execution_count": 15,
      "outputs": []
    },
    {
      "cell_type": "code",
      "metadata": {
        "id": "jPe03jG_yfff",
        "colab_type": "code",
        "colab": {}
      },
      "source": [
        "def sphere_volume(r):\n",
        "  pi = 3.1415926535897931\n",
        "  V= 4.0/3.0*pi* r**3\n",
        "  return V "
      ],
      "execution_count": 16,
      "outputs": []
    },
    {
      "cell_type": "code",
      "metadata": {
        "id": "_n4P7bAyyvgA",
        "colab_type": "code",
        "colab": {}
      },
      "source": [
        "def radian_conv(degree):\n",
        "    \"\"\"\n",
        "    Return radian.\n",
        "    \"\"\"\n",
        "    return  np.radians(degree) "
      ],
      "execution_count": 17,
      "outputs": []
    },
    {
      "cell_type": "code",
      "metadata": {
        "id": "C81AEiV26yPJ",
        "colab_type": "code",
        "colab": {}
      },
      "source": [
        "def calculateDistance2D(x1,y1,x2,y2):  \n",
        "  \"\"\"\n",
        "  return 2D distance\n",
        "  \"\"\"\n",
        "  dist = np.sqrt((x2 - x1)**2 + (y2 - y1)**2)  \n",
        "  return dist  "
      ],
      "execution_count": 18,
      "outputs": []
    },
    {
      "cell_type": "code",
      "metadata": {
        "id": "rpVOfX2nOtcl",
        "colab_type": "code",
        "colab": {}
      },
      "source": [
        "def process_df(df):\n",
        "    \n",
        "     \n",
        "\n",
        "    ################################ Distance FEATURE ENGINEERING #########################################################\n",
        "    \n",
        "    df['harvesine_dist'] = haversine(df['cust_latitude'], df['cust_longitude'], df['v_latitude'], df['v_longitude']) /1000\n",
        "    df['manhattan_dist'] = manhattan_distance(df['cust_latitude'], df['cust_longitude'], df['v_latitude'], df['v_longitude']) /1000\n",
        "    df['other_dist'] = distance(df['cust_latitude'], df['cust_longitude'], df['v_latitude'], df['v_longitude']) /1000\n",
        "    df['bearing'] = bearing(df['cust_latitude'], df['cust_longitude'], df['v_latitude'], df['v_longitude']) \n",
        "    \n",
        "    #distance ratio\n",
        "    df['distance_ratio_1'] = df['harvesine_dist'] / df['v_serving_distance']\n",
        "    df['distance_ratio_2'] = df['manhattan_dist'] / df['v_serving_distance']\n",
        "    df['distance_ratio_3'] = df['other_dist'] / df['v_serving_distance']\n",
        "\n",
        "    #distance diffirence\n",
        "    df['distance_diff_1'] = df['harvesine_dist'] - df['v_serving_distance']\n",
        "    df['distance_diff_2'] = df['manhattan_dist'] - df['v_serving_distance']\n",
        "    df['distance_diff_3'] = df['other_dist'] - df['v_serving_distance']\n",
        "\n",
        "    \n",
        "    ################################ SIMPLE FEATURE ENGINEERING #########################################################\n",
        "    df['cust_gender'] = df.cust_gender.str.strip()   # remove spaces\n",
        "    df.replace({'cust_gender': {'male': 'Male', '?????': 'NaN', '': 'NaN'}}, inplace=True)    \n",
        "    df.replace({'v_OpeningTime2': {'-': 'NaN'}}, inplace=True)\n",
        "    \n",
        "    ################################ LATITUDE & LOGITUDE FEATURE ENGINEERING #########################################################\n",
        "    # 1-Original Latitude & longitude \n",
        "    # Centre \n",
        "    df['center_latitude'] = (df['cust_latitude'].values + df['v_latitude'].values) / 2\n",
        "    df['center_longitude'] = (df['cust_longitude'].values + df['v_longitude'].values) / 2\n",
        "    # Convulution + ration of diffirence \n",
        "    df['conv1'] = df['cust_latitude']*df['v_latitude'] # remove abs\n",
        "    df['conv2'] = df['cust_longitude']*df['v_longitude'] # remove abs\n",
        "    \n",
        "    df['conv3'] = df['conv1'] *df['conv2']\n",
        "\n",
        "    df['SUM_LAT_LONG'] = df['cust_latitude'] + df['v_latitude'] + df['cust_longitude'] + df['v_longitude'] \n",
        "\n",
        "    df['relation1'] = (df['cust_latitude']-df['cust_longitude']) / (df['v_latitude']-df['v_longitude']) # remove abs\n",
        "    \n",
        "    df['relation2'] = df['SUM_LAT_LONG'] /   df['conv3'] \n",
        "    \n",
        "    df['relation3'] = (df['cust_latitude']+df['cust_longitude']) / (df['v_latitude']+df['v_longitude']) # new \n",
        "    \n",
        "    # 2- Apply radiant to latitude & longitude \n",
        "    df['cust_radiant_latitude'] = radian_conv(df['cust_latitude'])\n",
        "    df['cust_radiant_longitude'] = radian_conv(df['cust_longitude']) \n",
        "    \n",
        "    df['v_radiant_latitude'] = radian_conv(df['v_latitude']) \n",
        "    df['v_radiant_longitude'] = radian_conv(df['v_longitude']) \n",
        "    \n",
        "    df['center_radiant_latitude'] = (df['cust_radiant_latitude'].values + df['v_radiant_latitude'].values) / 2\n",
        "    df['center_radiant_longitude'] = (df['cust_radiant_longitude'].values + df['v_radiant_longitude'].values) / 2\n",
        "\n",
        "    df['radiant_conv1'] = abs(df['cust_radiant_latitude']*df['v_radiant_latitude'])\n",
        "    df['radiant_conv2'] = abs(df['cust_radiant_longitude']*df['v_radiant_longitude'])\n",
        "\n",
        "    #3-Apply cos and sin : Normalization :) \n",
        "      ## customer\n",
        "    df['cust_latitude_cos'] = np.cos(df['cust_radiant_latitude'])\n",
        "    df['cust_latitude_sin'] = np.sin(df['cust_radiant_latitude'])\n",
        "    df['cust_longitude_cos'] = np.cos(df['cust_radiant_longitude'])\n",
        "    df['cust_longitude_sin'] = np.sin(df['cust_radiant_longitude'])\n",
        "\n",
        "     ##customer transforming to x y z coordinates \n",
        "    df['cust_x_coordinate'] = df['cust_longitude_cos'] * df['cust_latitude_cos']\n",
        "    df['cust_y_coordinate'] = df['cust_longitude_sin'] * df['cust_latitude_cos']\n",
        "    df['cust_z_coordinate'] = df['cust_latitude_sin']\n",
        "\n",
        "     ## VENDOR\n",
        "    df['v_latitude_cos'] = np.cos(df['v_radiant_latitude'])\n",
        "    df['v_latitude_sin'] = np.sin(df['v_radiant_latitude'])\n",
        "    df['v_longitude_cos'] = np.cos(df['v_radiant_longitude'])\n",
        "    df['v_longitude_sin'] = np.sin(df['v_radiant_longitude'])    \n",
        "\n",
        "     ## VENDOR transforming to x y z coordinates \n",
        "    df['v_x_coordinate'] = df['v_longitude_cos'] * df['v_latitude_cos']\n",
        "    df['v_y_coordinate'] = df['v_longitude_sin'] * df['v_latitude_cos']\n",
        "    df['v_z_coordinate'] = df['v_latitude_sin'] \n",
        "\n",
        "\n",
        "\n",
        "\n",
        "    # OTHER PROPOSED features \n",
        "    df['time_consuming'] = (df['distance_diff_1'] / 30) / (df['v_prepration_time'] * 5 )  \n",
        "\n",
        "    # distance 2D space between vendor customer \n",
        "    df['2D_distance'] = calculateDistance2D(df['cust_x_coordinate'],df['cust_y_coordinate'],df['v_x_coordinate'],df['v_y_coordinate'])\n",
        "\n",
        "    #sphere volume ########### New \n",
        "    df['sphere_cust']= sphere_volume(df['2D_distance'])\n",
        "    df['sphere_v']= sphere_volume(df['v_serving_distance'])\n",
        "\n",
        "    \n",
        "\n",
        "    ################################ TIME FEATURE ENGINEERING #########################################################\n",
        "\n",
        "    df['cust_created_at'] = pd.to_datetime(df['cust_created_at'], yearfirst=True)\n",
        "    df['cust_updated_at'] = pd.to_datetime(df['cust_updated_at'], yearfirst=True)\n",
        "    df['v_created_at'] = pd.to_datetime(df['v_created_at'], yearfirst=True)\n",
        "    df['v_updated_at'] = pd.to_datetime(df['v_updated_at'], yearfirst=True)\n",
        "\n",
        "    df['cust_diff_update_create'] = df['cust_updated_at'] - df['cust_created_at']\n",
        "    df['v_diff_update_create'] = df['v_updated_at'] - df['v_created_at']\n",
        "    df['cust_v_diff_create'] = df['v_created_at'] - df['cust_created_at']\n",
        "    df['cust_v_diff_update'] = df['v_updated_at'] - df['cust_updated_at']\n",
        "\n",
        "    df['cust_diff_update_create'] = df['cust_diff_update_create'].apply(days)\n",
        "    df['v_diff_update_create'] = df['v_diff_update_create'].apply(days)\n",
        "    df['cust_v_diff_create'] = df['cust_v_diff_create'].apply(days)\n",
        "    df['cust_v_diff_update'] = df['cust_v_diff_update'].apply(days)\n",
        "    \n",
        "    df['year_cust_created_at'] = df['cust_created_at'].dt.year\n",
        "    df['month_cust_created_at'] = df['cust_created_at'].dt.month\n",
        "    df['doy_cust_created_at'] = df['cust_created_at'].dt.dayofyear\n",
        "    df['woy_cust_created_at'] = df['cust_created_at'].dt.weekofyear\n",
        "    df['wday_cust_created_at'] = df['cust_created_at'].dt.weekday\n",
        "\n",
        "    df['year_cust_updated_at'] = df['cust_updated_at'].dt.year\n",
        "    df['month_cust_updated_at'] = df['cust_updated_at'].dt.month\n",
        "    df['doy_cust_updated_at'] = df['cust_updated_at'].dt.dayofyear\n",
        "    df['woy_cust_updated_at'] = df['cust_updated_at'].dt.weekofyear\n",
        "    df['wday_cust_updated_at'] = df['cust_updated_at'].dt.weekday\n",
        "\n",
        "    df['year_v_created_at'] = df['v_created_at'].dt.year\n",
        "    df['month_v_created_at'] = df['v_created_at'].dt.month\n",
        "    df['doy_v_created_at'] = df['v_created_at'].dt.dayofyear\n",
        "    df['woy_v_created_at'] = df['v_created_at'].dt.weekofyear\n",
        "    df['wday_v_created_at'] = df['v_created_at'].dt.weekday\n",
        "\n",
        "    df['year_v_updated_at'] = df['v_updated_at'].dt.year\n",
        "    df['month_v_updated_at'] = df['v_updated_at'].dt.month\n",
        "    df['doy_v_updated_at'] = df['v_updated_at'].dt.dayofyear\n",
        "    df['woy_v_updated_at'] = df['v_updated_at'].dt.weekofyear\n",
        "    df['wday_v_updated_at'] = df['v_updated_at'].dt.weekday\n",
        "    \n",
        "    del df['cust_created_at']\n",
        "    del df['cust_updated_at']\n",
        "    del df['v_created_at']\n",
        "    del df['v_updated_at']\n",
        "    gc.collect()\n",
        "    \n",
        "    \n",
        "    #################################   Statistics Based on CUSTOMER ID :D ################################################################\n",
        "    distance_statique = df.groupby(by=\"cust_akeed_customer_id\",as_index=False).agg({ \n",
        "        'distance_diff_2':['mean','min','max'],\n",
        "        'distance_ratio_2' : ['max','min','mean'],\n",
        "        'harvesine_dist' : ['std','mean'],\n",
        "        'bearing' : ['std','median','min','max'], ## add median min max \n",
        "        'SUM_LAT_LONG' :['std','mean','min','max'], \n",
        "        'relation1' :['std','mean'],\n",
        "        'relation2' :['std','mean'],\n",
        "        'relation3' :['std','mean','min'],\n",
        "        'center_longitude' : ['std','mean'] ,\n",
        "        'center_latitude' : ['std','mean'] ,\n",
        "        'cust_diff_update_create' : ['mean','std','max','min'],\n",
        "        'cust_v_diff_update' : ['mean','max','min'],\n",
        "        'cust_v_diff_create' : ['mean','min','max'],\n",
        "        'conv3' : ['std','mean','min','max'], # new mean \n",
        "        'radiant_conv1' : ['mean',],\n",
        "        'radiant_conv2' : ['mean',],\n",
        "        'v_id':['nunique'],\n",
        "        'time_consuming' : ['std','mean'],\n",
        "        '2D_distance' : ['std','mean','max','min','median'],\n",
        "       })\n",
        "    distance_statique.columns = [\"_\".join(x) for x in distance_statique.columns.ravel()]\n",
        "    \n",
        "    df = pd.merge(df,distance_statique,how=\"left\",right_on=\"cust_akeed_customer_id_\",left_on=\"cust_akeed_customer_id\")\n",
        "\n",
        "    df['realtion4'] = df['relation3_mean'] * df['relation1_mean']\n",
        "    df['relation5'] = 2*df['conv3_mean'] / df['SUM_LAT_LONG_mean']\n",
        "\n",
        "    df['quality2'] = df['cust_v_diff_update_mean'] - df['cust_v_diff_create_mean'] \n",
        "    df['quality3'] = df['time_consuming_mean'] * df['v_vendor_rating']\n",
        "\n",
        "    df['speed_max'] = df['cust_v_diff_update_max'] -df['cust_v_diff_update_min']\n",
        "    df['factor_of_speed'] = df['harvesine_dist_mean'] / df['time_consuming_mean']\n",
        "\n",
        "    df['customer_choice'] = df['v_vendor_rating'] /  df['v_id_nunique']\n",
        "    df['ratio_distance_2D'] = df['2D_distance_max'] / df['2D_distance_min']\n",
        "\n",
        "    ##################################### Statistics based on location number #####################################\n",
        "    create_update_statique = df.groupby(by=\"cust_location_number\",as_index=False).agg({ \n",
        "        'cust_akeed_customer_id':['count','nunique'],\n",
        "        'v_id':['count','nunique'],\n",
        "        'v_serving_distance' :['mean'],\n",
        "\n",
        "        'v_vendor_rating':['mean','std'],\n",
        "        'length_of_tags' :['mean'],\n",
        "        'cust_dob' : ['mean','std'],\n",
        "        'harvesine_dist' : ['mean'],\n",
        "\n",
        "\n",
        "       })\n",
        "    create_update_statique.columns = [\"_perlocation_\".join(x) for x in create_update_statique.columns.ravel()]\n",
        "    #############\n",
        "    create_update_statique['pure_vendors'] = create_update_statique['v_id_perlocation_count'] - create_update_statique['v_id_perlocation_nunique']\n",
        "    \n",
        "    df = pd.merge(df,create_update_statique,how=\"left\",right_on=\"cust_location_number_perlocation_\",left_on=\"cust_diff_update_create\")\n",
        "\n",
        "    \n",
        "    return df"
      ],
      "execution_count": 19,
      "outputs": []
    },
    {
      "cell_type": "markdown",
      "metadata": {
        "id": "-zpMH2JBWm9S",
        "colab_type": "text"
      },
      "source": [
        "# **Apply**"
      ]
    },
    {
      "cell_type": "code",
      "metadata": {
        "id": "VjDoelr4ZQIb",
        "colab_type": "code",
        "colab": {}
      },
      "source": [
        "from sklearn.preprocessing import LabelEncoder\n",
        "le = LabelEncoder()\n",
        "def Label_enc(df) :\n",
        "    le_cols =  ['v_sunday_from_time1','v_sunday_to_time1','v_monday_from_time1','v_monday_to_time1','v_tuesday_from_time1',\n",
        "                'v_tuesday_to_time1','v_tuesday_to_time2',\n",
        "                 'v_wednesday_from_time1','v_wednesday_to_time1','v_thursday_from_time1','v_thursday_to_time1','v_friday_from_time1',\n",
        "                 'v_friday_to_time1','v_saturday_from_time1','v_saturday_to_time1',\n",
        "                 'v_sunday_from_time2','v_sunday_to_time2','v_monday_from_time2','v_monday_to_time2','v_tuesday_from_time2',\n",
        "                'v_wednesday_from_time2','v_wednesday_to_time2','v_thursday_from_time2','v_thursday_to_time2','v_friday_from_time2',\n",
        "                 'v_friday_to_time2','v_saturday_from_time2','v_saturday_to_time2',]\n",
        "    for col in le_cols:\n",
        "    \n",
        "      df[col][pd.isnull(df[col])]  = 'nan'\n",
        "      df[col+'LAB_ENC']= le.fit_transform(df[col])\n",
        "    return df"
      ],
      "execution_count": 20,
      "outputs": []
    },
    {
      "cell_type": "code",
      "metadata": {
        "id": "clZM7IqEZSAp",
        "colab_type": "code",
        "colab": {
          "base_uri": "https://localhost:8080/",
          "height": 51
        },
        "outputId": "c8b172ce-d656-4d1c-c615-53063f4e0ea1"
      },
      "source": [
        "%%time\n",
        "vendors = Label_enc(vendors)"
      ],
      "execution_count": 21,
      "outputs": [
        {
          "output_type": "stream",
          "text": [
            "CPU times: user 64.1 ms, sys: 0 ns, total: 64.1 ms\n",
            "Wall time: 66.4 ms\n"
          ],
          "name": "stdout"
        }
      ]
    },
    {
      "cell_type": "code",
      "metadata": {
        "id": "OLw9tWIcWgW6",
        "colab_type": "code",
        "colab": {
          "base_uri": "https://localhost:8080/",
          "height": 51
        },
        "outputId": "702cf3b3-7b1c-4496-8da9-376bd0595d36"
      },
      "source": [
        "%%time\n",
        "vendor_stats = prepare_orders(orders)\n",
        "vendors = prepare_vendors(vendors,vendor_stats)"
      ],
      "execution_count": 22,
      "outputs": [
        {
          "output_type": "stream",
          "text": [
            "CPU times: user 168 ms, sys: 2.68 ms, total: 170 ms\n",
            "Wall time: 228 ms\n"
          ],
          "name": "stdout"
        }
      ]
    },
    {
      "cell_type": "code",
      "metadata": {
        "id": "fUwrwttvZUcS",
        "colab_type": "code",
        "colab": {}
      },
      "source": [
        "vendors.drop(['v_sunday_from_time1','v_sunday_to_time1','v_monday_from_time1','v_monday_to_time1','v_tuesday_from_time1','v_tuesday_to_time1',\n",
        "            'v_wednesday_from_time1','v_wednesday_to_time1','v_thursday_from_time1','v_thursday_to_time1','v_friday_from_time1',\n",
        "            'v_friday_to_time1','v_saturday_from_time1','v_saturday_to_time1',\n",
        "            'v_sunday_from_time2','v_sunday_to_time2','v_monday_from_time2','v_monday_to_time2','v_tuesday_from_time2',\n",
        "\n",
        "            'v_wednesday_from_time2','v_wednesday_to_time2','v_thursday_from_time2','v_thursday_to_time2','v_friday_from_time2',\n",
        "            'v_friday_to_time2','v_saturday_from_time2','v_saturday_to_time2',\n",
        "            'v_monday_from_time1LAB_ENC',\t'v_monday_to_time1LAB_ENC'\t,'v_tuesday_from_time1LAB_ENC'\t,'v_tuesday_to_time1LAB_ENC',\t\n",
        "            'v_thursday_to_time1LAB_ENC',\t'v_friday_from_time1LAB_ENC',\t'v_friday_to_time1LAB_ENC' ,'v_wednesday_to_time1LAB_ENC',\n",
        "            'v_friday_from_time2LAB_ENC',\t'v_friday_to_time2LAB_ENC', 'vendor_id_','customer_id_count','customer_id_nunique',\n",
        "            'v_thursday_from_time1LAB_ENC'\t,'v_tuesday_to_time2','v_wednesday_from_time1LAB_ENC',\n",
        "            'v_monday_from_time2LAB_ENC' ,\t'v_monday_to_time2LAB_ENC',\t'v_tuesday_from_time2LAB_ENC',\t'v_tuesday_to_time2LAB_ENC',\n",
        "            'v_wednesday_from_time2LAB_ENC',\t'v_wednesday_to_time2LAB_ENC'\t,'v_thursday_from_time2LAB_ENC',\t'v_thursday_to_time2LAB_ENC',],\n",
        "            axis=1,inplace=True)"
      ],
      "execution_count": 23,
      "outputs": []
    },
    {
      "cell_type": "code",
      "metadata": {
        "id": "81ReFHIeEJ_r",
        "colab_type": "code",
        "colab": {
          "base_uri": "https://localhost:8080/",
          "height": 51
        },
        "outputId": "f1681a34-a82c-4031-f52e-2a760aeeb453"
      },
      "source": [
        "%%time\n",
        "\n",
        "pre_Final_train = pre_final_df(train_customers, train_locations, vendors)\n",
        "pre_Final_test = pre_final_df(test_customers, test_locations, vendors)"
      ],
      "execution_count": 24,
      "outputs": [
        {
          "output_type": "stream",
          "text": [
            "CPU times: user 16.6 s, sys: 2.05 s, total: 18.6 s\n",
            "Wall time: 18.6 s\n"
          ],
          "name": "stdout"
        }
      ]
    },
    {
      "cell_type": "code",
      "metadata": {
        "id": "3oCa8BfORy4O",
        "colab_type": "code",
        "colab": {
          "base_uri": "https://localhost:8080/",
          "height": 119
        },
        "outputId": "9f1d3374-573c-4fed-d72c-030224d5a1b6"
      },
      "source": [
        "%%time\n",
        "\n",
        "pre_Final_train = reduce_mem_usage(pre_Final_train)\n",
        "pre_Final_test = reduce_mem_usage(pre_Final_test)"
      ],
      "execution_count": 25,
      "outputs": [
        {
          "output_type": "stream",
          "text": [
            "Memory usage after optimization is: 1322.19 MB\n",
            "Decreased by 57.8%\n",
            "Memory usage after optimization is: 371.53 MB\n",
            "Decreased by 57.8%\n",
            "CPU times: user 11.8 s, sys: 56.1 ms, total: 11.8 s\n",
            "Wall time: 11.8 s\n"
          ],
          "name": "stdout"
        }
      ]
    },
    {
      "cell_type": "code",
      "metadata": {
        "id": "gudXernpEKE7",
        "colab_type": "code",
        "colab": {
          "base_uri": "https://localhost:8080/",
          "height": 51
        },
        "outputId": "2f8a0f61-3341-4302-fefd-af203f27758c"
      },
      "source": [
        "%%time\n",
        "\n",
        "train = process_df(pre_Final_train)\n",
        "test = process_df(pre_Final_test)"
      ],
      "execution_count": 26,
      "outputs": [
        {
          "output_type": "stream",
          "text": [
            "CPU times: user 6min 17s, sys: 4.52 s, total: 6min 22s\n",
            "Wall time: 6min 22s\n"
          ],
          "name": "stdout"
        }
      ]
    },
    {
      "cell_type": "code",
      "metadata": {
        "id": "Y_aBpYYtZ7Gj",
        "colab_type": "code",
        "colab": {
          "base_uri": "https://localhost:8080/",
          "height": 119
        },
        "outputId": "5c601fca-0342-44cb-92c3-10c1396a89a3"
      },
      "source": [
        "%%time\n",
        "train = reduce_mem_usage(train)\n",
        "test = reduce_mem_usage(test)\n",
        "\n",
        "del pre_Final_train , pre_Final_test\n",
        "gc.collect()"
      ],
      "execution_count": 27,
      "outputs": [
        {
          "output_type": "stream",
          "text": [
            "Memory usage after optimization is: 3262.92 MB\n",
            "Decreased by 28.7%\n",
            "Memory usage after optimization is: 916.86 MB\n",
            "Decreased by 28.7%\n",
            "CPU times: user 28.7 s, sys: 91.8 ms, total: 28.8 s\n",
            "Wall time: 28.8 s\n"
          ],
          "name": "stdout"
        }
      ]
    },
    {
      "cell_type": "code",
      "metadata": {
        "id": "CSM-DTebKYpX",
        "colab_type": "code",
        "colab": {}
      },
      "source": [
        "le = LabelEncoder()\n",
        "def Label_enc(df) :\n",
        "    le_cols =  ['cust_location_type','v_OpeningTime','v_OpeningTime2',\n",
        "                  'v_vendor_category_en',\n",
        "                  'cust_gender',] \n",
        "                 \n",
        "                \n",
        "    le_cols = list(set(le_cols))\n",
        "    for col in le_cols:\n",
        "      print(30 * '=')\n",
        "      print('Label_enc TO ---> : ' ,col)\n",
        "      df[col][pd.isnull(df[col])]  = 'nan'\n",
        "      df[col]= le.fit_transform(df[col])\n",
        "    return df"
      ],
      "execution_count": 28,
      "outputs": []
    },
    {
      "cell_type": "code",
      "metadata": {
        "id": "-F7JiSHcPJ-X",
        "colab_type": "code",
        "colab": {
          "base_uri": "https://localhost:8080/",
          "height": 391
        },
        "outputId": "a23c4a5c-81d3-4b63-d462-4181dbd10f91"
      },
      "source": [
        "%%time\n",
        "\n",
        "train = Label_enc(train)\n",
        "test = Label_enc(test)"
      ],
      "execution_count": 29,
      "outputs": [
        {
          "output_type": "stream",
          "text": [
            "==============================\n",
            "Label_enc TO ---> :  v_OpeningTime2\n",
            "==============================\n",
            "Label_enc TO ---> :  cust_gender\n",
            "==============================\n",
            "Label_enc TO ---> :  cust_location_type\n",
            "==============================\n",
            "Label_enc TO ---> :  v_vendor_category_en\n",
            "==============================\n",
            "Label_enc TO ---> :  v_OpeningTime\n",
            "==============================\n",
            "Label_enc TO ---> :  v_OpeningTime2\n",
            "==============================\n",
            "Label_enc TO ---> :  cust_gender\n",
            "==============================\n",
            "Label_enc TO ---> :  cust_location_type\n",
            "==============================\n",
            "Label_enc TO ---> :  v_vendor_category_en\n",
            "==============================\n",
            "Label_enc TO ---> :  v_OpeningTime\n",
            "CPU times: user 11.7 s, sys: 80.1 ms, total: 11.8 s\n",
            "Wall time: 11.8 s\n"
          ],
          "name": "stdout"
        }
      ]
    },
    {
      "cell_type": "code",
      "metadata": {
        "id": "ZNmJT_A4N1Gj",
        "colab_type": "code",
        "colab": {
          "base_uri": "https://localhost:8080/",
          "height": 119
        },
        "outputId": "96df6b1c-2f31-43c3-b1ed-b95d1bbc4fb6"
      },
      "source": [
        "%%time\n",
        "train = reduce_mem_usage(train)\n",
        "test = reduce_mem_usage(test)"
      ],
      "execution_count": 30,
      "outputs": [
        {
          "output_type": "stream",
          "text": [
            "Memory usage after optimization is: 3064.31 MB\n",
            "Decreased by 6.1%\n",
            "Memory usage after optimization is: 861.05 MB\n",
            "Decreased by 6.1%\n",
            "CPU times: user 25.3 s, sys: 41.9 ms, total: 25.4 s\n",
            "Wall time: 25.4 s\n"
          ],
          "name": "stdout"
        }
      ]
    },
    {
      "cell_type": "code",
      "metadata": {
        "id": "CThHBCZSLfmk",
        "colab_type": "code",
        "colab": {}
      },
      "source": [
        "orders=pd.read_csv(path +'orders.csv')\n",
        "\n",
        "def final_train(train,orders):\n",
        "    train[\"CID X LOC_NUM X VENDOR\"] = train[\"cust_akeed_customer_id\"].astype(str)+' X '+ train[\"cust_location_number\"].astype(str)+' X '+ train[\"v_id\"].astype(str)\n",
        "\n",
        "    all_services = orders['CID X LOC_NUM X VENDOR'].values.tolist()\n",
        "    train['target']= train['CID X LOC_NUM X VENDOR'].isin(all_services).astype(int).values\n",
        "    return train\n",
        "\n",
        "def final_test(test) :\n",
        "    test[\"CID X LOC_NUM X VENDOR\"] = test[\"cust_akeed_customer_id\"].astype(str)+' X '+ test[\"cust_location_number\"].astype(str)+' X '+ test[\"v_id\"].astype(str)\n",
        "    return test"
      ],
      "execution_count": 31,
      "outputs": []
    },
    {
      "cell_type": "code",
      "metadata": {
        "id": "SQQqCJNTPi-U",
        "colab_type": "code",
        "colab": {
          "base_uri": "https://localhost:8080/",
          "height": 51
        },
        "outputId": "09ef37e4-04ea-4b08-f9ac-226df2dd3f50"
      },
      "source": [
        "%%time\n",
        "train = final_train(train,orders)\n",
        "test = final_test(test)"
      ],
      "execution_count": 32,
      "outputs": [
        {
          "output_type": "stream",
          "text": [
            "CPU times: user 10.4 s, sys: 1.16 s, total: 11.5 s\n",
            "Wall time: 11.5 s\n"
          ],
          "name": "stdout"
        }
      ]
    },
    {
      "cell_type": "code",
      "metadata": {
        "id": "fRO93O_wXjxw",
        "colab_type": "code",
        "colab": {}
      },
      "source": [
        "train.drop(['cust_index'] ,1,inplace=True)\n",
        "test.drop(['cust_index'] ,1,inplace=True)"
      ],
      "execution_count": 33,
      "outputs": []
    },
    {
      "cell_type": "code",
      "metadata": {
        "id": "1GavVQFXZ_Zs",
        "colab_type": "code",
        "colab": {
          "base_uri": "https://localhost:8080/",
          "height": 119
        },
        "outputId": "523fa4ec-b353-4d61-9d4d-385de1fa846b"
      },
      "source": [
        "%%time\n",
        "train = reduce_mem_usage(train)\n",
        "test = reduce_mem_usage(test)"
      ],
      "execution_count": 34,
      "outputs": [
        {
          "output_type": "stream",
          "text": [
            "Memory usage after optimization is: 3104.03 MB\n",
            "Decreased by 1.3%\n",
            "Memory usage after optimization is: 870.62 MB\n",
            "Decreased by 0.0%\n",
            "CPU times: user 25.1 s, sys: 43.8 ms, total: 25.1 s\n",
            "Wall time: 25.1 s\n"
          ],
          "name": "stdout"
        }
      ]
    },
    {
      "cell_type": "code",
      "metadata": {
        "id": "sBZRWtl4SJuG",
        "colab_type": "code",
        "colab": {
          "base_uri": "https://localhost:8080/",
          "height": 34
        },
        "outputId": "2a021df4-d368-43ff-edc2-fc7e86dc465e"
      },
      "source": [
        "train.shape ,test.shape"
      ],
      "execution_count": 35,
      "outputs": [
        {
          "output_type": "execute_result",
          "data": {
            "text/plain": [
              "((5950300, 207), (1672000, 206))"
            ]
          },
          "metadata": {
            "tags": []
          },
          "execution_count": 35
        }
      ]
    },
    {
      "cell_type": "markdown",
      "metadata": {
        "id": "TQjOtfiC8_j6",
        "colab_type": "text"
      },
      "source": [
        "# **XGB-GPU**"
      ]
    },
    {
      "cell_type": "code",
      "metadata": {
        "id": "ncQAcR6sDf48",
        "colab_type": "code",
        "colab": {
          "base_uri": "https://localhost:8080/",
          "height": 1000
        },
        "outputId": "e0f33707-49f6-40a1-b869-6e5668741688"
      },
      "source": [
        "!pip install --upgrade git+https://github.com/stanfordmlgroup/ngboost.git\n",
        "!pip install catboost\n",
        "\n",
        "!pip install lightgbm\n",
        "!pip install xgboost"
      ],
      "execution_count": 36,
      "outputs": [
        {
          "output_type": "stream",
          "text": [
            "Collecting git+https://github.com/stanfordmlgroup/ngboost.git\n",
            "  Cloning https://github.com/stanfordmlgroup/ngboost.git to /tmp/pip-req-build-6xyre9c5\n",
            "  Running command git clone -q https://github.com/stanfordmlgroup/ngboost.git /tmp/pip-req-build-6xyre9c5\n",
            "Requirement already satisfied, skipping upgrade: numpy>=1.17.2 in /usr/local/lib/python3.6/dist-packages (from ngboost==0.2.4.dev0) (1.18.5)\n",
            "Requirement already satisfied, skipping upgrade: scipy>=1.3.1 in /usr/local/lib/python3.6/dist-packages (from ngboost==0.2.4.dev0) (1.4.1)\n",
            "Requirement already satisfied, skipping upgrade: scikit-learn>=0.21.3 in /usr/local/lib/python3.6/dist-packages (from ngboost==0.2.4.dev0) (0.22.2.post1)\n",
            "Requirement already satisfied, skipping upgrade: tqdm>=4.36.1 in /usr/local/lib/python3.6/dist-packages (from ngboost==0.2.4.dev0) (4.41.1)\n",
            "Collecting lifelines>=0.22.8\n",
            "\u001b[?25l  Downloading https://files.pythonhosted.org/packages/fb/7b/9b2cc2ef870b31ca342f97f5b0cd7a31eda13fcf16de4f55b8121b1144d3/lifelines-0.25.2-py3-none-any.whl (344kB)\n",
            "\u001b[K     |████████████████████████████████| 348kB 3.5MB/s \n",
            "\u001b[?25hRequirement already satisfied, skipping upgrade: joblib>=0.11 in /usr/local/lib/python3.6/dist-packages (from scikit-learn>=0.21.3->ngboost==0.2.4.dev0) (0.16.0)\n",
            "Requirement already satisfied, skipping upgrade: matplotlib>=3.0 in /usr/local/lib/python3.6/dist-packages (from lifelines>=0.22.8->ngboost==0.2.4.dev0) (3.2.2)\n",
            "Requirement already satisfied, skipping upgrade: autograd>=1.3 in /usr/local/lib/python3.6/dist-packages (from lifelines>=0.22.8->ngboost==0.2.4.dev0) (1.3)\n",
            "Collecting autograd-gamma>=0.3\n",
            "  Downloading https://files.pythonhosted.org/packages/0a/07/d99339c9420b58b723a9189d1373e5c3889758b2202a1a7fe4a3b7a10c5a/autograd_gamma-0.4.2-py2.py3-none-any.whl\n",
            "Requirement already satisfied, skipping upgrade: pandas>=0.23.0 in /usr/local/lib/python3.6/dist-packages (from lifelines>=0.22.8->ngboost==0.2.4.dev0) (1.0.5)\n",
            "Requirement already satisfied, skipping upgrade: patsy>=0.5.0 in /usr/local/lib/python3.6/dist-packages (from lifelines>=0.22.8->ngboost==0.2.4.dev0) (0.5.1)\n",
            "Requirement already satisfied, skipping upgrade: python-dateutil>=2.1 in /usr/local/lib/python3.6/dist-packages (from matplotlib>=3.0->lifelines>=0.22.8->ngboost==0.2.4.dev0) (2.8.1)\n",
            "Requirement already satisfied, skipping upgrade: cycler>=0.10 in /usr/local/lib/python3.6/dist-packages (from matplotlib>=3.0->lifelines>=0.22.8->ngboost==0.2.4.dev0) (0.10.0)\n",
            "Requirement already satisfied, skipping upgrade: kiwisolver>=1.0.1 in /usr/local/lib/python3.6/dist-packages (from matplotlib>=3.0->lifelines>=0.22.8->ngboost==0.2.4.dev0) (1.2.0)\n",
            "Requirement already satisfied, skipping upgrade: pyparsing!=2.0.4,!=2.1.2,!=2.1.6,>=2.0.1 in /usr/local/lib/python3.6/dist-packages (from matplotlib>=3.0->lifelines>=0.22.8->ngboost==0.2.4.dev0) (2.4.7)\n",
            "Requirement already satisfied, skipping upgrade: future>=0.15.2 in /usr/local/lib/python3.6/dist-packages (from autograd>=1.3->lifelines>=0.22.8->ngboost==0.2.4.dev0) (0.16.0)\n",
            "Requirement already satisfied, skipping upgrade: pytz>=2017.2 in /usr/local/lib/python3.6/dist-packages (from pandas>=0.23.0->lifelines>=0.22.8->ngboost==0.2.4.dev0) (2018.9)\n",
            "Requirement already satisfied, skipping upgrade: six in /usr/local/lib/python3.6/dist-packages (from patsy>=0.5.0->lifelines>=0.22.8->ngboost==0.2.4.dev0) (1.15.0)\n",
            "Building wheels for collected packages: ngboost\n",
            "  Building wheel for ngboost (setup.py) ... \u001b[?25l\u001b[?25hdone\n",
            "  Created wheel for ngboost: filename=ngboost-0.2.4.dev0-cp36-none-any.whl size=41253 sha256=7953012d770dc47cdcf8d5f07e3723a10533d55e801d628b5fbc17d27d166875\n",
            "  Stored in directory: /tmp/pip-ephem-wheel-cache-ew6ljz_n/wheels/6d/38/b0/7dc3b6546bf28b1cc407b44f75cbecf072fc2bae32e8f6a835\n",
            "Successfully built ngboost\n",
            "Installing collected packages: autograd-gamma, lifelines, ngboost\n",
            "Successfully installed autograd-gamma-0.4.2 lifelines-0.25.2 ngboost-0.2.4.dev0\n",
            "Collecting catboost\n",
            "\u001b[?25l  Downloading https://files.pythonhosted.org/packages/96/6c/6608210b29649267de52001b09e369777ee2a5cfe1c71fa75eba82a4f2dc/catboost-0.24-cp36-none-manylinux1_x86_64.whl (65.9MB)\n",
            "\u001b[K     |████████████████████████████████| 65.9MB 51kB/s \n",
            "\u001b[?25hRequirement already satisfied: graphviz in /usr/local/lib/python3.6/dist-packages (from catboost) (0.10.1)\n",
            "Requirement already satisfied: pandas>=0.24.0 in /usr/local/lib/python3.6/dist-packages (from catboost) (1.0.5)\n",
            "Requirement already satisfied: six in /usr/local/lib/python3.6/dist-packages (from catboost) (1.15.0)\n",
            "Requirement already satisfied: scipy in /usr/local/lib/python3.6/dist-packages (from catboost) (1.4.1)\n",
            "Requirement already satisfied: plotly in /usr/local/lib/python3.6/dist-packages (from catboost) (4.4.1)\n",
            "Requirement already satisfied: numpy>=1.16.0 in /usr/local/lib/python3.6/dist-packages (from catboost) (1.18.5)\n",
            "Requirement already satisfied: matplotlib in /usr/local/lib/python3.6/dist-packages (from catboost) (3.2.2)\n",
            "Requirement already satisfied: pytz>=2017.2 in /usr/local/lib/python3.6/dist-packages (from pandas>=0.24.0->catboost) (2018.9)\n",
            "Requirement already satisfied: python-dateutil>=2.6.1 in /usr/local/lib/python3.6/dist-packages (from pandas>=0.24.0->catboost) (2.8.1)\n",
            "Requirement already satisfied: retrying>=1.3.3 in /usr/local/lib/python3.6/dist-packages (from plotly->catboost) (1.3.3)\n",
            "Requirement already satisfied: cycler>=0.10 in /usr/local/lib/python3.6/dist-packages (from matplotlib->catboost) (0.10.0)\n",
            "Requirement already satisfied: kiwisolver>=1.0.1 in /usr/local/lib/python3.6/dist-packages (from matplotlib->catboost) (1.2.0)\n",
            "Requirement already satisfied: pyparsing!=2.0.4,!=2.1.2,!=2.1.6,>=2.0.1 in /usr/local/lib/python3.6/dist-packages (from matplotlib->catboost) (2.4.7)\n",
            "Installing collected packages: catboost\n",
            "Successfully installed catboost-0.24\n",
            "Requirement already satisfied: lightgbm in /usr/local/lib/python3.6/dist-packages (2.2.3)\n",
            "Requirement already satisfied: scipy in /usr/local/lib/python3.6/dist-packages (from lightgbm) (1.4.1)\n",
            "Requirement already satisfied: numpy in /usr/local/lib/python3.6/dist-packages (from lightgbm) (1.18.5)\n",
            "Requirement already satisfied: scikit-learn in /usr/local/lib/python3.6/dist-packages (from lightgbm) (0.22.2.post1)\n",
            "Requirement already satisfied: joblib>=0.11 in /usr/local/lib/python3.6/dist-packages (from scikit-learn->lightgbm) (0.16.0)\n",
            "Requirement already satisfied: xgboost in /usr/local/lib/python3.6/dist-packages (0.90)\n",
            "Requirement already satisfied: numpy in /usr/local/lib/python3.6/dist-packages (from xgboost) (1.18.5)\n",
            "Requirement already satisfied: scipy in /usr/local/lib/python3.6/dist-packages (from xgboost) (1.4.1)\n"
          ],
          "name": "stdout"
        }
      ]
    },
    {
      "cell_type": "code",
      "metadata": {
        "id": "H98nvXrD9IAp",
        "colab_type": "code",
        "colab": {}
      },
      "source": [
        "import pandas as pd \n",
        "import numpy as np \n",
        "import math\n",
        "from datetime import datetime\n",
        "import random\n",
        "from sklearn import preprocessing  \n",
        "import sklearn \n",
        "from sklearn.metrics import mean_squared_error\n",
        "from sklearn.preprocessing import LabelEncoder\n",
        "from sklearn.model_selection import train_test_split\n",
        "from sklearn.ensemble import RandomForestClassifier\n",
        "from sklearn.metrics import log_loss\n",
        "\n",
        "import pandas as pd\n",
        "import numpy as np\n",
        "import math\n",
        "from numba import jit\n",
        "import lightgbm as lgb\n",
        "import time\n",
        "\n",
        "from sklearn.preprocessing import LabelEncoder\n",
        "from sklearn.model_selection import StratifiedKFold, train_test_split\n",
        "from sklearn.metrics import f1_score, classification_report\n",
        "from scipy.misc import derivative\n",
        "\n",
        "import matplotlib.pyplot as plt\n",
        "import seaborn as sns\n",
        "\n",
        "import gc\n",
        "import warnings\n",
        "warnings.filterwarnings(\"ignore\")\n",
        "from xgboost import XGBClassifier\n",
        "from catboost import CatBoostClassifier\n",
        "import lightgbm as lgb"
      ],
      "execution_count": 37,
      "outputs": []
    },
    {
      "cell_type": "code",
      "metadata": {
        "id": "1syCVrbL_IUc",
        "colab_type": "code",
        "colab": {
          "base_uri": "https://localhost:8080/",
          "height": 85
        },
        "outputId": "1e111c22-8e37-4594-c318-1e476f477a46"
      },
      "source": [
        "%%time\n",
        "train = reduce_mem_usage( train.sort_values(by='cust_akeed_customer_id', ascending=False).reset_index(drop=True) )"
      ],
      "execution_count": 38,
      "outputs": [
        {
          "output_type": "stream",
          "text": [
            "Memory usage after optimization is: 3058.64 MB\n",
            "Decreased by 0.0%\n",
            "CPU times: user 36.2 s, sys: 358 ms, total: 36.6 s\n",
            "Wall time: 36.6 s\n"
          ],
          "name": "stdout"
        }
      ]
    },
    {
      "cell_type": "code",
      "metadata": {
        "id": "Ogf1Vxhj_dwl",
        "colab_type": "code",
        "colab": {
          "base_uri": "https://localhost:8080/",
          "height": 34
        },
        "outputId": "45cc43d1-aa49-4398-d4de-c463cb802171"
      },
      "source": [
        "to_drop = [ 'v_vendor_tag','v_primary_tags','woy_v_updated_at',\n",
        "'v_wednesday_to_time1LAB_ENC','vendor_id_','v_friday_from_time2LAB_ENC','v_monday_to_time2LAB_ENC',\n",
        "'distance_diff_3','cust_akeed_customer_id','v_monday_from_time1LAB_ENC','v_monday_from_time2LAB_ENC',\n",
        "'v_is_akeed_delivering','v_tuesday_to_time2LAB_ENC','cust_customer_id', 'month_cust_created_at','v_z_coordinate','cust_latitude_cos',\n",
        "'v_thursday_from_time2LAB_ENC','CID X LOC_NUM X VENDOR','year_cust_created_at','cust_verified',\n",
        "'Low_option','v_wednesday_from_time1LAB_ENC','Multi_option','cust_language','v_tuesday_from_time1LAB_ENC',\n",
        "'v_tuesday_to_time1LAB_ENC','v_thursday_to_time2LAB_ENC','cust_status',\n",
        "'month_v_created_at','v_thursday_to_time1LAB_ENC','cust_x_coordinate','v_friday_to_time1LAB_ENC',\n",
        "'sphere_v_std','v_tuesday_from_time2LAB_ENC','v_nb_tags','v_is_open','v_display_orders','v_verified','v_vendor_tag_name',\n",
        "'v_wednesday_to_time2LAB_ENC','year_cust_updated_at','woy_v_created_at','v_country_id',\n",
        "'cust_gender','cust_akeed_customer_id_','cust_z_coordinate','v_one_click_vendor',\n",
        "'v_thursday_from_time1LAB_ENC','v_language','month_cust_updated_at','v_city_id',\n",
        "'v_friday_to_time2LAB_ENC','v_authentication_id','target','v_friday_from_time1LAB_ENC',\n",
        "'distance_ratio_3','v_discount_percentage','year_v_updated_at','sphere_v_max',\n",
        "'cust_longitude_cos','v_open_close_flags','year_v_created_at','item_count_min',\n",
        "'v_monday_to_time1LAB_ENC','v_longitude_cos','v_longitude_sin','Medium_option','v_wednesday_from_time2LAB_ENC','v_vendor_category_id',]\n",
        "\n",
        "features = [c for c in train.columns if c not in to_drop]\n",
        "len(features)"
      ],
      "execution_count": 39,
      "outputs": [
        {
          "output_type": "execute_result",
          "data": {
            "text/plain": [
              "165"
            ]
          },
          "metadata": {
            "tags": []
          },
          "execution_count": 39
        }
      ]
    },
    {
      "cell_type": "code",
      "metadata": {
        "id": "Wk1DPfz-_d3g",
        "colab_type": "code",
        "colab": {}
      },
      "source": [
        "target = train['target']\n",
        "X_test = train[features][:892500].values\n",
        "y_test = target[:892500].values\n",
        "\n",
        "X_train = train[features][892500:].values\n",
        "y_train = target[892500:].values"
      ],
      "execution_count": 40,
      "outputs": []
    },
    {
      "cell_type": "code",
      "metadata": {
        "id": "UGkfgIW_9IC0",
        "colab_type": "code",
        "colab": {
          "base_uri": "https://localhost:8080/",
          "height": 51
        },
        "outputId": "24b02ec3-3033-4b59-8d6b-1cdb10cb0e7f"
      },
      "source": [
        "%%time\n",
        "\n",
        "\n",
        "\n",
        "xgb_model  = XGBClassifier(\n",
        "                       n_estimators = 900 ,\n",
        "                       learning_rate=0.1,\n",
        "                       max_depth=8,\n",
        "                       min_child_weight=12,\n",
        "                       scale_pos_weight=7.3,\n",
        "                       seed=1000,\n",
        "                       subsample=1,\n",
        "                       verbosity=1,\n",
        "                       tree_method='gpu_hist',\n",
        "                       gpu_id = 0,\n",
        ")"
      ],
      "execution_count": 41,
      "outputs": [
        {
          "output_type": "stream",
          "text": [
            "CPU times: user 34 µs, sys: 1e+03 ns, total: 35 µs\n",
            "Wall time: 37.9 µs\n"
          ],
          "name": "stdout"
        }
      ]
    },
    {
      "cell_type": "code",
      "metadata": {
        "id": "DyiztOlc9IF9",
        "colab_type": "code",
        "colab": {
          "base_uri": "https://localhost:8080/",
          "height": 170
        },
        "outputId": "7278e041-926a-4040-92b3-ac0e40f7705e"
      },
      "source": [
        "%%time\n",
        "\n",
        "xgb_model.fit(X_train, y_train, eval_metric='auc')"
      ],
      "execution_count": 42,
      "outputs": [
        {
          "output_type": "stream",
          "text": [
            "CPU times: user 1min 59s, sys: 1min 10s, total: 3min 10s\n",
            "Wall time: 3min 10s\n"
          ],
          "name": "stdout"
        },
        {
          "output_type": "execute_result",
          "data": {
            "text/plain": [
              "XGBClassifier(base_score=0.5, booster='gbtree', colsample_bylevel=1,\n",
              "              colsample_bynode=1, colsample_bytree=1, gamma=0, gpu_id=0,\n",
              "              learning_rate=0.1, max_delta_step=0, max_depth=8,\n",
              "              min_child_weight=12, missing=None, n_estimators=900, n_jobs=1,\n",
              "              nthread=None, objective='binary:logistic', random_state=0,\n",
              "              reg_alpha=0, reg_lambda=1, scale_pos_weight=7.3, seed=1000,\n",
              "              silent=None, subsample=1, tree_method='gpu_hist', verbosity=1)"
            ]
          },
          "metadata": {
            "tags": []
          },
          "execution_count": 42
        }
      ]
    },
    {
      "cell_type": "code",
      "metadata": {
        "id": "yW8h4jo---04",
        "colab_type": "code",
        "colab": {}
      },
      "source": [
        "pred_proba_xgb = xgb_model.predict_proba(X_test)[:, 1]"
      ],
      "execution_count": 43,
      "outputs": []
    },
    {
      "cell_type": "code",
      "metadata": {
        "id": "HFjAJ7FM_VzI",
        "colab_type": "code",
        "colab": {
          "base_uri": "https://localhost:8080/",
          "height": 1000
        },
        "outputId": "61a95936-84a3-4173-bf19-4416c2b355da"
      },
      "source": [
        "from sklearn.metrics import f1_score\n",
        "best_score = -1\n",
        "best_threshold = 0\n",
        "score= 0 \n",
        "for i in np.arange(0.45, 0.55, 0.0005):\n",
        "\n",
        "  pred_xgb = (pred_proba_xgb >= i)*1\n",
        "  \n",
        "  score = f1_score(y_test, pred_xgb) \n",
        "  if score > best_score:\n",
        "    best_score= score\n",
        "    best_threshold = i\n",
        "    print(\"Current Best threshold : \",best_threshold )\n",
        "    print(\"Current Best Score : \",best_score )\n",
        "    print(\"********************\")"
      ],
      "execution_count": 44,
      "outputs": [
        {
          "output_type": "stream",
          "text": [
            "Current Best threshold :  0.45\n",
            "Current Best Score :  0.25097915350600125\n",
            "********************\n",
            "Current Best threshold :  0.4505\n",
            "Current Best Score :  0.2511154004366674\n",
            "********************\n",
            "Current Best threshold :  0.4515\n",
            "Current Best Score :  0.25114271203656674\n",
            "********************\n",
            "Current Best threshold :  0.452\n",
            "Current Best Score :  0.2512639511590194\n",
            "********************\n",
            "Current Best threshold :  0.4525\n",
            "Current Best Score :  0.2513852620852175\n",
            "********************\n",
            "Current Best threshold :  0.453\n",
            "Current Best Score :  0.25152298025707265\n",
            "********************\n",
            "Current Best threshold :  0.4535\n",
            "Current Best Score :  0.2516458932566315\n",
            "********************\n",
            "Current Best threshold :  0.454\n",
            "Current Best Score :  0.2517285531370039\n",
            "********************\n",
            "Current Best threshold :  0.4545\n",
            "Current Best Score :  0.251891753238425\n",
            "********************\n",
            "Current Best threshold :  0.455\n",
            "Current Best Score :  0.2520787184179268\n",
            "********************\n",
            "Current Best threshold :  0.4555\n",
            "Current Best Score :  0.25236532149063523\n",
            "********************\n",
            "Current Best threshold :  0.456\n",
            "Current Best Score :  0.25241027956018447\n",
            "********************\n",
            "Current Best threshold :  0.4575\n",
            "Current Best Score :  0.2524843815751141\n",
            "********************\n",
            "Current Best threshold :  0.46\n",
            "Current Best Score :  0.2525539345278893\n",
            "********************\n",
            "Current Best threshold :  0.4605\n",
            "Current Best Score :  0.2526068054783774\n",
            "********************\n",
            "Current Best threshold :  0.463\n",
            "Current Best Score :  0.2526523887973641\n",
            "********************\n",
            "Current Best threshold :  0.4635\n",
            "Current Best Score :  0.25281362421202014\n",
            "********************\n",
            "Current Best threshold :  0.464\n",
            "Current Best Score :  0.25287660362385933\n",
            "********************\n",
            "Current Best threshold :  0.4645\n",
            "Current Best Score :  0.2529809220985692\n",
            "********************\n",
            "Current Best threshold :  0.4655\n",
            "Current Best Score :  0.2532150333964709\n",
            "********************\n",
            "Current Best threshold :  0.467\n",
            "Current Best Score :  0.25321529981626856\n",
            "********************\n",
            "Current Best threshold :  0.4675\n",
            "Current Best Score :  0.25331280953018337\n",
            "********************\n",
            "Current Best threshold :  0.468\n",
            "Current Best Score :  0.2534701267350634\n",
            "********************\n",
            "Current Best threshold :  0.4685\n",
            "Current Best Score :  0.2534842327971253\n",
            "********************\n",
            "Current Best threshold :  0.47100000000000003\n",
            "Current Best Score :  0.25357457477807144\n",
            "********************\n",
            "Current Best threshold :  0.47150000000000003\n",
            "Current Best Score :  0.25379160587656496\n",
            "********************\n",
            "Current Best threshold :  0.47200000000000003\n",
            "Current Best Score :  0.2538992150599748\n",
            "********************\n",
            "Current Best threshold :  0.47300000000000003\n",
            "Current Best Score :  0.2539877300613497\n",
            "********************\n",
            "Current Best threshold :  0.47350000000000003\n",
            "Current Best Score :  0.253994264645637\n",
            "********************\n",
            "Current Best threshold :  0.47400000000000003\n",
            "Current Best Score :  0.25410284463894967\n",
            "********************\n",
            "Current Best threshold :  0.47450000000000003\n",
            "Current Best Score :  0.2543063593712544\n",
            "********************\n",
            "Current Best threshold :  0.47700000000000004\n",
            "Current Best Score :  0.25443234836702955\n",
            "********************\n",
            "Current Best threshold :  0.47750000000000004\n",
            "Current Best Score :  0.2544825199030807\n",
            "********************\n",
            "Current Best threshold :  0.47950000000000004\n",
            "Current Best Score :  0.2544935209697645\n",
            "********************\n",
            "Current Best threshold :  0.48000000000000004\n",
            "Current Best Score :  0.25460765149399606\n",
            "********************\n",
            "Current Best threshold :  0.48050000000000004\n",
            "Current Best Score :  0.25463319113224697\n",
            "********************\n"
          ],
          "name": "stdout"
        }
      ]
    },
    {
      "cell_type": "code",
      "metadata": {
        "id": "oZl07HooArb_",
        "colab_type": "code",
        "colab": {
          "base_uri": "https://localhost:8080/",
          "height": 34
        },
        "outputId": "01f66b15-a1ff-49b3-9ac9-ab7c7d8e68e5"
      },
      "source": [
        "pred = (pred_proba_xgb >= best_threshold)*1\n",
        "print('F1 Score : {} , mean_preds : {} '.format(f1_score(y_test, pred),np.mean(pred)) )"
      ],
      "execution_count": 45,
      "outputs": [
        {
          "output_type": "stream",
          "text": [
            "F1 Score : 0.25463319113224697 , mean_preds : 0.018568067226890757 \n"
          ],
          "name": "stdout"
        }
      ]
    },
    {
      "cell_type": "code",
      "metadata": {
        "id": "4B8rlzSHArXy",
        "colab_type": "code",
        "colab": {
          "base_uri": "https://localhost:8080/",
          "height": 170
        },
        "outputId": "ef65575f-a4f9-42e7-8b50-b4ead3c348a2"
      },
      "source": [
        "from sklearn.metrics import classification_report\n",
        "print(classification_report(y_test, pred))"
      ],
      "execution_count": 46,
      "outputs": [
        {
          "output_type": "stream",
          "text": [
            "              precision    recall  f1-score   support\n",
            "\n",
            "           0       0.99      0.99      0.99    880474\n",
            "           1       0.22      0.30      0.25     12026\n",
            "\n",
            "    accuracy                           0.98    892500\n",
            "   macro avg       0.61      0.64      0.62    892500\n",
            "weighted avg       0.98      0.98      0.98    892500\n",
            "\n"
          ],
          "name": "stdout"
        }
      ]
    },
    {
      "cell_type": "code",
      "metadata": {
        "id": "sjRJu7tWArTc",
        "colab_type": "code",
        "colab": {}
      },
      "source": [
        "test_id = test['CID X LOC_NUM X VENDOR']\n",
        "full_pred = xgb_model.predict_proba(test[features].values)[:,1]"
      ],
      "execution_count": 47,
      "outputs": []
    },
    {
      "cell_type": "markdown",
      "metadata": {
        "id": "pdNqVgYruwoH",
        "colab_type": "text"
      },
      "source": [
        "# **SAVE - BINARY**"
      ]
    },
    {
      "cell_type": "code",
      "metadata": {
        "id": "dYYZMi89ArPU",
        "colab_type": "code",
        "colab": {
          "base_uri": "https://localhost:8080/",
          "height": 68
        },
        "outputId": "41531fab-3a2c-4451-c753-f29ccfd0eda7"
      },
      "source": [
        "submission = pd.DataFrame()\n",
        "submission['CID X LOC_NUM X VENDOR'] = test_id\n",
        "submission['target'] = (full_pred >= best_threshold)*1\n",
        "submission.target.value_counts()"
      ],
      "execution_count": 48,
      "outputs": [
        {
          "output_type": "execute_result",
          "data": {
            "text/plain": [
              "0    1640069\n",
              "1      31931\n",
              "Name: target, dtype: int64"
            ]
          },
          "metadata": {
            "tags": []
          },
          "execution_count": 48
        }
      ]
    },
    {
      "cell_type": "code",
      "metadata": {
        "id": "y6eM0DvpCTTX",
        "colab_type": "code",
        "colab": {}
      },
      "source": [
        "submission.to_csv('XGBOOST_Binary.csv',index=False)"
      ],
      "execution_count": 54,
      "outputs": []
    },
    {
      "cell_type": "code",
      "metadata": {
        "id": "7E5tJ9EKswiu",
        "colab_type": "code",
        "colab": {}
      },
      "source": [
        "!cp XGBOOST_Binary.csv '/content/drive/My Drive/BEST_blends_akeed'"
      ],
      "execution_count": 55,
      "outputs": []
    },
    {
      "cell_type": "markdown",
      "metadata": {
        "id": "-zvB-aMSu1Xe",
        "colab_type": "text"
      },
      "source": [
        "# **SAVE - FLOATS**"
      ]
    },
    {
      "cell_type": "code",
      "metadata": {
        "id": "zlPhy_jau7Rz",
        "colab_type": "code",
        "colab": {}
      },
      "source": [
        "submission = pd.DataFrame()\n",
        "submission['CID X LOC_NUM X VENDOR'] = test_id\n",
        "submission['target'] = full_pred"
      ],
      "execution_count": 56,
      "outputs": []
    },
    {
      "cell_type": "code",
      "metadata": {
        "id": "n-fsqufgu7Nu",
        "colab_type": "code",
        "colab": {}
      },
      "source": [
        "submission.to_csv('XGBOOST_FLOATS.csv',index=False)\n",
        "!cp XGBOOST_FLOATS.csv '/content/drive/My Drive/BEST_blends_akeed'"
      ],
      "execution_count": 57,
      "outputs": []
    },
    {
      "cell_type": "markdown",
      "metadata": {
        "id": "fM0myZ1l0dFn",
        "colab_type": "text"
      },
      "source": [
        "# **Feature Importance**"
      ]
    },
    {
      "cell_type": "code",
      "metadata": {
        "id": "wVwLjnCAAqQO",
        "colab_type": "code",
        "colab": {}
      },
      "source": [
        "importance_df = pd.DataFrame()\n",
        "importance_df[\"feature\"] = features\n",
        "importance_df[\"importance\"] = xgb_model.feature_importances_*1000"
      ],
      "execution_count": 50,
      "outputs": []
    },
    {
      "cell_type": "code",
      "metadata": {
        "id": "EaROjjLICwsh",
        "colab_type": "code",
        "colab": {
          "base_uri": "https://localhost:8080/",
          "height": 948
        },
        "outputId": "952e8aed-f5f6-496a-e07f-241cfae5d355"
      },
      "source": [
        "plt.figure(figsize=(16, 16))\n",
        "sns.barplot(data=importance_df.sort_values(by='importance', ascending=False).head(70), x='importance', y='feature');\n",
        "plt.title('50 TOP feature importance');"
      ],
      "execution_count": 51,
      "outputs": [
        {
          "output_type": "display_data",
          "data": {
            "image/png": "[encoded data removed]",
            "text/plain": [
              "<Figure size 1152x1152 with 1 Axes>"
            ]
          },
          "metadata": {
            "tags": [],
            "needs_background": "light"
          }
        }
      ]
    },
    {
      "cell_type": "code",
      "metadata": {
        "id": "FPNqMW1mo4lK",
        "colab_type": "code",
        "colab": {}
      },
      "source": [
        ""
      ],
      "execution_count": null,
      "outputs": []
    }
  ]
}