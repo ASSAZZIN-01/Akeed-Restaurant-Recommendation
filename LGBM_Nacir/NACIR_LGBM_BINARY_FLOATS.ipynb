{
  "nbformat": 4,
  "nbformat_minor": 0,
  "metadata": {
    "colab": {
      "name": "NACIR_LGBM_BINARY_FLOATS.ipynb",
      "provenance": [],
      "collapsed_sections": [],
      "machine_shape": "hm"
    },
    "kernelspec": {
      "name": "python3",
      "display_name": "Python 3"
    },
    "accelerator": "GPU"
  },
  "cells": [
    {
      "cell_type": "markdown",
      "metadata": {
        "id": "N93-0Irs5h5J",
        "colab_type": "text"
      },
      "source": [
        "# **Drive Mounting**\n"
      ]
    },
    {
      "cell_type": "markdown",
      "metadata": {
        "id": "OlsjWttw5vLO",
        "colab_type": "text"
      },
      "source": [
        "YOU SHOULD PROVIDE A VALID PATH TO AKEED's FILES"
      ]
    },
    {
      "cell_type": "code",
      "metadata": {
        "id": "NIyfw_BnFYia",
        "colab_type": "code",
        "colab": {}
      },
      "source": [
        "path = \"/content/drive/My Drive/Zindi/Competitions/Akeed_Competition/\""
      ],
      "execution_count": 1,
      "outputs": []
    },
    {
      "cell_type": "code",
      "metadata": {
        "id": "oHdyg1fABxAe",
        "colab_type": "code",
        "colab": {
          "base_uri": "https://localhost:8080/",
          "height": 121
        },
        "outputId": "fc81588e-f23c-4eff-d52c-ff2709101e98"
      },
      "source": [
        "from google.colab import drive\n",
        "drive.mount('/content/drive')"
      ],
      "execution_count": 2,
      "outputs": [
        {
          "output_type": "stream",
          "text": [
            "Go to this URL in a browser: https://accounts.google.com/o/oauth2/auth?client_id=947318989803-6bn6qk8qdgf4n4g3pfee6491hc0brc4i.apps.googleusercontent.com&redirect_uri=urn%3aietf%3awg%3aoauth%3a2.0%3aoob&scope=email%20https%3a%2f%2fwww.googleapis.com%2fauth%2fdocs.test%20https%3a%2f%2fwww.googleapis.com%2fauth%2fdrive%20https%3a%2f%2fwww.googleapis.com%2fauth%2fdrive.photos.readonly%20https%3a%2f%2fwww.googleapis.com%2fauth%2fpeopleapi.readonly&response_type=code\n",
            "\n",
            "Enter your authorization code:\n",
            "··········\n",
            "Mounted at /content/drive\n"
          ],
          "name": "stdout"
        }
      ]
    },
    {
      "cell_type": "markdown",
      "metadata": {
        "id": "sweLqSI1R2HR",
        "colab_type": "text"
      },
      "source": [
        "# **IMPORT DATA**"
      ]
    },
    {
      "cell_type": "code",
      "metadata": {
        "colab_type": "code",
        "id": "IwXlbCfc5ZUP",
        "colab": {}
      },
      "source": [
        "import gc\n",
        "import math\n",
        "import datetime\n",
        "import pandas as pd\n",
        "import numpy as np\n",
        "from sklearn.preprocessing import LabelEncoder\n",
        "\n",
        "import warnings\n",
        "warnings.filterwarnings(\"ignore\")"
      ],
      "execution_count": 3,
      "outputs": []
    },
    {
      "cell_type": "code",
      "metadata": {
        "id": "X06fxVoZmZMb",
        "colab_type": "code",
        "colab": {
          "base_uri": "https://localhost:8080/",
          "height": 50
        },
        "outputId": "f20c320e-6b8d-467b-bb2f-91abf9286dcd"
      },
      "source": [
        "%%time\n",
        "import pandas as pd\n",
        "import warnings\n",
        "warnings.simplefilter('ignore')\n",
        "test_customers=pd.read_csv(path +'test_customers.csv')\n",
        "test_locations=pd.read_csv(path +'test_locations.csv')\n",
        "train_customers=pd.read_csv(path +'train_customers.csv')\n",
        "train_locations=pd.read_csv(path +'train_locations.csv')\n",
        "vendors=pd.read_csv(path +'vendors.csv')\n",
        "vendors = vendors.add_prefix('v_')\n",
        "\n",
        "orders=pd.read_csv(path +'orders.csv')\n"
      ],
      "execution_count": 4,
      "outputs": [
        {
          "output_type": "stream",
          "text": [
            "CPU times: user 621 ms, sys: 85.3 ms, total: 706 ms\n",
            "Wall time: 11.4 s\n"
          ],
          "name": "stdout"
        }
      ]
    },
    {
      "cell_type": "markdown",
      "metadata": {
        "id": "aeku4adXQ96C",
        "colab_type": "text"
      },
      "source": [
        "# **Create final train & test**"
      ]
    },
    {
      "cell_type": "markdown",
      "metadata": {
        "id": "G2QHoWtk6FXU",
        "colab_type": "text"
      },
      "source": [
        "FUNTION TO REDUCE MEMORY USAGE "
      ]
    },
    {
      "cell_type": "code",
      "metadata": {
        "id": "aKNP7be1UYut",
        "colab_type": "code",
        "colab": {}
      },
      "source": [
        "def reduce_mem_usage(df, verbose=True):\n",
        "  numerics = ['int16', 'int32', 'int64', 'float16', 'float32', 'float64']\n",
        "  start_mem = df.memory_usage().sum() / 1024**2\n",
        "  for col in df.columns:\n",
        "      col_type = df[col].dtypes\n",
        "      if col_type in numerics:\n",
        "          c_min = df[col].min()\n",
        "          c_max = df[col].max()\n",
        "          if str(col_type)[:3] == 'int':\n",
        "              if c_min > np.iinfo(np.int8).min and c_max < np.iinfo(np.int8).max:\n",
        "                  df[col] = df[col].astype(np.int8)\n",
        "              elif c_min > np.iinfo(np.int16).min and c_max < np.iinfo(np.int16).max:\n",
        "                  df[col] = df[col].astype(np.int16)\n",
        "              elif c_min > np.iinfo(np.int32).min and c_max < np.iinfo(np.int32).max:\n",
        "                  df[col] = df[col].astype(np.int32)\n",
        "              elif c_min > np.iinfo(np.int64).min and c_max < np.iinfo(np.int64).max:\n",
        "                  df[col] = df[col].astype(np.int64)\n",
        "          else:\n",
        "              if c_min > np.finfo(np.float16).min and c_max < np.finfo(np.float16).max:\n",
        "                  df[col] = df[col].astype(np.float16)\n",
        "              elif c_min > np.finfo(np.float32).min and c_max < np.finfo(np.float32).max:\n",
        "                  df[col] = df[col].astype(np.float32)\n",
        "              else:\n",
        "                  df[col] = df[col].astype(np.float64)\n",
        "\n",
        "  end_mem = df.memory_usage().sum() / 1024**2\n",
        "  print('Memory usage after optimization is: {:.2f} MB'.format(end_mem))\n",
        "  print('Decreased by {:.1f}%'.format(100 * (start_mem - end_mem) / start_mem))\n",
        "\n",
        "  return df"
      ],
      "execution_count": 5,
      "outputs": []
    },
    {
      "cell_type": "code",
      "metadata": {
        "id": "9LLBg7K8Wa60",
        "colab_type": "code",
        "colab": {}
      },
      "source": [
        "def prepare_orders(orders) :\n",
        "    \"\"\"\n",
        "    function that extracts features from orders by doing some aggregations\n",
        "    return : aggregated features\n",
        "    \"\"\"\n",
        "\n",
        "    loc_rate = orders.groupby(by=\"LOCATION_NUMBER\",as_index=False).agg({'driver_rating' : ['min','mean'], } )\n",
        "    orders = pd.merge(orders,loc_rate,how='left',on=\"LOCATION_NUMBER\")\n",
        "\n",
        "    vendor_stats = orders.groupby(by=\"vendor_id\",as_index=False).agg({ \n",
        "        'customer_id':['count','nunique'],\n",
        "        'item_count':['mean','min' ,'std'],\n",
        "        'grand_total':['mean','min' ,'std'],\n",
        "        'driver_rating' : ['mean','std'],\n",
        "        'deliverydistance' : ['std','mean'],\n",
        "        \n",
        "        })\n",
        "    vendor_stats.columns = [\"_\".join(x) for x in vendor_stats.columns.ravel()]\n",
        "    \n",
        "    vendor_stats['nb_reordered'] = (vendor_stats['customer_id_count']-vendor_stats['customer_id_nunique'])\n",
        "    \n",
        "    return vendor_stats"
      ],
      "execution_count": 6,
      "outputs": []
    },
    {
      "cell_type": "code",
      "metadata": {
        "id": "Q8eRYGNstO2u",
        "colab_type": "code",
        "colab": {
          "base_uri": "https://localhost:8080/",
          "height": 218
        },
        "outputId": "b03567d7-711f-4256-d148-54be7514e2b9"
      },
      "source": [
        "vendors['v_vendor_tag_name'].str.split(',').str.len().fillna(0).astype('int').value_counts()"
      ],
      "execution_count": 7,
      "outputs": [
        {
          "output_type": "execute_result",
          "data": {
            "text/plain": [
              "5     25\n",
              "4     18\n",
              "7     13\n",
              "3     11\n",
              "10     9\n",
              "6      5\n",
              "2      5\n",
              "9      4\n",
              "8      4\n",
              "1      3\n",
              "0      3\n",
              "Name: v_vendor_tag_name, dtype: int64"
            ]
          },
          "metadata": {
            "tags": []
          },
          "execution_count": 7
        }
      ]
    },
    {
      "cell_type": "code",
      "metadata": {
        "id": "ztRP-weCUgIj",
        "colab_type": "code",
        "colab": {}
      },
      "source": [
        "def prepare_vendors(vendors,vendor_stats):\n",
        "      \"\"\"\n",
        "      function that extracts features from vendors\n",
        "      return : vendors with added features \n",
        "      \"\"\"\n",
        "      #merging stats with vendors\n",
        "      vendors = pd.merge(vendors,vendor_stats,how=\"left\",right_on=\"vendor_id_\",left_on=\"v_id\")\n",
        "      \n",
        "      \n",
        "      \n",
        "      \n",
        "      ############################################   FEATURE ENGINEERING  ON VENDORS ###############################################\n",
        "      \n",
        "      vendors['length_of_tags'] = vendors['v_vendor_tag_name'].str.split(',').str.len().fillna(0).astype('int')\n",
        "      vendors['Multi_option'] = vendors['length_of_tags'].apply(lambda x : 1 if x>=7 else 0)\n",
        "      vendors['Medium_option'] = vendors['length_of_tags'].apply(lambda x : 1 if (x<=7 and x>=3) else 0)\n",
        "      vendors['Low_option'] = vendors['length_of_tags'].apply(lambda x : 1 if (x<=3 ) else 0)\n",
        "\n",
        "      vendors['quality'] = vendors['length_of_tags'] * vendors['v_vendor_rating']\n",
        "      \n",
        "      \n",
        "      \n",
        "      #################################     Here we will calculate Hours of work    ################\n",
        "      \n",
        "      \n",
        "      \n",
        "      vendors['v_total_hours_per_week'] = 0\n",
        "      vendors['v_total_services_per_week'] = 0\n",
        "\n",
        "      for i , col in enumerate([('v_sunday_from_time2','v_sunday_to_time2'),('v_monday_from_time2','v_monday_to_time2'),('v_tuesday_from_time2','v_tuesday_to_time2'),('v_wednesday_from_time2','v_wednesday_to_time2'),('v_thursday_from_time2','v_thursday_to_time2'),('v_friday_from_time2','v_friday_to_time2'),('v_saturday_from_time2','v_saturday_to_time2')]) :\n",
        "            vendors[col[0]] = pd.to_datetime(vendors[col[0]], yearfirst=True)\n",
        "            vendors[col[1]] = pd.to_datetime(vendors[col[1]], yearfirst=True)\n",
        "            #hours\n",
        "            vendors[f'time2_diff_of_day_{i}'] = vendors[col[1]] - vendors[col[0]]\n",
        "            vendors[f'time2_diff_of_day_{i}']  =vendors[f'time2_diff_of_day_{i}'].apply(number_of_hours)\n",
        "            vendors['v_total_hours_per_week']  = vendors['v_total_hours_per_week'] + vendors[f'time2_diff_of_day_{i}']\n",
        "\n",
        "            del vendors[f'time2_diff_of_day_{i}']\n",
        "            #minutes\n",
        "            vendors[f'time2_diff_minutes_of_day_{i}'] = vendors[col[1]] - vendors[col[0]]\n",
        "            \n",
        "            vendors[f'time2_diff_minutes_of_day_{i}']  =vendors[f'time2_diff_minutes_of_day_{i}'].apply(number_of_minutes)\n",
        "            vendors[f'estimated_number_of_services_on_day_{i}'] = vendors[f'time2_diff_minutes_of_day_{i}'] // vendors['v_prepration_time']\n",
        "            vendors['v_total_services_per_week'] = vendors['v_total_services_per_week'] + vendors[f'estimated_number_of_services_on_day_{i}']\n",
        "\n",
        "            del vendors[f'time2_diff_minutes_of_day_{i}']\n",
        "            del vendors[f'estimated_number_of_services_on_day_{i}']\n",
        "\n",
        "        \n",
        "\n",
        "      return vendors"
      ],
      "execution_count": 8,
      "outputs": []
    },
    {
      "cell_type": "code",
      "metadata": {
        "colab_type": "code",
        "id": "WHZlrkkM5ZUf",
        "colab": {}
      },
      "source": [
        "def pre_final_df(train_customers,train_locations,vendors) :\n",
        "      \"\"\"\n",
        "      function that drops duplicated and renames some columns\n",
        "      \"\"\"\n",
        "      train_customers = train_customers.drop_duplicates(\"akeed_customer_id\").reset_index()\n",
        "      train_locations=train_locations.rename(columns = {\"customer_id\":\"akeed_customer_id\"})\n",
        "      First_Train= train_customers.merge(train_locations,on=\"akeed_customer_id\",how=\"right\")\n",
        "      First_Train = First_Train.add_prefix('cust_')\n",
        "       \n",
        "      pre_Final_df = vendors.assign(key=1).merge(First_Train.assign(key=1), on='key').drop('key',axis=1)\n",
        "\n",
        "      return pre_Final_df"
      ],
      "execution_count": 9,
      "outputs": []
    },
    {
      "cell_type": "markdown",
      "metadata": {
        "id": "OEMu9nkQ6_1E",
        "colab_type": "text"
      },
      "source": [
        "SOME USEFUL FUNCTIONS : "
      ]
    },
    {
      "cell_type": "code",
      "metadata": {
        "id": "3TIGGCfrUgL2",
        "colab_type": "code",
        "colab": {}
      },
      "source": [
        "def number_of_hours(duration):\n",
        "    time_s = duration.total_seconds()\n",
        "    nb_hours = divmod(time_s, 3600)[0]\n",
        "    return nb_hours"
      ],
      "execution_count": 10,
      "outputs": []
    },
    {
      "cell_type": "code",
      "metadata": {
        "id": "6xF7IJTdUgRM",
        "colab_type": "code",
        "colab": {}
      },
      "source": [
        "def number_of_minutes(duration):\n",
        "    time_s = duration.total_seconds()\n",
        "    nb_minutes = divmod(time_s, 60)[0]\n",
        "    return nb_minutes"
      ],
      "execution_count": 11,
      "outputs": []
    },
    {
      "cell_type": "code",
      "metadata": {
        "id": "gRqygZ27CXHE",
        "colab_type": "code",
        "colab": {}
      },
      "source": [
        "def days(duration):\n",
        "    time_s = duration.total_seconds()\n",
        "    nb_days = divmod(time_s, 86400)[0]\n",
        "    return nb_days"
      ],
      "execution_count": 12,
      "outputs": []
    },
    {
      "cell_type": "code",
      "metadata": {
        "id": "wA_pCKO4DKXT",
        "colab_type": "code",
        "colab": {}
      },
      "source": [
        "def haversine(lat1, lng1, lat2, lng2 ):\n",
        "    \n",
        "    \n",
        "    lat1, lng1, lat2, lng2 = map(np.radians, (lat1, lng1, lat2, lng2))\n",
        "    lat_diff = lat2 - lat1\n",
        "    long_diff = lng2 - lng1\n",
        "    distance = np.sin(lat_diff * 0.5) ** 2 + np.cos(lat1) * np.cos(lat2) * np.sin(long_diff * 0.5) ** 2\n",
        "    haversine_ = 2 * 6371 * np.arcsin(np.sqrt(distance))\n",
        "    return haversine_"
      ],
      "execution_count": 13,
      "outputs": []
    },
    {
      "cell_type": "code",
      "metadata": {
        "id": "ZFSpfFAzECkb",
        "colab_type": "code",
        "colab": {}
      },
      "source": [
        "def distance(lat1, lon1, lat2, lon2):\n",
        "    p = 0.017453292519943295 # Pi/180\n",
        "    a = 0.5 - np.cos((lat2 - lat1) * p)/2 + np.cos(lat1 * p) * np.cos(lat2 * p) * (1 - np.cos((lon2 - lon1) * p)) / 2\n",
        "    return 0.6213712 * 12742 * np.arcsin(np.sqrt(a))"
      ],
      "execution_count": 14,
      "outputs": []
    },
    {
      "cell_type": "code",
      "metadata": {
        "id": "E9DRaqP3DKZ7",
        "colab_type": "code",
        "colab": {}
      },
      "source": [
        "def manhattan_distance(lat1, lng1, lat2, lng2):\n",
        "    \n",
        "    h1 = haversine(lat1, lng1, lat1, lng2)\n",
        "    h2 = haversine(lat1, lng1, lat2, lng1)\n",
        "    return h1 + h2"
      ],
      "execution_count": 15,
      "outputs": []
    },
    {
      "cell_type": "code",
      "metadata": {
        "id": "-2tHQe2hDKcz",
        "colab_type": "code",
        "colab": {}
      },
      "source": [
        "def bearing(lat1, lng1, lat2, lng2):\n",
        "    lon_rad = np.radians(lng2 - lng1)\n",
        "    lat1, lng1, lat2, lng2 = map(np.radians, (lat1, lng1, lat2, lng2))\n",
        "    \n",
        "    return np.degrees(np.arctan2(np.sin(lon_rad) * np.cos(lat2), np.cos(lat1) * np.sin(lat2) - np.sin(lat1) * np.cos(lat2) * np.cos(lon_rad)))"
      ],
      "execution_count": 16,
      "outputs": []
    },
    {
      "cell_type": "code",
      "metadata": {
        "id": "jPe03jG_yfff",
        "colab_type": "code",
        "colab": {}
      },
      "source": [
        "def sphere_volume(r):\n",
        "  pi = 3.1415926535897931\n",
        "  V= 4.0/3.0*pi* r**3\n",
        "  return V "
      ],
      "execution_count": 17,
      "outputs": []
    },
    {
      "cell_type": "code",
      "metadata": {
        "id": "_n4P7bAyyvgA",
        "colab_type": "code",
        "colab": {}
      },
      "source": [
        "def radian_conv(degree):\n",
        "    \"\"\"\n",
        "    Return radian.\n",
        "    \"\"\"\n",
        "    return  np.radians(degree) "
      ],
      "execution_count": 18,
      "outputs": []
    },
    {
      "cell_type": "code",
      "metadata": {
        "id": "C81AEiV26yPJ",
        "colab_type": "code",
        "colab": {}
      },
      "source": [
        "def calculateDistance2D(x1,y1,x2,y2):  \n",
        "  \"\"\"\n",
        "  return 2D distance\n",
        "  \"\"\"\n",
        "  dist = np.sqrt((x2 - x1)**2 + (y2 - y1)**2)  \n",
        "  return dist  "
      ],
      "execution_count": 19,
      "outputs": []
    },
    {
      "cell_type": "code",
      "metadata": {
        "id": "rpVOfX2nOtcl",
        "colab_type": "code",
        "colab": {}
      },
      "source": [
        "def process_df(df):\n",
        "    \"\"\"\n",
        "    the most important function, it extracts many features based on customer_id and location. Here we extract many distance features because that's what helped the most our model. \n",
        "    \"\"\"\n",
        "\n",
        "     \n",
        "\n",
        "     ################################ SIMPLE FEATURE ENGINEERING #########################################################\n",
        "    df['cust_gender'] = df.cust_gender.str.strip()   # remove spaces\n",
        "    df.replace({'cust_gender': {'male': 'Male', '?????': 'NaN', '': 'NaN'}}, inplace=True)    \n",
        "    df.replace({'v_OpeningTime2': {'-': 'NaN'}}, inplace=True)\n",
        "    \n",
        "    \n",
        "    \n",
        "    \n",
        "    \n",
        "    \n",
        "    \n",
        "    ################################ Distance FEATURE ENGINEERING #########################################################\n",
        "    \n",
        "    df['harvesine_dist'] = haversine(df['cust_latitude'], df['cust_longitude'], df['v_latitude'], df['v_longitude']) /1000\n",
        "    df['manhattan_dist'] = manhattan_distance(df['cust_latitude'], df['cust_longitude'], df['v_latitude'], df['v_longitude']) /1000\n",
        "    df['other_dist'] = distance(df['cust_latitude'], df['cust_longitude'], df['v_latitude'], df['v_longitude']) /1000\n",
        "    df['bearing'] = bearing(df['cust_latitude'], df['cust_longitude'], df['v_latitude'], df['v_longitude']) \n",
        "    \n",
        "    #distance ratio\n",
        "    df['distance_ratio_1'] = df['harvesine_dist'] / df['v_serving_distance']\n",
        "    df['distance_ratio_2'] = df['manhattan_dist'] / df['v_serving_distance']\n",
        "    df['distance_ratio_3'] = df['other_dist'] / df['v_serving_distance']\n",
        "\n",
        "    #distance diffirence\n",
        "    df['distance_diff_1'] = df['harvesine_dist'] - df['v_serving_distance']\n",
        "    df['distance_diff_2'] = df['manhattan_dist'] - df['v_serving_distance']\n",
        "    df['distance_diff_3'] = df['other_dist'] - df['v_serving_distance']\n",
        "\n",
        "    \n",
        "\n",
        "    ################################ LATITUDE & LOGITUDE FEATURE ENGINEERING #########################################################\n",
        "    # 1-Original Latitude & longitude \n",
        "    # Centre \n",
        "    df['center_latitude'] = (df['cust_latitude'].values + df['v_latitude'].values) / 2\n",
        "    df['center_longitude'] = (df['cust_longitude'].values + df['v_longitude'].values) / 2\n",
        "    # Convulution + ration of diffirence \n",
        "    df['conv1'] = df['cust_latitude']*df['v_latitude'] # remove abs\n",
        "    df['conv2'] = df['cust_longitude']*df['v_longitude'] # remove abs\n",
        "    \n",
        "    df['conv3'] = df['conv1'] *df['conv2']\n",
        "\n",
        "    df['SUM_LAT_LONG'] = df['cust_latitude'] + df['v_latitude'] + df['cust_longitude'] + df['v_longitude'] \n",
        "\n",
        "    df['relation1'] = (df['cust_latitude']-df['cust_longitude']) / (df['v_latitude']-df['v_longitude']) # remove abs\n",
        "    \n",
        "    df['relation2'] = df['SUM_LAT_LONG'] /   df['conv3'] \n",
        "    \n",
        "    df['relation3'] = (df['cust_latitude']+df['cust_longitude']) / (df['v_latitude']+df['v_longitude']) # new \n",
        "    \n",
        "    # 2- Apply radiant to latitude & longitude \n",
        "    df['cust_radiant_latitude'] = radian_conv(df['cust_latitude'])\n",
        "    df['cust_radiant_longitude'] = radian_conv(df['cust_longitude']) \n",
        "    \n",
        "    df['v_radiant_latitude'] = radian_conv(df['v_latitude']) \n",
        "    df['v_radiant_longitude'] = radian_conv(df['v_longitude']) \n",
        "    \n",
        "    df['center_radiant_latitude'] = (df['cust_radiant_latitude'].values + df['v_radiant_latitude'].values) / 2\n",
        "    df['center_radiant_longitude'] = (df['cust_radiant_longitude'].values + df['v_radiant_longitude'].values) / 2\n",
        "\n",
        "    df['radiant_conv1'] = abs(df['cust_radiant_latitude']*df['v_radiant_latitude'])\n",
        "    df['radiant_conv2'] = abs(df['cust_radiant_longitude']*df['v_radiant_longitude'])\n",
        "\n",
        "    #3-Apply cos and sin : Normalization :) \n",
        "      ## customer\n",
        "    df['cust_latitude_cos'] = np.cos(df['cust_radiant_latitude'])\n",
        "    df['cust_latitude_sin'] = np.sin(df['cust_radiant_latitude'])\n",
        "    df['cust_longitude_cos'] = np.cos(df['cust_radiant_longitude'])\n",
        "    df['cust_longitude_sin'] = np.sin(df['cust_radiant_longitude'])\n",
        "\n",
        "     ##customer transforming to x y z coordinates \n",
        "    df['cust_x_coordinate'] = df['cust_longitude_cos'] * df['cust_latitude_cos']\n",
        "    df['cust_y_coordinate'] = df['cust_longitude_sin'] * df['cust_latitude_cos']\n",
        "    df['cust_z_coordinate'] = df['cust_latitude_sin']\n",
        "\n",
        "     ## VENDOR\n",
        "    df['v_latitude_cos'] = np.cos(df['v_radiant_latitude'])\n",
        "    df['v_latitude_sin'] = np.sin(df['v_radiant_latitude'])\n",
        "    df['v_longitude_cos'] = np.cos(df['v_radiant_longitude'])\n",
        "    df['v_longitude_sin'] = np.sin(df['v_radiant_longitude'])    \n",
        "\n",
        "     ## VENDOR transforming to x y z coordinates \n",
        "    df['v_x_coordinate'] = df['v_longitude_cos'] * df['v_latitude_cos']\n",
        "    df['v_y_coordinate'] = df['v_longitude_sin'] * df['v_latitude_cos']\n",
        "    df['v_z_coordinate'] = df['v_latitude_sin'] \n",
        "\n",
        "\n",
        "\n",
        "\n",
        "    # OTHER PROPOSED features \n",
        "    df['time_consuming'] = (df['distance_diff_1'] / 60) / (df['v_prepration_time'] * 5 )  \n",
        "\n",
        "    # distance 2D space between vendor customer \n",
        "    df['2D_distance'] = calculateDistance2D(df['cust_x_coordinate'],df['cust_y_coordinate'],df['v_x_coordinate'],df['v_y_coordinate'])\n",
        "\n",
        "    #sphere volume ########### New \n",
        "    df['sphere_cust']= sphere_volume(df['2D_distance'])\n",
        "    df['sphere_v']= sphere_volume(df['v_serving_distance'])\n",
        "\n",
        "    \n",
        "\n",
        "    ################################ TIME FEATURE ENGINEERING #########################################################\n",
        "\n",
        "    df['cust_created_at'] = pd.to_datetime(df['cust_created_at'], yearfirst=True)\n",
        "    df['cust_updated_at'] = pd.to_datetime(df['cust_updated_at'], yearfirst=True)\n",
        "    df['v_created_at'] = pd.to_datetime(df['v_created_at'], yearfirst=True)\n",
        "    df['v_updated_at'] = pd.to_datetime(df['v_updated_at'], yearfirst=True)\n",
        "    \n",
        "    df['year_cust_created_at'] = df['cust_created_at'].dt.year\n",
        "    df['month_cust_created_at'] = df['cust_created_at'].dt.month\n",
        "    df['doy_cust_created_at'] = df['cust_created_at'].dt.dayofyear\n",
        "    df['woy_cust_created_at'] = df['cust_created_at'].dt.weekofyear\n",
        "    df['wday_cust_created_at'] = df['cust_created_at'].dt.weekday\n",
        "\n",
        "    df['year_cust_updated_at'] = df['cust_updated_at'].dt.year\n",
        "    df['month_cust_updated_at'] = df['cust_updated_at'].dt.month\n",
        "    df['doy_cust_updated_at'] = df['cust_updated_at'].dt.dayofyear\n",
        "    df['woy_cust_updated_at'] = df['cust_updated_at'].dt.weekofyear\n",
        "    df['wday_cust_updated_at'] = df['cust_updated_at'].dt.weekday\n",
        "\n",
        "    df['year_v_created_at'] = df['v_created_at'].dt.year\n",
        "    df['month_v_created_at'] = df['v_created_at'].dt.month\n",
        "    df['doy_v_created_at'] = df['v_created_at'].dt.dayofyear\n",
        "    df['woy_v_created_at'] = df['v_created_at'].dt.weekofyear\n",
        "    df['wday_v_created_at'] = df['v_created_at'].dt.weekday\n",
        "\n",
        "    df['year_v_updated_at'] = df['v_updated_at'].dt.year\n",
        "    df['month_v_updated_at'] = df['v_updated_at'].dt.month\n",
        "    df['doy_v_updated_at'] = df['v_updated_at'].dt.dayofyear\n",
        "    df['woy_v_updated_at'] = df['v_updated_at'].dt.weekofyear\n",
        "    df['wday_v_updated_at'] = df['v_updated_at'].dt.weekday\n",
        "    \n",
        "    df['cust_diff_update_create'] = df['cust_updated_at'] - df['cust_created_at']\n",
        "    df['v_diff_update_create'] = df['v_updated_at'] - df['v_created_at']\n",
        "    df['cust_v_diff_create'] = df['v_created_at'] - df['cust_created_at']\n",
        "    df['cust_v_diff_update'] = df['v_updated_at'] - df['cust_updated_at']\n",
        "\n",
        "    df['cust_diff_update_create'] = df['cust_diff_update_create'].apply(days)\n",
        "    df['v_diff_update_create'] = df['v_diff_update_create'].apply(days)\n",
        "    df['cust_v_diff_create'] = df['cust_v_diff_create'].apply(days)\n",
        "    df['cust_v_diff_update'] = df['cust_v_diff_update'].apply(days)\n",
        "    \n",
        "    \n",
        "    del df['cust_created_at']\n",
        "    del df['cust_updated_at']\n",
        "    del df['v_created_at']\n",
        "    del df['v_updated_at']\n",
        "    gc.collect()\n",
        "    \n",
        "    \n",
        "    #################################   Statistics Based on CUSTOMER ID :D ################################################################\n",
        "    distance_statique = df.groupby(by=\"cust_akeed_customer_id\",as_index=False).agg({ \n",
        "        'distance_diff_1':['mean','std'],\n",
        "        'distance_diff_2':['mean','std'],\n",
        "        'distance_diff_3':['std','mean'],\n",
        "        \n",
        "        'distance_ratio_1' : ['std','mean'] ,\n",
        "        'distance_ratio_2' : ['std','mean'],\n",
        "        \n",
        "        'harvesine_dist' : ['std','mean'],\n",
        "        'bearing' : ['std','mean','median','min','max'], ## add median min max \n",
        "        \n",
        "        'relation1' :['std','mean'],\n",
        "        'center_longitude' : ['std','mean'] ,\n",
        "        'center_latitude' : ['std','mean'] ,\n",
        "\n",
        "        \n",
        "        'cust_diff_update_create' : ['mean','std','max','min'],\n",
        "        'cust_v_diff_create' : ['mean','std','max','min'],\n",
        "        \n",
        "        \n",
        "        'conv1' : ['mean','std'],\n",
        "        'conv2' : ['mean','std'],\n",
        "        'conv3' : ['std','mean'], \n",
        "        \n",
        "\n",
        "        'radiant_conv1' : ['mean','std'],\n",
        "        'radiant_conv2' : ['mean','std'],\n",
        "        'time_consuming' : ['std','mean'],\n",
        "        \n",
        "        '2D_distance' : ['std','mean','max','min','median'],\n",
        "        'sphere_cust' : ['std','mean','max'], \n",
        "        'sphere_v' : ['std','mean','max'] \n",
        "\n",
        "\n",
        "\n",
        "\n",
        "        })\n",
        "    distance_statique.columns = [\"_\".join(x) for x in distance_statique.columns.ravel()]\n",
        "    df = pd.merge(df,distance_statique,how=\"left\",right_on=\"cust_akeed_customer_id_\",left_on=\"cust_akeed_customer_id\")\n",
        "\n",
        "\n",
        "\n",
        "\n",
        "\n",
        "    \n",
        "    return df"
      ],
      "execution_count": 20,
      "outputs": []
    },
    {
      "cell_type": "markdown",
      "metadata": {
        "id": "-zpMH2JBWm9S",
        "colab_type": "text"
      },
      "source": [
        "# **APPLICATION OF CREATED FUNCTIONS**"
      ]
    },
    {
      "cell_type": "code",
      "metadata": {
        "id": "VjDoelr4ZQIb",
        "colab_type": "code",
        "colab": {}
      },
      "source": [
        "from sklearn.preprocessing import LabelEncoder\n",
        "le = LabelEncoder()\n",
        "def Label_enc(df) :\n",
        "    \"\"\"\n",
        "    function that label encodes a set of columnes\n",
        "    \n",
        "    \"\"\"\n",
        "    le_cols =  ['v_sunday_from_time1','v_sunday_to_time1','v_monday_from_time1','v_monday_to_time1','v_tuesday_from_time1','v_tuesday_to_time1',\n",
        "                 'v_wednesday_from_time1','v_wednesday_to_time1','v_thursday_from_time1','v_thursday_to_time1','v_friday_from_time1',\n",
        "                 'v_friday_to_time1','v_saturday_from_time1','v_saturday_to_time1',\n",
        "                 'v_sunday_from_time2','v_sunday_to_time2','v_monday_from_time2','v_monday_to_time2','v_tuesday_from_time2','v_tuesday_to_time2',\n",
        "                 'v_wednesday_from_time2','v_wednesday_to_time2','v_thursday_from_time2','v_thursday_to_time2','v_friday_from_time2',\n",
        "                 'v_friday_to_time2','v_saturday_from_time2','v_saturday_to_time2',]\n",
        "    for col in le_cols:\n",
        "    \n",
        "      df[col][pd.isnull(df[col])]  = 'nan'\n",
        "      df[col+'LAB_ENC']= le.fit_transform(df[col])\n",
        "    return df"
      ],
      "execution_count": 21,
      "outputs": []
    },
    {
      "cell_type": "code",
      "metadata": {
        "id": "clZM7IqEZSAp",
        "colab_type": "code",
        "colab": {
          "base_uri": "https://localhost:8080/",
          "height": 50
        },
        "outputId": "06b1c4b0-f5d8-436e-8a84-8f8b37caecbb"
      },
      "source": [
        "%%time\n",
        "vendors = Label_enc(vendors)"
      ],
      "execution_count": 22,
      "outputs": [
        {
          "output_type": "stream",
          "text": [
            "CPU times: user 58.6 ms, sys: 1.45 ms, total: 60.1 ms\n",
            "Wall time: 58.8 ms\n"
          ],
          "name": "stdout"
        }
      ]
    },
    {
      "cell_type": "code",
      "metadata": {
        "id": "OLw9tWIcWgW6",
        "colab_type": "code",
        "colab": {
          "base_uri": "https://localhost:8080/",
          "height": 50
        },
        "outputId": "f310e0fb-609a-48be-93bb-2677251a02bc"
      },
      "source": [
        "%%time\n",
        "vendor_stats = prepare_orders(orders)\n",
        "vendors = prepare_vendors(vendors,vendor_stats)"
      ],
      "execution_count": 23,
      "outputs": [
        {
          "output_type": "stream",
          "text": [
            "CPU times: user 392 ms, sys: 32.9 ms, total: 425 ms\n",
            "Wall time: 482 ms\n"
          ],
          "name": "stdout"
        }
      ]
    },
    {
      "cell_type": "markdown",
      "metadata": {
        "id": "N145pLSs7zX8",
        "colab_type": "text"
      },
      "source": [
        "**DROPPING STATIC, CORRELATED AND NON IMPORTANT COLUMNS**"
      ]
    },
    {
      "cell_type": "code",
      "metadata": {
        "id": "fUwrwttvZUcS",
        "colab_type": "code",
        "colab": {}
      },
      "source": [
        "vendors.drop(['v_sunday_from_time1','v_sunday_to_time1','v_monday_from_time1','v_monday_to_time1','v_tuesday_from_time1','v_tuesday_to_time1',\n",
        "                 'v_wednesday_from_time1','v_wednesday_to_time1','v_thursday_from_time1','v_thursday_to_time1','v_friday_from_time1',\n",
        "                 'v_friday_to_time1','v_saturday_from_time1','v_saturday_to_time1',\n",
        "                 'v_sunday_from_time2','v_sunday_to_time2','v_monday_from_time2','v_monday_to_time2','v_tuesday_from_time2','v_tuesday_to_time2',\n",
        "                 'v_wednesday_from_time2','v_wednesday_to_time2','v_thursday_from_time2','v_thursday_to_time2','v_friday_from_time2',\n",
        "                 'v_friday_to_time2','v_saturday_from_time2','v_saturday_to_time2',\n",
        "              'v_monday_from_time1LAB_ENC',\t'v_monday_to_time1LAB_ENC'\t,'v_tuesday_from_time1LAB_ENC'\t,'v_tuesday_to_time1LAB_ENC',\t'v_wednesday_from_time1LAB_ENC',\n",
        "'v_thursday_from_time1LAB_ENC'\t,'v_thursday_to_time1LAB_ENC',\t'v_friday_from_time1LAB_ENC',\t'v_friday_to_time1LAB_ENC' ,'v_wednesday_to_time1LAB_ENC',\n",
        "'v_friday_from_time2LAB_ENC',\t'v_friday_to_time2LAB_ENC', 'vendor_id_','customer_id_count','customer_id_nunique',''\n",
        "'v_monday_from_time2LAB_ENC' ,\t'v_monday_to_time2LAB_ENC',\t'v_tuesday_from_time2LAB_ENC',\t'v_tuesday_to_time2LAB_ENC',\n",
        "'v_wednesday_from_time2LAB_ENC',\t'v_wednesday_to_time2LAB_ENC'\t,'v_thursday_from_time2LAB_ENC',\t'v_thursday_to_time2LAB_ENC',],1,inplace=True)"
      ],
      "execution_count": 24,
      "outputs": []
    },
    {
      "cell_type": "code",
      "metadata": {
        "id": "81ReFHIeEJ_r",
        "colab_type": "code",
        "colab": {
          "base_uri": "https://localhost:8080/",
          "height": 50
        },
        "outputId": "742a7ec4-bb1a-4a89-9606-58e357c652fd"
      },
      "source": [
        "%%time\n",
        "pre_Final_train = pre_final_df(train_customers, train_locations, vendors)\n",
        "pre_Final_test = pre_final_df(test_customers, test_locations, vendors)"
      ],
      "execution_count": 25,
      "outputs": [
        {
          "output_type": "stream",
          "text": [
            "CPU times: user 16.3 s, sys: 2.08 s, total: 18.4 s\n",
            "Wall time: 18.4 s\n"
          ],
          "name": "stdout"
        }
      ]
    },
    {
      "cell_type": "code",
      "metadata": {
        "id": "3oCa8BfORy4O",
        "colab_type": "code",
        "colab": {
          "base_uri": "https://localhost:8080/",
          "height": 118
        },
        "outputId": "3aebfb89-b319-44a4-cc17-ca4f94a55c1a"
      },
      "source": [
        "%%time\n",
        "\n",
        "pre_Final_train = reduce_mem_usage(pre_Final_train)\n",
        "pre_Final_test = reduce_mem_usage(pre_Final_test)"
      ],
      "execution_count": 26,
      "outputs": [
        {
          "output_type": "stream",
          "text": [
            "Memory usage after optimization is: 1327.87 MB\n",
            "Decreased by 58.8%\n",
            "Memory usage after optimization is: 373.12 MB\n",
            "Decreased by 58.8%\n",
            "CPU times: user 12 s, sys: 59.8 ms, total: 12 s\n",
            "Wall time: 12 s\n"
          ],
          "name": "stdout"
        }
      ]
    },
    {
      "cell_type": "code",
      "metadata": {
        "id": "gudXernpEKE7",
        "colab_type": "code",
        "colab": {
          "base_uri": "https://localhost:8080/",
          "height": 50
        },
        "outputId": "f45a7832-6852-488e-dcae-ade782bd6e33"
      },
      "source": [
        "%%time\n",
        "\n",
        "train = process_df(pre_Final_train)\n",
        "test = process_df(pre_Final_test)"
      ],
      "execution_count": 27,
      "outputs": [
        {
          "output_type": "stream",
          "text": [
            "CPU times: user 5min 6s, sys: 2.79 s, total: 5min 9s\n",
            "Wall time: 5min 9s\n"
          ],
          "name": "stdout"
        }
      ]
    },
    {
      "cell_type": "code",
      "metadata": {
        "id": "Y_aBpYYtZ7Gj",
        "colab_type": "code",
        "colab": {
          "base_uri": "https://localhost:8080/",
          "height": 118
        },
        "outputId": "36a93754-ffb8-4817-ce09-5a1d963ae603"
      },
      "source": [
        "%%time\n",
        "train = reduce_mem_usage(train)\n",
        "test = reduce_mem_usage(test)"
      ],
      "execution_count": 28,
      "outputs": [
        {
          "output_type": "stream",
          "text": [
            "Memory usage after optimization is: 2888.40 MB\n",
            "Decreased by 26.9%\n",
            "Memory usage after optimization is: 811.62 MB\n",
            "Decreased by 26.9%\n",
            "CPU times: user 24.1 s, sys: 221 ms, total: 24.3 s\n",
            "Wall time: 24.3 s\n"
          ],
          "name": "stdout"
        }
      ]
    },
    {
      "cell_type": "code",
      "metadata": {
        "id": "6kob1rFn8BDS",
        "colab_type": "code",
        "colab": {
          "base_uri": "https://localhost:8080/",
          "height": 34
        },
        "outputId": "ecab033f-40de-404d-e5fc-2b5d9e89a8d4"
      },
      "source": [
        "del pre_Final_train\n",
        "del pre_Final_test\n",
        "gc.collect()"
      ],
      "execution_count": 29,
      "outputs": [
        {
          "output_type": "execute_result",
          "data": {
            "text/plain": [
              "0"
            ]
          },
          "metadata": {
            "tags": []
          },
          "execution_count": 29
        }
      ]
    },
    {
      "cell_type": "code",
      "metadata": {
        "id": "CSM-DTebKYpX",
        "colab_type": "code",
        "colab": {}
      },
      "source": [
        "le = LabelEncoder()\n",
        "def Label_enc(df) :\n",
        "    le_cols =  ['cust_location_type','v_OpeningTime','v_OpeningTime2',\n",
        "                  'v_vendor_category_en',\n",
        "                  'cust_gender',] \n",
        "                 \n",
        "                \n",
        "    le_cols = list(set(le_cols))\n",
        "    for col in le_cols:\n",
        "      print(30 * '=')\n",
        "      print('Label_enc TO ---> : ' ,col)\n",
        "      df[col][pd.isnull(df[col])]  = 'nan'\n",
        "      df[col]= le.fit_transform(df[col])\n",
        "    return df"
      ],
      "execution_count": 30,
      "outputs": []
    },
    {
      "cell_type": "code",
      "metadata": {
        "id": "-F7JiSHcPJ-X",
        "colab_type": "code",
        "colab": {
          "base_uri": "https://localhost:8080/",
          "height": 386
        },
        "outputId": "a102f2a4-e794-460b-a7ec-fedb87b62928"
      },
      "source": [
        "%%time\n",
        "train = Label_enc(train)\n",
        "test = Label_enc(test)"
      ],
      "execution_count": 31,
      "outputs": [
        {
          "output_type": "stream",
          "text": [
            "==============================\n",
            "Label_enc TO ---> :  cust_location_type\n",
            "==============================\n",
            "Label_enc TO ---> :  v_OpeningTime2\n",
            "==============================\n",
            "Label_enc TO ---> :  v_OpeningTime\n",
            "==============================\n",
            "Label_enc TO ---> :  cust_gender\n",
            "==============================\n",
            "Label_enc TO ---> :  v_vendor_category_en\n",
            "==============================\n",
            "Label_enc TO ---> :  cust_location_type\n",
            "==============================\n",
            "Label_enc TO ---> :  v_OpeningTime2\n",
            "==============================\n",
            "Label_enc TO ---> :  v_OpeningTime\n",
            "==============================\n",
            "Label_enc TO ---> :  cust_gender\n",
            "==============================\n",
            "Label_enc TO ---> :  v_vendor_category_en\n",
            "CPU times: user 11 s, sys: 346 ms, total: 11.3 s\n",
            "Wall time: 11.3 s\n"
          ],
          "name": "stdout"
        }
      ]
    },
    {
      "cell_type": "code",
      "metadata": {
        "id": "CThHBCZSLfmk",
        "colab_type": "code",
        "colab": {}
      },
      "source": [
        "orders=pd.read_csv(path +'orders.csv')\n",
        "\n",
        "def final_train(train,orders):\n",
        "    train[\"CID X LOC_NUM X VENDOR\"] = train[\"cust_akeed_customer_id\"].astype(str)+' X '+ train[\"cust_location_number\"].astype(str)+' X '+ train[\"v_id\"].astype(str)\n",
        "\n",
        "    all_services = orders['CID X LOC_NUM X VENDOR'].values.tolist()\n",
        "    train['target']= train['CID X LOC_NUM X VENDOR'].isin(all_services).astype(int).values\n",
        "    return train\n",
        "\n",
        "def final_test(test) :\n",
        "    test[\"CID X LOC_NUM X VENDOR\"] = test[\"cust_akeed_customer_id\"].astype(str)+' X '+ test[\"cust_location_number\"].astype(str)+' X '+ test[\"v_id\"].astype(str)\n",
        "    return test"
      ],
      "execution_count": 32,
      "outputs": []
    },
    {
      "cell_type": "code",
      "metadata": {
        "id": "SQQqCJNTPi-U",
        "colab_type": "code",
        "colab": {
          "base_uri": "https://localhost:8080/",
          "height": 50
        },
        "outputId": "beeca847-aa6b-472c-aa03-6a17e8b15cf8"
      },
      "source": [
        "%%time\n",
        "train = final_train(train,orders)\n",
        "test = final_test(test)"
      ],
      "execution_count": 33,
      "outputs": [
        {
          "output_type": "stream",
          "text": [
            "CPU times: user 10.8 s, sys: 1.07 s, total: 11.9 s\n",
            "Wall time: 11.9 s\n"
          ],
          "name": "stdout"
        }
      ]
    },
    {
      "cell_type": "code",
      "metadata": {
        "id": "fRO93O_wXjxw",
        "colab_type": "code",
        "colab": {}
      },
      "source": [
        "train.drop(['cust_index'] ,1,inplace=True)\n",
        "test.drop(['cust_index'] ,1,inplace=True)"
      ],
      "execution_count": 34,
      "outputs": []
    },
    {
      "cell_type": "code",
      "metadata": {
        "id": "1GavVQFXZ_Zs",
        "colab_type": "code",
        "colab": {
          "base_uri": "https://localhost:8080/",
          "height": 118
        },
        "outputId": "efc6d3a6-40fd-41c4-f870-ddaf4ead04e4"
      },
      "source": [
        "%%time\n",
        "train = reduce_mem_usage(train)\n",
        "test = reduce_mem_usage(test)"
      ],
      "execution_count": 35,
      "outputs": [
        {
          "output_type": "stream",
          "text": [
            "Memory usage after optimization is: 2729.51 MB\n",
            "Decreased by 8.0%\n",
            "Memory usage after optimization is: 765.38 MB\n",
            "Decreased by 6.8%\n",
            "CPU times: user 21.7 s, sys: 59.6 ms, total: 21.8 s\n",
            "Wall time: 21.8 s\n"
          ],
          "name": "stdout"
        }
      ]
    },
    {
      "cell_type": "code",
      "metadata": {
        "id": "sBZRWtl4SJuG",
        "colab_type": "code",
        "colab": {
          "base_uri": "https://localhost:8080/",
          "height": 34
        },
        "outputId": "24b2d9b9-c477-4bc7-94d6-4333a1e1a3a8"
      },
      "source": [
        "train.shape ,test.shape"
      ],
      "execution_count": 36,
      "outputs": [
        {
          "output_type": "execute_result",
          "data": {
            "text/plain": [
              "((5950300, 191), (1672000, 190))"
            ]
          },
          "metadata": {
            "tags": []
          },
          "execution_count": 36
        }
      ]
    },
    {
      "cell_type": "markdown",
      "metadata": {
        "id": "NXPQxCkvaEe5",
        "colab_type": "text"
      },
      "source": [
        "# **MODELING LGBM**"
      ]
    },
    {
      "cell_type": "code",
      "metadata": {
        "id": "MKIsEBwvdENK",
        "colab_type": "code",
        "colab": {}
      },
      "source": [
        "import pandas as pd\n",
        "import numpy as np\n",
        "import math\n",
        "from numba import jit\n",
        "import lightgbm as lgb\n",
        "import time\n",
        "\n",
        "from sklearn.preprocessing import LabelEncoder\n",
        "from sklearn.model_selection import StratifiedKFold, train_test_split\n",
        "from sklearn.metrics import f1_score, classification_report\n",
        "from scipy.misc import derivative\n",
        "\n",
        "import matplotlib.pyplot as plt\n",
        "import seaborn as sns\n",
        "\n",
        "import gc\n",
        "import warnings\n",
        "warnings.filterwarnings(\"ignore\")"
      ],
      "execution_count": 37,
      "outputs": []
    },
    {
      "cell_type": "markdown",
      "metadata": {
        "id": "E7qEOeai8OU-",
        "colab_type": "text"
      },
      "source": [
        "**CHECK STATIC COLUMNS (WITH ONLY ONE VALUE)**"
      ]
    },
    {
      "cell_type": "code",
      "metadata": {
        "id": "cUmRjnemdOxf",
        "colab_type": "code",
        "colab": {
          "base_uri": "https://localhost:8080/",
          "height": 202
        },
        "outputId": "b4f0c840-a0d8-43bb-b959-f99b67feaa5b"
      },
      "source": [
        "for  col in list(train.columns) :\n",
        "  if len(list(train[col].unique())) == 1 :\n",
        "    print(str(col) )"
      ],
      "execution_count": 38,
      "outputs": [
        {
          "output_type": "stream",
          "text": [
            "v_is_akeed_delivering\n",
            "v_open_close_flags\n",
            "v_one_click_vendor\n",
            "v_country_id\n",
            "v_city_id\n",
            "v_display_orders\n",
            "item_count_min\n",
            "year_v_updated_at\n",
            "sphere_v_std\n",
            "sphere_v_mean\n",
            "sphere_v_max\n"
          ],
          "name": "stdout"
        }
      ]
    },
    {
      "cell_type": "markdown",
      "metadata": {
        "id": "ogsqfgKJ8WlJ",
        "colab_type": "text"
      },
      "source": [
        "**DROPPING NON IMPORTANT COLUMNS FROM FINAL DATA**"
      ]
    },
    {
      "cell_type": "code",
      "metadata": {
        "id": "T-cPJ6QtOMI5",
        "colab_type": "code",
        "colab": {
          "base_uri": "https://localhost:8080/",
          "height": 34
        },
        "outputId": "4306869e-d182-4c1e-b467-75a2f1d9e6a1"
      },
      "source": [
        "seed = 849\n",
        "np.random.seed(seed)\n",
        "\n",
        "\n",
        "\n",
        "to_drop = ['cust_akeed_customer_id_',\n",
        "           'v_vendor_rating',\t'v_primary_tags',\t'v_vendor_tag_name',\n",
        "           'v_monday_from_time1LAB_ENC',\t'v_monday_to_time1LAB_ENC'\t,'v_tuesday_from_time1LAB_ENC'\t,'v_tuesday_to_time1LAB_ENC',\t'v_wednesday_from_time1LAB_ENC',\n",
        "'v_thursday_from_time1LAB_ENC'\t,'v_thursday_to_time1LAB_ENC',\t'v_friday_from_time1LAB_ENC',\t'v_friday_to_time1LAB_ENC' ,'v_wednesday_to_time1LAB_ENC',\n",
        "'v_friday_from_time2LAB_ENC',\t'v_friday_to_time2LAB_ENC', 'vendor_id_','customer_id_count','customer_id_nunique',''\n",
        "'v_monday_from_time2LAB_ENC' ,\t'v_monday_to_time2LAB_ENC',\t'v_tuesday_from_time2LAB_ENC',\t'v_tuesday_to_time2LAB_ENC',\n",
        "'v_wednesday_from_time2LAB_ENC',\t'v_wednesday_to_time2LAB_ENC'\t,'v_thursday_from_time2LAB_ENC',\t'v_thursday_to_time2LAB_ENC',\n",
        "\n",
        "           'cust_akeed_customer_id','v_is_akeed_delivering', 'v_open_close_flags','v_one_click_vendor', 'v_country_id','v_city_id',\n",
        "           'v_display_orders','cust_customer_id','CID X LOC_NUM X VENDOR','v_authentication_id','cust_language','v_language',\n",
        "           'v_vendor_tag', 'target',\n",
        "           'v_open_close_flags',\n",
        "'v_country_id',\n",
        "'v_city_id',\n",
        "'v_display_orders',\n",
        "'item_count_min',\n",
        "'nb_reordered',\n",
        "'v_nb_tags',\n",
        "'v_is_akeed_delivering',\n",
        "'v_open_close_flags',\n",
        "'v_one_click_vendor',\n",
        "'v_country_id',\n",
        "'v_city_id',\n",
        "'v_display_orders',\n",
        "'item_count_min',\n",
        "'year_v_updated_at',]\n",
        "\n",
        "features = [c for c in train.columns if c not in to_drop]\n",
        "len(features)"
      ],
      "execution_count": 39,
      "outputs": [
        {
          "output_type": "execute_result",
          "data": {
            "text/plain": [
              "171"
            ]
          },
          "metadata": {
            "tags": []
          },
          "execution_count": 39
        }
      ]
    },
    {
      "cell_type": "markdown",
      "metadata": {
        "id": "okrEg8VU8eWp",
        "colab_type": "text"
      },
      "source": [
        "**HERE WE DO OUR SPLIT ( Based on New customers )**"
      ]
    },
    {
      "cell_type": "code",
      "metadata": {
        "id": "3rIDc_YGdWX9",
        "colab_type": "code",
        "colab": {
          "base_uri": "https://localhost:8080/",
          "height": 50
        },
        "outputId": "5b88cd46-b3f2-4a53-a134-7d89d6ee7784"
      },
      "source": [
        "%%time\n",
        "train = train.sort_values(by='cust_akeed_customer_id', ascending=False).reset_index(drop=True)\n",
        "\n",
        "\n",
        "target = train['target']\n",
        "X_test = train[features][:892500].values\n",
        "y_test = target[:892500].values\n",
        "\n",
        "X_train = train[features][892500:].values\n",
        "y_train = target[892500:].values\n",
        "\n",
        "trn_data = lgb.Dataset(X_train, label=y_train)\n",
        "val_data = lgb.Dataset(X_test, label=y_test)"
      ],
      "execution_count": 40,
      "outputs": [
        {
          "output_type": "stream",
          "text": [
            "CPU times: user 20.6 s, sys: 1.05 s, total: 21.6 s\n",
            "Wall time: 21.6 s\n"
          ],
          "name": "stdout"
        }
      ]
    },
    {
      "cell_type": "markdown",
      "metadata": {
        "id": "g3DdyCYceY0Z",
        "colab_type": "text"
      },
      "source": [
        "**Training Takes UP to 2h to run**"
      ]
    },
    {
      "cell_type": "code",
      "metadata": {
        "id": "9b0R4KYwdlbn",
        "colab_type": "code",
        "colab": {
          "base_uri": "https://localhost:8080/",
          "height": 134
        },
        "outputId": "f1b95b4a-dcef-469f-b1d6-d2405bb47ee5"
      },
      "source": [
        "%%time\n",
        "\n",
        "weight = 5870158/80142/10\n",
        "param = {\n",
        "    'bagging_freq': 1,\n",
        "    'bagging_fraction': 0.8,\n",
        "    'feature_fraction': 0.9,\n",
        "    'boost_from_average':'false',\n",
        "    'num_leaves': 90,\n",
        "    'boost': 'gbdt',\n",
        "    'learning_rate': 0.02,\n",
        "    'metric':'auc',\n",
        "    'scale_pos_weight': round(weight, 1),\n",
        "    'tree_learner': 'serial',\n",
        "    'objective': 'binary',\n",
        "    'random_state': seed,\n",
        "    'n_jobs': -1,\n",
        "    'verbosity': -1\n",
        "}\n",
        "\n",
        "lgb_model = lgb.train(param, trn_data, 5000, valid_sets = [trn_data, val_data], verbose_eval=200, early_stopping_rounds=200)"
      ],
      "execution_count": null,
      "outputs": [
        {
          "output_type": "stream",
          "text": [
            "Training until validation scores don't improve for 200 rounds.\n",
            "[200]\ttraining's auc: 0.918955\tvalid_1's auc: 0.917123\n",
            "[400]\ttraining's auc: 0.929978\tvalid_1's auc: 0.922986\n",
            "[600]\ttraining's auc: 0.936566\tvalid_1's auc: 0.924705\n",
            "[800]\ttraining's auc: 0.941516\tvalid_1's auc: 0.925494\n",
            "[1000]\ttraining's auc: 0.945757\tvalid_1's auc: 0.925983\n",
            "[1200]\ttraining's auc: 0.9494\tvalid_1's auc: 0.926372\n"
          ],
          "name": "stdout"
        }
      ]
    },
    {
      "cell_type": "markdown",
      "metadata": {
        "id": "AvgkF1Lg80TL",
        "colab_type": "text"
      },
      "source": [
        "**VALIDATION AND PREDICTION :**"
      ]
    },
    {
      "cell_type": "code",
      "metadata": {
        "id": "7k8qB4vds7FL",
        "colab_type": "code",
        "colab": {}
      },
      "source": [
        "pred = lgb_model.predict(X_test)"
      ],
      "execution_count": null,
      "outputs": []
    },
    {
      "cell_type": "markdown",
      "metadata": {
        "id": "3ovLf3MQ88pW",
        "colab_type": "text"
      },
      "source": [
        "**HERE WE TRY TO FIND THE BEST THRESHOLD ON VALIDATION SET**"
      ]
    },
    {
      "cell_type": "code",
      "metadata": {
        "id": "fJnuYGtaxZPQ",
        "colab_type": "code",
        "colab": {}
      },
      "source": [
        "best_score = -1\n",
        "best_threshold = 0\n",
        "score= 0 \n",
        "for i in np.arange(0.45, 0.55, 0.0005):\n",
        "\n",
        "  pred_lgb = (pred >= i)*1\n",
        "  score = f1_score(y_test, pred_lgb) \n",
        "  if score > best_score:\n",
        "    best_score= score\n",
        "    best_threshold = i\n",
        "    print(\"Current Best threshold : \",best_threshold )\n",
        "    print(\"Current Best Score : \",best_score )\n",
        "    print(\"********************\")"
      ],
      "execution_count": null,
      "outputs": []
    },
    {
      "cell_type": "code",
      "metadata": {
        "id": "jOdX4GV7xZW1",
        "colab_type": "code",
        "colab": {}
      },
      "source": [
        "pred = (pred >= best_threshold)*1\n",
        "print('Best F1 Score : ', f1_score(y_test, pred))"
      ],
      "execution_count": null,
      "outputs": []
    },
    {
      "cell_type": "code",
      "metadata": {
        "id": "bZTiKup8xZam",
        "colab_type": "code",
        "colab": {}
      },
      "source": [
        "print(classification_report(y_test, pred))"
      ],
      "execution_count": null,
      "outputs": []
    },
    {
      "cell_type": "code",
      "metadata": {
        "id": "OcbyAmJWxxPI",
        "colab_type": "code",
        "colab": {}
      },
      "source": [
        "test_id = test['CID X LOC_NUM X VENDOR']\n",
        "full_pred = lgb_model.predict(test[features].values)"
      ],
      "execution_count": null,
      "outputs": []
    },
    {
      "cell_type": "code",
      "metadata": {
        "id": "bCB0sgTPx_EP",
        "colab_type": "code",
        "colab": {}
      },
      "source": [
        "submission = pd.DataFrame()\n",
        "submission['CID X LOC_NUM X VENDOR'] = test_id\n",
        "submission['target'] = (full_pred >= best_threshold)*1\n",
        "submission.target.value_counts()"
      ],
      "execution_count": null,
      "outputs": []
    },
    {
      "cell_type": "code",
      "metadata": {
        "id": "lai11Zv_qanm",
        "colab_type": "code",
        "colab": {}
      },
      "source": [
        "submission.target.mean()"
      ],
      "execution_count": null,
      "outputs": []
    },
    {
      "cell_type": "code",
      "metadata": {
        "id": "l_MzJvZxGakE",
        "colab_type": "code",
        "colab": {}
      },
      "source": [
        "submission.to_csv(\"AKEED_LGBM_NACIR_BINARY.csv\",index=False)"
      ],
      "execution_count": null,
      "outputs": []
    },
    {
      "cell_type": "markdown",
      "metadata": {
        "id": "vX0arsvEfHLB",
        "colab_type": "text"
      },
      "source": [
        "# **FLOATS PREDICTIONS : ( This part is needed for blend)**"
      ]
    },
    {
      "cell_type": "code",
      "metadata": {
        "id": "F0RX7nssfKuL",
        "colab_type": "code",
        "colab": {}
      },
      "source": [
        "submission = pd.DataFrame()\n",
        "submission['CID X LOC_NUM X VENDOR'] = test_id\n",
        "submission['target'] = full_pred"
      ],
      "execution_count": null,
      "outputs": []
    },
    {
      "cell_type": "code",
      "metadata": {
        "id": "YIbOlPVNfYv4",
        "colab_type": "code",
        "colab": {}
      },
      "source": [
        "submission.head()"
      ],
      "execution_count": null,
      "outputs": []
    },
    {
      "cell_type": "code",
      "metadata": {
        "id": "T6KOgOF5fbqJ",
        "colab_type": "code",
        "colab": {}
      },
      "source": [
        "submission.to_csv(\"AKEED_LGBM_NACIR_FLOATS.csv\",index=False)"
      ],
      "execution_count": null,
      "outputs": []
    }
  ]
}