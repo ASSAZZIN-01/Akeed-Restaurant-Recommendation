{
  "nbformat": 4,
  "nbformat_minor": 0,
  "metadata": {
    "colab": {
      "name": "LGBM_CATEGORICAL_FEATURE",
      "provenance": [],
      "collapsed_sections": [],
      "machine_shape": "hm"
    },
    "kernelspec": {
      "name": "python3",
      "display_name": "Python 3"
    }
  },
  "cells": [
    {
      "cell_type": "markdown",
      "metadata": {
        "id": "sweLqSI1R2HR",
        "colab_type": "text"
      },
      "source": [
        "# **IMPORT DATA**"
      ]
    },
    {
      "cell_type": "code",
      "metadata": {
        "id": "oHdyg1fABxAe",
        "colab_type": "code",
        "colab": {
          "base_uri": "https://localhost:8080/",
          "height": 122
        },
        "outputId": "5f78d02e-c34c-4bf2-8bd6-b418198e8623"
      },
      "source": [
        "from google.colab import drive\n",
        "drive.mount('/content/drive')"
      ],
      "execution_count": 1,
      "outputs": [
        {
          "output_type": "stream",
          "text": [
            "Go to this URL in a browser: https://accounts.google.com/o/oauth2/auth?client_id=947318989803-6bn6qk8qdgf4n4g3pfee6491hc0brc4i.apps.googleusercontent.com&redirect_uri=urn%3aietf%3awg%3aoauth%3a2.0%3aoob&scope=email%20https%3a%2f%2fwww.googleapis.com%2fauth%2fdocs.test%20https%3a%2f%2fwww.googleapis.com%2fauth%2fdrive%20https%3a%2f%2fwww.googleapis.com%2fauth%2fdrive.photos.readonly%20https%3a%2f%2fwww.googleapis.com%2fauth%2fpeopleapi.readonly&response_type=code\n",
            "\n",
            "Enter your authorization code:\n",
            "··········\n",
            "Mounted at /content/drive\n"
          ],
          "name": "stdout"
        }
      ]
    },
    {
      "cell_type": "code",
      "metadata": {
        "id": "NIyfw_BnFYia",
        "colab_type": "code",
        "colab": {}
      },
      "source": [
        "path = \"/content/drive/My Drive/Akeed_Competition/\""
      ],
      "execution_count": 2,
      "outputs": []
    },
    {
      "cell_type": "code",
      "metadata": {
        "id": "YwniecdJF4TT",
        "colab_type": "code",
        "colab": {}
      },
      "source": [
        "import gc\n",
        "import math\n",
        "import datetime\n",
        "import pandas as pd\n",
        "import numpy as np\n",
        "from sklearn.preprocessing import LabelEncoder\n",
        "\n",
        "import warnings\n",
        "warnings.filterwarnings(\"ignore\")"
      ],
      "execution_count": 3,
      "outputs": []
    },
    {
      "cell_type": "code",
      "metadata": {
        "id": "X06fxVoZmZMb",
        "colab_type": "code",
        "colab": {
          "base_uri": "https://localhost:8080/",
          "height": 51
        },
        "outputId": "30a12603-5d94-4469-d8f5-197d26371df9"
      },
      "source": [
        "%%time\n",
        "import pandas as pd\n",
        "import warnings\n",
        "warnings.simplefilter('ignore')\n",
        "test_customers=pd.read_csv(path +'test_customers.csv')\n",
        "test_locations=pd.read_csv(path +'test_locations.csv')\n",
        "train_customers=pd.read_csv(path +'train_customers.csv')\n",
        "train_locations=pd.read_csv(path +'train_locations.csv')\n",
        "vendors=pd.read_csv(path +'vendors.csv')\n",
        "vendors = vendors.add_prefix('v_')\n",
        "\n",
        "orders=pd.read_csv(path +'orders.csv')\n",
        "\n",
        "\n",
        "#SampleSubmission = pd.read_csv(path + \"SampleSubmission (8).csv\")"
      ],
      "execution_count": 4,
      "outputs": [
        {
          "output_type": "stream",
          "text": [
            "CPU times: user 984 ms, sys: 161 ms, total: 1.15 s\n",
            "Wall time: 7.13 s\n"
          ],
          "name": "stdout"
        }
      ]
    },
    {
      "cell_type": "markdown",
      "metadata": {
        "id": "aeku4adXQ96C",
        "colab_type": "text"
      },
      "source": [
        "# **Create final train & test**"
      ]
    },
    {
      "cell_type": "code",
      "metadata": {
        "id": "aKNP7be1UYut",
        "colab_type": "code",
        "colab": {}
      },
      "source": [
        "def reduce_mem_usage(df, verbose=True):\n",
        "  numerics = ['int16', 'int32', 'int64', 'float16', 'float32', 'float64']\n",
        "  start_mem = df.memory_usage().sum() / 1024**2\n",
        "  for col in df.columns:\n",
        "      col_type = df[col].dtypes\n",
        "      if col_type in numerics:\n",
        "          c_min = df[col].min()\n",
        "          c_max = df[col].max()\n",
        "          if str(col_type)[:3] == 'int':\n",
        "              if c_min > np.iinfo(np.int8).min and c_max < np.iinfo(np.int8).max:\n",
        "                  df[col] = df[col].astype(np.int8)\n",
        "              elif c_min > np.iinfo(np.int16).min and c_max < np.iinfo(np.int16).max:\n",
        "                  df[col] = df[col].astype(np.int16)\n",
        "              elif c_min > np.iinfo(np.int32).min and c_max < np.iinfo(np.int32).max:\n",
        "                  df[col] = df[col].astype(np.int32)\n",
        "              elif c_min > np.iinfo(np.int64).min and c_max < np.iinfo(np.int64).max:\n",
        "                  df[col] = df[col].astype(np.int64)\n",
        "          else:\n",
        "              if c_min > np.finfo(np.float16).min and c_max < np.finfo(np.float16).max:\n",
        "                  df[col] = df[col].astype(np.float16)\n",
        "              elif c_min > np.finfo(np.float32).min and c_max < np.finfo(np.float32).max:\n",
        "                  df[col] = df[col].astype(np.float32)\n",
        "              else:\n",
        "                  df[col] = df[col].astype(np.float64)\n",
        "\n",
        "  end_mem = df.memory_usage().sum() / 1024**2\n",
        "  print('Memory usage after optimization is: {:.2f} MB'.format(end_mem))\n",
        "  print('Decreased by {:.1f}%'.format(100 * (start_mem - end_mem) / start_mem))\n",
        "\n",
        "  return df"
      ],
      "execution_count": 5,
      "outputs": []
    },
    {
      "cell_type": "code",
      "metadata": {
        "id": "9LLBg7K8Wa60",
        "colab_type": "code",
        "colab": {}
      },
      "source": [
        "def prepare_orders(orders) :\n",
        "    \n",
        "    ################################### NEW NEW NEW NEW ###################################################################\n",
        "                 # 1- loc_rate\n",
        "                 # 2- some aggs\n",
        "    loc_rate = orders.groupby(by=\"LOCATION_NUMBER\",as_index=False).agg({'driver_rating' : ['min','mean'], } )\n",
        "    orders = pd.merge(orders,loc_rate,how='left',on=\"LOCATION_NUMBER\")\n",
        "\n",
        "    vendor_stats = orders.groupby(by=\"vendor_id\",as_index=False).agg({ \n",
        "        'customer_id':['count','nunique'],\n",
        "        'item_count':['mean','min' ,'std'],\n",
        "        'grand_total':['mean','min' ,'std'],\n",
        "        'driver_rating' : ['mean','std'],\n",
        "        'deliverydistance' : ['std','mean'],\n",
        "        \n",
        "        })\n",
        "    vendor_stats.columns = [\"_\".join(x) for x in vendor_stats.columns.ravel()]\n",
        "    \n",
        "    vendor_stats['nb_reordered'] = (vendor_stats['customer_id_count']-vendor_stats['customer_id_nunique'])\n",
        "    \n",
        "    return vendor_stats"
      ],
      "execution_count": 6,
      "outputs": []
    },
    {
      "cell_type": "code",
      "metadata": {
        "id": "Q8eRYGNstO2u",
        "colab_type": "code",
        "colab": {
          "base_uri": "https://localhost:8080/",
          "height": 221
        },
        "outputId": "8b024d6a-6ec7-44cd-edba-330edbc2975d"
      },
      "source": [
        "vendors['v_vendor_tag_name'].str.split(',').str.len().fillna(0).astype('int').value_counts()"
      ],
      "execution_count": 7,
      "outputs": [
        {
          "output_type": "execute_result",
          "data": {
            "text/plain": [
              "5     25\n",
              "4     18\n",
              "7     13\n",
              "3     11\n",
              "10     9\n",
              "6      5\n",
              "2      5\n",
              "9      4\n",
              "8      4\n",
              "1      3\n",
              "0      3\n",
              "Name: v_vendor_tag_name, dtype: int64"
            ]
          },
          "metadata": {
            "tags": []
          },
          "execution_count": 7
        }
      ]
    },
    {
      "cell_type": "code",
      "metadata": {
        "id": "ztRP-weCUgIj",
        "colab_type": "code",
        "colab": {}
      },
      "source": [
        "def prepare_vendors(vendors,vendor_stats):\n",
        "\n",
        "      #merging stats with vendors\n",
        "      vendors = pd.merge(vendors,vendor_stats,how=\"left\",right_on=\"vendor_id_\",left_on=\"v_id\")\n",
        "      \n",
        "      \n",
        "      \n",
        "      \n",
        "      ############################################   FEATURE ENGINEERING  ON VENDORS ###############################################\n",
        "      \n",
        "      vendors['length_of_tags'] = vendors['v_vendor_tag_name'].str.split(',').str.len().fillna(0).astype('int')\n",
        "      vendors['Multi_option'] = vendors['length_of_tags'].apply(lambda x : 1 if x>=7 else 0)\n",
        "      vendors['Medium_option'] = vendors['length_of_tags'].apply(lambda x : 1 if (x<=7 and x>=3) else 0)\n",
        "      vendors['Low_option'] = vendors['length_of_tags'].apply(lambda x : 1 if (x<=3 ) else 0)\n",
        "\n",
        "      vendors['quality'] = vendors['length_of_tags'] * vendors['v_vendor_rating']\n",
        "      \n",
        "      \n",
        "      \n",
        "      #################################     Here i will calculate Hours of work    ################\n",
        "      \n",
        "      \n",
        "      \n",
        "      vendors['v_total_hours_per_week'] = 0\n",
        "      vendors['v_total_services_per_week'] = 0\n",
        "\n",
        "      for i , col in enumerate([('v_sunday_from_time2','v_sunday_to_time2'),('v_monday_from_time2','v_monday_to_time2'),('v_tuesday_from_time2','v_tuesday_to_time2'),('v_wednesday_from_time2','v_wednesday_to_time2'),('v_thursday_from_time2','v_thursday_to_time2'),('v_friday_from_time2','v_friday_to_time2'),('v_saturday_from_time2','v_saturday_to_time2')]) :\n",
        "            vendors[col[0]] = pd.to_datetime(vendors[col[0]], yearfirst=True)\n",
        "            vendors[col[1]] = pd.to_datetime(vendors[col[1]], yearfirst=True)\n",
        "            #hours\n",
        "            vendors[f'time2_diff_of_day_{i}'] = vendors[col[1]] - vendors[col[0]]\n",
        "            vendors[f'time2_diff_of_day_{i}']  =vendors[f'time2_diff_of_day_{i}'].apply(number_of_hours)\n",
        "            vendors['v_total_hours_per_week']  = vendors['v_total_hours_per_week'] + vendors[f'time2_diff_of_day_{i}']\n",
        "\n",
        "            del vendors[f'time2_diff_of_day_{i}']\n",
        "            #minutes\n",
        "            vendors[f'time2_diff_minutes_of_day_{i}'] = vendors[col[1]] - vendors[col[0]]\n",
        "            \n",
        "            vendors[f'time2_diff_minutes_of_day_{i}']  =vendors[f'time2_diff_minutes_of_day_{i}'].apply(number_of_minutes)\n",
        "            vendors[f'estimated_number_of_services_on_day_{i}'] = vendors[f'time2_diff_minutes_of_day_{i}'] // vendors['v_prepration_time']\n",
        "            vendors['v_total_services_per_week'] = vendors['v_total_services_per_week'] + vendors[f'estimated_number_of_services_on_day_{i}']\n",
        "\n",
        "            del vendors[f'time2_diff_minutes_of_day_{i}']\n",
        "            del vendors[f'estimated_number_of_services_on_day_{i}']\n",
        "\n",
        "        \n",
        "\n",
        "      return vendors"
      ],
      "execution_count": 8,
      "outputs": []
    },
    {
      "cell_type": "code",
      "metadata": {
        "id": "Hp8vMTsAGani",
        "colab_type": "code",
        "colab": {}
      },
      "source": [
        "def pre_final_df(train_customers,train_locations,vendors) :\n",
        "      train_customers = train_customers.drop_duplicates(\"akeed_customer_id\").reset_index()\n",
        "      train_locations=train_locations.rename(columns = {\"customer_id\":\"akeed_customer_id\"})\n",
        "      First_Train= train_customers.merge(train_locations,on=\"akeed_customer_id\",how=\"right\")\n",
        "      First_Train = First_Train.add_prefix('cust_')\n",
        "       \n",
        "      pre_Final_df = vendors.assign(key=1).merge(First_Train.assign(key=1), on='key').drop('key',axis=1)\n",
        "\n",
        "      return pre_Final_df"
      ],
      "execution_count": 9,
      "outputs": []
    },
    {
      "cell_type": "code",
      "metadata": {
        "id": "3TIGGCfrUgL2",
        "colab_type": "code",
        "colab": {}
      },
      "source": [
        "def number_of_hours(duration):\n",
        "    time_s = duration.total_seconds()\n",
        "    nb_hours = divmod(time_s, 3600)[0]\n",
        "    return nb_hours"
      ],
      "execution_count": 10,
      "outputs": []
    },
    {
      "cell_type": "code",
      "metadata": {
        "id": "6xF7IJTdUgRM",
        "colab_type": "code",
        "colab": {}
      },
      "source": [
        "def number_of_minutes(duration):\n",
        "    time_s = duration.total_seconds()\n",
        "    nb_minutes = divmod(time_s, 60)[0]\n",
        "    return nb_minutes"
      ],
      "execution_count": 11,
      "outputs": []
    },
    {
      "cell_type": "code",
      "metadata": {
        "id": "gRqygZ27CXHE",
        "colab_type": "code",
        "colab": {}
      },
      "source": [
        "def days(duration):\n",
        "    time_s = duration.total_seconds()\n",
        "    nb_days = divmod(time_s, 86400)[0]\n",
        "    return nb_days"
      ],
      "execution_count": 12,
      "outputs": []
    },
    {
      "cell_type": "code",
      "metadata": {
        "id": "wA_pCKO4DKXT",
        "colab_type": "code",
        "colab": {}
      },
      "source": [
        "def haversine(lat1, lng1, lat2, lng2 ):\n",
        "    \n",
        "    \n",
        "    lat1, lng1, lat2, lng2 = map(np.radians, (lat1, lng1, lat2, lng2))\n",
        "    lat_diff = lat2 - lat1\n",
        "    long_diff = lng2 - lng1\n",
        "    distance = np.sin(lat_diff * 0.5) ** 2 + np.cos(lat1) * np.cos(lat2) * np.sin(long_diff * 0.5) ** 2\n",
        "    haversine_ = 2 * 6371 * np.arcsin(np.sqrt(distance))\n",
        "    return haversine_"
      ],
      "execution_count": 13,
      "outputs": []
    },
    {
      "cell_type": "code",
      "metadata": {
        "id": "ZFSpfFAzECkb",
        "colab_type": "code",
        "colab": {}
      },
      "source": [
        "def distance(lat1, lon1, lat2, lon2):\n",
        "    p = 0.017453292519943295 # Pi/180\n",
        "    a = 0.5 - np.cos((lat2 - lat1) * p)/2 + np.cos(lat1 * p) * np.cos(lat2 * p) * (1 - np.cos((lon2 - lon1) * p)) / 2\n",
        "    return 0.6213712 * 12742 * np.arcsin(np.sqrt(a))"
      ],
      "execution_count": 14,
      "outputs": []
    },
    {
      "cell_type": "code",
      "metadata": {
        "id": "E9DRaqP3DKZ7",
        "colab_type": "code",
        "colab": {}
      },
      "source": [
        "def manhattan_distance(lat1, lng1, lat2, lng2):\n",
        "    \n",
        "    h1 = haversine(lat1, lng1, lat1, lng2)\n",
        "    h2 = haversine(lat1, lng1, lat2, lng1)\n",
        "    return h1 + h2"
      ],
      "execution_count": 15,
      "outputs": []
    },
    {
      "cell_type": "code",
      "metadata": {
        "id": "-2tHQe2hDKcz",
        "colab_type": "code",
        "colab": {}
      },
      "source": [
        "def bearing(lat1, lng1, lat2, lng2):\n",
        "    lon_rad = np.radians(lng2 - lng1)\n",
        "    lat1, lng1, lat2, lng2 = map(np.radians, (lat1, lng1, lat2, lng2))\n",
        "    \n",
        "    return np.degrees(np.arctan2(np.sin(lon_rad) * np.cos(lat2), np.cos(lat1) * np.sin(lat2) - np.sin(lat1) * np.cos(lat2) * np.cos(lon_rad)))"
      ],
      "execution_count": 16,
      "outputs": []
    },
    {
      "cell_type": "code",
      "metadata": {
        "id": "jPe03jG_yfff",
        "colab_type": "code",
        "colab": {}
      },
      "source": [
        "def sphere_volume(r):\n",
        "  pi = 3.1415926535897931\n",
        "  V= 4.0/3.0*pi* r**3\n",
        "  return V "
      ],
      "execution_count": 17,
      "outputs": []
    },
    {
      "cell_type": "code",
      "metadata": {
        "id": "_n4P7bAyyvgA",
        "colab_type": "code",
        "colab": {}
      },
      "source": [
        "def radian_conv(degree):\n",
        "    \"\"\"\n",
        "    Return radian.\n",
        "    \"\"\"\n",
        "    return  np.radians(degree) "
      ],
      "execution_count": 18,
      "outputs": []
    },
    {
      "cell_type": "code",
      "metadata": {
        "id": "C81AEiV26yPJ",
        "colab_type": "code",
        "colab": {}
      },
      "source": [
        "def calculateDistance2D(x1,y1,x2,y2):  \n",
        "  \"\"\"\n",
        "  return 2D distance\n",
        "  \"\"\"\n",
        "  dist = np.sqrt((x2 - x1)**2 + (y2 - y1)**2)  \n",
        "  return dist  "
      ],
      "execution_count": 19,
      "outputs": []
    },
    {
      "cell_type": "code",
      "metadata": {
        "id": "rpVOfX2nOtcl",
        "colab_type": "code",
        "colab": {}
      },
      "source": [
        "def process_df(df):\n",
        "    \n",
        "     \n",
        "\n",
        "     ################################ SIMPLE FEATURE ENGINEERING #########################################################\n",
        "    df['cust_gender'] = df.cust_gender.str.strip()   # remove spaces\n",
        "    df.replace({'cust_gender': {'male': 'Male', '?????': 'NaN', '': 'NaN'}}, inplace=True)    \n",
        "    df.replace({'v_OpeningTime2': {'-': 'NaN'}}, inplace=True)\n",
        "    \n",
        "    \n",
        "    \n",
        "    \n",
        "    \n",
        "    \n",
        "    \n",
        "    ################################ Distance FEATURE ENGINEERING #########################################################\n",
        "    \n",
        "    df['harvesine_dist'] = haversine(df['cust_latitude'], df['cust_longitude'], df['v_latitude'], df['v_longitude']) /1000\n",
        "    df['manhattan_dist'] = manhattan_distance(df['cust_latitude'], df['cust_longitude'], df['v_latitude'], df['v_longitude']) /1000\n",
        "    df['other_dist'] = distance(df['cust_latitude'], df['cust_longitude'], df['v_latitude'], df['v_longitude']) /1000\n",
        "    df['bearing'] = bearing(df['cust_latitude'], df['cust_longitude'], df['v_latitude'], df['v_longitude']) \n",
        "    \n",
        "    #distance ratio\n",
        "    df['distance_ratio_1'] = df['harvesine_dist'] / df['v_serving_distance']\n",
        "    df['distance_ratio_2'] = df['manhattan_dist'] / df['v_serving_distance']\n",
        "    df['distance_ratio_3'] = df['other_dist'] / df['v_serving_distance']\n",
        "\n",
        "    #distance diffirence\n",
        "    df['distance_diff_1'] = df['harvesine_dist'] - df['v_serving_distance']\n",
        "    df['distance_diff_2'] = df['manhattan_dist'] - df['v_serving_distance']\n",
        "    df['distance_diff_3'] = df['other_dist'] - df['v_serving_distance']\n",
        "\n",
        "    \n",
        "\n",
        "    ################################ LATITUDE & LOGITUDE FEATURE ENGINEERING #########################################################\n",
        "    # 1-Original Latitude & longitude \n",
        "    # Centre \n",
        "    df['center_latitude'] = (df['cust_latitude'].values + df['v_latitude'].values) / 2\n",
        "    df['center_longitude'] = (df['cust_longitude'].values + df['v_longitude'].values) / 2\n",
        "    # Convulution + ration of diffirence \n",
        "    df['conv1'] = df['cust_latitude']*df['v_latitude'] # remove abs\n",
        "    df['conv2'] = df['cust_longitude']*df['v_longitude'] # remove abs\n",
        "    \n",
        "    df['conv3'] = df['conv1'] *df['conv2']\n",
        "\n",
        "    df['SUM_LAT_LONG'] = df['cust_latitude'] + df['v_latitude'] + df['cust_longitude'] + df['v_longitude'] \n",
        "\n",
        "    df['relation1'] = (df['cust_latitude']-df['cust_longitude']) / (df['v_latitude']-df['v_longitude']) # remove abs\n",
        "    \n",
        "    df['relation2'] = df['SUM_LAT_LONG'] /   df['conv3'] \n",
        "    \n",
        "    df['relation3'] = (df['cust_latitude']+df['cust_longitude']) / (df['v_latitude']+df['v_longitude']) # new \n",
        "    \n",
        "    # 2- Apply radiant to latitude & longitude \n",
        "    df['cust_radiant_latitude'] = radian_conv(df['cust_latitude'])\n",
        "    df['cust_radiant_longitude'] = radian_conv(df['cust_longitude']) \n",
        "    \n",
        "    df['v_radiant_latitude'] = radian_conv(df['v_latitude']) \n",
        "    df['v_radiant_longitude'] = radian_conv(df['v_longitude']) \n",
        "    \n",
        "    df['center_radiant_latitude'] = (df['cust_radiant_latitude'].values + df['v_radiant_latitude'].values) / 2\n",
        "    df['center_radiant_longitude'] = (df['cust_radiant_longitude'].values + df['v_radiant_longitude'].values) / 2\n",
        "\n",
        "    df['radiant_conv1'] = abs(df['cust_radiant_latitude']*df['v_radiant_latitude'])\n",
        "    df['radiant_conv2'] = abs(df['cust_radiant_longitude']*df['v_radiant_longitude'])\n",
        "\n",
        "    #3-Apply cos and sin : Normalization :) \n",
        "      ## customer\n",
        "    df['cust_latitude_cos'] = np.cos(df['cust_radiant_latitude'])\n",
        "    df['cust_latitude_sin'] = np.sin(df['cust_radiant_latitude'])\n",
        "    df['cust_longitude_cos'] = np.cos(df['cust_radiant_longitude'])\n",
        "    df['cust_longitude_sin'] = np.sin(df['cust_radiant_longitude'])\n",
        "\n",
        "     ##customer transforming to x y z coordinates \n",
        "    df['cust_x_coordinate'] = df['cust_longitude_cos'] * df['cust_latitude_cos']\n",
        "    df['cust_y_coordinate'] = df['cust_longitude_sin'] * df['cust_latitude_cos']\n",
        "    df['cust_z_coordinate'] = df['cust_latitude_sin']\n",
        "\n",
        "     ## VENDOR\n",
        "    df['v_latitude_cos'] = np.cos(df['v_radiant_latitude'])\n",
        "    df['v_latitude_sin'] = np.sin(df['v_radiant_latitude'])\n",
        "    df['v_longitude_cos'] = np.cos(df['v_radiant_longitude'])\n",
        "    df['v_longitude_sin'] = np.sin(df['v_radiant_longitude'])    \n",
        "\n",
        "     ## VENDOR transforming to x y z coordinates \n",
        "    df['v_x_coordinate'] = df['v_longitude_cos'] * df['v_latitude_cos']\n",
        "    df['v_y_coordinate'] = df['v_longitude_sin'] * df['v_latitude_cos']\n",
        "    df['v_z_coordinate'] = df['v_latitude_sin'] \n",
        "\n",
        "\n",
        "\n",
        "\n",
        "    # OTHER PROPOSED features \n",
        "    df['time_consuming'] = (df['distance_diff_1'] / 60) / (df['v_prepration_time'] * 5 )  \n",
        "\n",
        "    # distance 2D space between vendor customer \n",
        "    df['2D_distance'] = calculateDistance2D(df['cust_x_coordinate'],df['cust_y_coordinate'],df['v_x_coordinate'],df['v_y_coordinate'])\n",
        "\n",
        "    #sphere volume ########### New \n",
        "    df['sphere_cust']= sphere_volume(df['2D_distance'])\n",
        "    df['sphere_v']= sphere_volume(df['v_serving_distance'])\n",
        "\n",
        "    \n",
        "\n",
        "    ################################ TIME FEATURE ENGINEERING #########################################################\n",
        "\n",
        "    df['cust_created_at'] = pd.to_datetime(df['cust_created_at'], yearfirst=True)\n",
        "    df['cust_updated_at'] = pd.to_datetime(df['cust_updated_at'], yearfirst=True)\n",
        "    df['v_created_at'] = pd.to_datetime(df['v_created_at'], yearfirst=True)\n",
        "    df['v_updated_at'] = pd.to_datetime(df['v_updated_at'], yearfirst=True)\n",
        "    \n",
        "    df['year_cust_created_at'] = df['cust_created_at'].dt.year\n",
        "    df['month_cust_created_at'] = df['cust_created_at'].dt.month\n",
        "    df['doy_cust_created_at'] = df['cust_created_at'].dt.dayofyear\n",
        "    df['woy_cust_created_at'] = df['cust_created_at'].dt.weekofyear\n",
        "    df['wday_cust_created_at'] = df['cust_created_at'].dt.weekday\n",
        "\n",
        "    df['year_cust_updated_at'] = df['cust_updated_at'].dt.year\n",
        "    df['month_cust_updated_at'] = df['cust_updated_at'].dt.month\n",
        "    df['doy_cust_updated_at'] = df['cust_updated_at'].dt.dayofyear\n",
        "    df['woy_cust_updated_at'] = df['cust_updated_at'].dt.weekofyear\n",
        "    df['wday_cust_updated_at'] = df['cust_updated_at'].dt.weekday\n",
        "\n",
        "    df['year_v_created_at'] = df['v_created_at'].dt.year\n",
        "    df['month_v_created_at'] = df['v_created_at'].dt.month\n",
        "    df['doy_v_created_at'] = df['v_created_at'].dt.dayofyear\n",
        "    df['woy_v_created_at'] = df['v_created_at'].dt.weekofyear\n",
        "    df['wday_v_created_at'] = df['v_created_at'].dt.weekday\n",
        "\n",
        "    df['year_v_updated_at'] = df['v_updated_at'].dt.year\n",
        "    df['month_v_updated_at'] = df['v_updated_at'].dt.month\n",
        "    df['doy_v_updated_at'] = df['v_updated_at'].dt.dayofyear\n",
        "    df['woy_v_updated_at'] = df['v_updated_at'].dt.weekofyear\n",
        "    df['wday_v_updated_at'] = df['v_updated_at'].dt.weekday\n",
        "    \n",
        "    df['cust_diff_update_create'] = df['cust_updated_at'] - df['cust_created_at']\n",
        "    df['v_diff_update_create'] = df['v_updated_at'] - df['v_created_at']\n",
        "    df['cust_v_diff_create'] = df['v_created_at'] - df['cust_created_at']\n",
        "    df['cust_v_diff_update'] = df['v_updated_at'] - df['cust_updated_at']\n",
        "\n",
        "    df['cust_diff_update_create'] = df['cust_diff_update_create'].apply(days)\n",
        "    df['v_diff_update_create'] = df['v_diff_update_create'].apply(days)\n",
        "    df['cust_v_diff_create'] = df['cust_v_diff_create'].apply(days)\n",
        "    df['cust_v_diff_update'] = df['cust_v_diff_update'].apply(days)\n",
        "    \n",
        "    \n",
        "    del df['cust_created_at']\n",
        "    del df['cust_updated_at']\n",
        "    del df['v_created_at']\n",
        "    del df['v_updated_at']\n",
        "    gc.collect()\n",
        "    \n",
        "    \n",
        "    #################################   Statistics Based on CUSTOMER ID :D ################################################################\n",
        "    distance_statique = df.groupby(by=\"cust_akeed_customer_id\",as_index=False).agg({ \n",
        "        'distance_diff_1':['mean','std'],\n",
        "        'distance_diff_2':['mean','std'],\n",
        "        'distance_diff_3':['std','mean'],\n",
        "        \n",
        "        'distance_ratio_1' : ['std','mean'] ,\n",
        "        'distance_ratio_2' : ['std','mean'],\n",
        "        \n",
        "        'harvesine_dist' : ['std','mean'],\n",
        "        'bearing' : ['std','mean','median','min','max'], ## add median min max \n",
        "        \n",
        "        'relation1' :['std','mean'],\n",
        "        'center_longitude' : ['std','mean'] ,\n",
        "        'center_latitude' : ['std','mean'] ,\n",
        "\n",
        "        \n",
        "        'cust_diff_update_create' : ['mean','std','max','min'],\n",
        "        'cust_v_diff_create' : ['mean','std','max','min'],\n",
        "        \n",
        "        \n",
        "        'conv1' : ['mean','std'],\n",
        "        'conv2' : ['mean','std'],\n",
        "        'conv3' : ['std','mean'], # new mean \n",
        "        \n",
        "\n",
        "        'radiant_conv1' : ['mean','std'],\n",
        "        'radiant_conv2' : ['mean','std'],\n",
        "        'time_consuming' : ['std','mean'],\n",
        "        \n",
        "        '2D_distance' : ['std','mean','max','min','median'],\n",
        "        ##new \n",
        "        'sphere_cust' : ['std','mean','max'], ##\n",
        "        'sphere_v' : ['std','mean','max'] ##\n",
        "\n",
        "\n",
        "\n",
        "\n",
        "        })\n",
        "    distance_statique.columns = [\"_\".join(x) for x in distance_statique.columns.ravel()]\n",
        "    df = pd.merge(df,distance_statique,how=\"left\",right_on=\"cust_akeed_customer_id_\",left_on=\"cust_akeed_customer_id\")\n",
        "\n",
        "\n",
        "\n",
        "\n",
        "\n",
        "    \n",
        "    return df"
      ],
      "execution_count": 20,
      "outputs": []
    },
    {
      "cell_type": "markdown",
      "metadata": {
        "id": "-zpMH2JBWm9S",
        "colab_type": "text"
      },
      "source": [
        "# **Apply**"
      ]
    },
    {
      "cell_type": "code",
      "metadata": {
        "id": "VjDoelr4ZQIb",
        "colab_type": "code",
        "colab": {}
      },
      "source": [
        "from sklearn.preprocessing import LabelEncoder\n",
        "le = LabelEncoder()\n",
        "def Label_enc(df) :\n",
        "    le_cols =  ['v_sunday_from_time1','v_sunday_to_time1','v_monday_from_time1','v_monday_to_time1','v_tuesday_from_time1','v_tuesday_to_time1',\n",
        "                 'v_wednesday_from_time1','v_wednesday_to_time1','v_thursday_from_time1','v_thursday_to_time1','v_friday_from_time1',\n",
        "                 'v_friday_to_time1','v_saturday_from_time1','v_saturday_to_time1',\n",
        "                 'v_sunday_from_time2','v_sunday_to_time2','v_monday_from_time2','v_monday_to_time2','v_tuesday_from_time2','v_tuesday_to_time2',\n",
        "                 'v_wednesday_from_time2','v_wednesday_to_time2','v_thursday_from_time2','v_thursday_to_time2','v_friday_from_time2',\n",
        "                 'v_friday_to_time2','v_saturday_from_time2','v_saturday_to_time2',]\n",
        "    for col in le_cols:\n",
        "    \n",
        "      df[col][pd.isnull(df[col])]  = 'nan'\n",
        "      df[col+'LAB_ENC']= le.fit_transform(df[col])\n",
        "    return df"
      ],
      "execution_count": 21,
      "outputs": []
    },
    {
      "cell_type": "code",
      "metadata": {
        "id": "clZM7IqEZSAp",
        "colab_type": "code",
        "colab": {
          "base_uri": "https://localhost:8080/",
          "height": 51
        },
        "outputId": "423e9c59-e758-4dfe-da51-6e62f1235810"
      },
      "source": [
        "%%time\n",
        "vendors = Label_enc(vendors)"
      ],
      "execution_count": 22,
      "outputs": [
        {
          "output_type": "stream",
          "text": [
            "CPU times: user 84.8 ms, sys: 4.01 ms, total: 88.8 ms\n",
            "Wall time: 82.4 ms\n"
          ],
          "name": "stdout"
        }
      ]
    },
    {
      "cell_type": "code",
      "metadata": {
        "id": "OLw9tWIcWgW6",
        "colab_type": "code",
        "colab": {
          "base_uri": "https://localhost:8080/",
          "height": 51
        },
        "outputId": "d4881562-3580-406f-e438-ff7f83dd759f"
      },
      "source": [
        "%%time\n",
        "vendor_stats = prepare_orders(orders)\n",
        "vendors = prepare_vendors(vendors,vendor_stats)"
      ],
      "execution_count": 23,
      "outputs": [
        {
          "output_type": "stream",
          "text": [
            "CPU times: user 509 ms, sys: 60 ms, total: 569 ms\n",
            "Wall time: 635 ms\n"
          ],
          "name": "stdout"
        }
      ]
    },
    {
      "cell_type": "code",
      "metadata": {
        "id": "fUwrwttvZUcS",
        "colab_type": "code",
        "colab": {}
      },
      "source": [
        "vendors.drop(['v_sunday_from_time1','v_sunday_to_time1','v_monday_from_time1','v_monday_to_time1','v_tuesday_from_time1','v_tuesday_to_time1',\n",
        "                 'v_wednesday_from_time1','v_wednesday_to_time1','v_thursday_from_time1','v_thursday_to_time1','v_friday_from_time1',\n",
        "                 'v_friday_to_time1','v_saturday_from_time1','v_saturday_to_time1',\n",
        "                 'v_sunday_from_time2','v_sunday_to_time2','v_monday_from_time2','v_monday_to_time2','v_tuesday_from_time2','v_tuesday_to_time2',\n",
        "                 'v_wednesday_from_time2','v_wednesday_to_time2','v_thursday_from_time2','v_thursday_to_time2','v_friday_from_time2',\n",
        "                 'v_friday_to_time2','v_saturday_from_time2','v_saturday_to_time2',\n",
        "              'v_monday_from_time1LAB_ENC',\t'v_monday_to_time1LAB_ENC'\t,'v_tuesday_from_time1LAB_ENC'\t,'v_tuesday_to_time1LAB_ENC',\t'v_wednesday_from_time1LAB_ENC',\n",
        "'v_thursday_from_time1LAB_ENC'\t,'v_thursday_to_time1LAB_ENC',\t'v_friday_from_time1LAB_ENC',\t'v_friday_to_time1LAB_ENC' ,'v_wednesday_to_time1LAB_ENC',\n",
        "'v_friday_from_time2LAB_ENC',\t'v_friday_to_time2LAB_ENC', 'vendor_id_','customer_id_count','customer_id_nunique',''\n",
        "'v_monday_from_time2LAB_ENC' ,\t'v_monday_to_time2LAB_ENC',\t'v_tuesday_from_time2LAB_ENC',\t'v_tuesday_to_time2LAB_ENC',\n",
        "'v_wednesday_from_time2LAB_ENC',\t'v_wednesday_to_time2LAB_ENC'\t,'v_thursday_from_time2LAB_ENC',\t'v_thursday_to_time2LAB_ENC',],1,inplace=True)"
      ],
      "execution_count": 24,
      "outputs": []
    },
    {
      "cell_type": "code",
      "metadata": {
        "id": "81ReFHIeEJ_r",
        "colab_type": "code",
        "colab": {
          "base_uri": "https://localhost:8080/",
          "height": 51
        },
        "outputId": "f16024bf-af32-4d09-e6be-f9cb541d327d"
      },
      "source": [
        "%%time\n",
        "\n",
        "pre_Final_train = pre_final_df(train_customers, train_locations, vendors)\n",
        "pre_Final_test = pre_final_df(test_customers, test_locations, vendors)"
      ],
      "execution_count": 25,
      "outputs": [
        {
          "output_type": "stream",
          "text": [
            "CPU times: user 18.7 s, sys: 4.66 s, total: 23.3 s\n",
            "Wall time: 23.3 s\n"
          ],
          "name": "stdout"
        }
      ]
    },
    {
      "cell_type": "code",
      "metadata": {
        "id": "3oCa8BfORy4O",
        "colab_type": "code",
        "colab": {
          "base_uri": "https://localhost:8080/",
          "height": 119
        },
        "outputId": "8b463794-4153-484c-a86c-c03207c28925"
      },
      "source": [
        "%%time\n",
        "\n",
        "pre_Final_train = reduce_mem_usage(pre_Final_train)\n",
        "pre_Final_test = reduce_mem_usage(pre_Final_test)"
      ],
      "execution_count": 26,
      "outputs": [
        {
          "output_type": "stream",
          "text": [
            "Memory usage after optimization is: 1327.87 MB\n",
            "Decreased by 58.8%\n",
            "Memory usage after optimization is: 373.12 MB\n",
            "Decreased by 58.8%\n",
            "CPU times: user 12.8 s, sys: 57.8 ms, total: 12.9 s\n",
            "Wall time: 12.9 s\n"
          ],
          "name": "stdout"
        }
      ]
    },
    {
      "cell_type": "code",
      "metadata": {
        "id": "gudXernpEKE7",
        "colab_type": "code",
        "colab": {
          "base_uri": "https://localhost:8080/",
          "height": 51
        },
        "outputId": "491c7733-3f60-430a-e631-27a4bf960f2e"
      },
      "source": [
        "%%time\n",
        "\n",
        "train = process_df(pre_Final_train)\n",
        "test = process_df(pre_Final_test)"
      ],
      "execution_count": 27,
      "outputs": [
        {
          "output_type": "stream",
          "text": [
            "CPU times: user 6min 1s, sys: 4.32 s, total: 6min 5s\n",
            "Wall time: 6min 6s\n"
          ],
          "name": "stdout"
        }
      ]
    },
    {
      "cell_type": "code",
      "metadata": {
        "id": "Y_aBpYYtZ7Gj",
        "colab_type": "code",
        "colab": {
          "base_uri": "https://localhost:8080/",
          "height": 119
        },
        "outputId": "e3dce7f2-ee33-473e-f7eb-41175ecaecc5"
      },
      "source": [
        "%%time\n",
        "train = reduce_mem_usage(train)\n",
        "test = reduce_mem_usage(test)\n",
        "\n",
        "del pre_Final_train , pre_Final_test\n",
        "gc.collect()"
      ],
      "execution_count": 28,
      "outputs": [
        {
          "output_type": "stream",
          "text": [
            "Memory usage after optimization is: 2888.40 MB\n",
            "Decreased by 26.9%\n",
            "Memory usage after optimization is: 811.62 MB\n",
            "Decreased by 26.9%\n",
            "CPU times: user 28 s, sys: 393 ms, total: 28.4 s\n",
            "Wall time: 28.4 s\n"
          ],
          "name": "stdout"
        }
      ]
    },
    {
      "cell_type": "code",
      "metadata": {
        "id": "CSM-DTebKYpX",
        "colab_type": "code",
        "colab": {}
      },
      "source": [
        "le = LabelEncoder()\n",
        "def Label_enc(df) :\n",
        "    le_cols =  ['cust_location_type','v_OpeningTime','v_OpeningTime2',\n",
        "                  'v_vendor_category_en',\n",
        "                  'cust_gender',] \n",
        "                 \n",
        "                \n",
        "    le_cols = list(set(le_cols))\n",
        "    for col in le_cols:\n",
        "      print(30 * '=')\n",
        "      print('Label_enc TO ---> : ' ,col)\n",
        "      df[col][pd.isnull(df[col])]  = 'nan'\n",
        "      df[col]= le.fit_transform(df[col])\n",
        "    return df"
      ],
      "execution_count": 29,
      "outputs": []
    },
    {
      "cell_type": "code",
      "metadata": {
        "id": "-F7JiSHcPJ-X",
        "colab_type": "code",
        "colab": {
          "base_uri": "https://localhost:8080/",
          "height": 391
        },
        "outputId": "e4e903e1-a9b6-47f1-884d-10974627f998"
      },
      "source": [
        "%%time\n",
        "\n",
        "train = Label_enc(train)\n",
        "test = Label_enc(test)"
      ],
      "execution_count": 30,
      "outputs": [
        {
          "output_type": "stream",
          "text": [
            "==============================\n",
            "Label_enc TO ---> :  v_OpeningTime2\n",
            "==============================\n",
            "Label_enc TO ---> :  v_vendor_category_en\n",
            "==============================\n",
            "Label_enc TO ---> :  cust_location_type\n",
            "==============================\n",
            "Label_enc TO ---> :  cust_gender\n",
            "==============================\n",
            "Label_enc TO ---> :  v_OpeningTime\n",
            "==============================\n",
            "Label_enc TO ---> :  v_OpeningTime2\n",
            "==============================\n",
            "Label_enc TO ---> :  v_vendor_category_en\n",
            "==============================\n",
            "Label_enc TO ---> :  cust_location_type\n",
            "==============================\n",
            "Label_enc TO ---> :  cust_gender\n",
            "==============================\n",
            "Label_enc TO ---> :  v_OpeningTime\n",
            "CPU times: user 12.8 s, sys: 86 ms, total: 12.9 s\n",
            "Wall time: 12.9 s\n"
          ],
          "name": "stdout"
        }
      ]
    },
    {
      "cell_type": "code",
      "metadata": {
        "id": "xl4l__uPfcb-",
        "colab_type": "code",
        "colab": {
          "base_uri": "https://localhost:8080/",
          "height": 119
        },
        "outputId": "8a194c3a-987f-4a76-d1a0-b40a24f9d923"
      },
      "source": [
        "%%time\n",
        "train = reduce_mem_usage(train)\n",
        "test = reduce_mem_usage(test)"
      ],
      "execution_count": 31,
      "outputs": [
        {
          "output_type": "stream",
          "text": [
            "Memory usage after optimization is: 2689.78 MB\n",
            "Decreased by 6.9%\n",
            "Memory usage after optimization is: 755.81 MB\n",
            "Decreased by 6.9%\n",
            "CPU times: user 25.8 s, sys: 43.5 ms, total: 25.8 s\n",
            "Wall time: 25.8 s\n"
          ],
          "name": "stdout"
        }
      ]
    },
    {
      "cell_type": "code",
      "metadata": {
        "id": "CThHBCZSLfmk",
        "colab_type": "code",
        "colab": {}
      },
      "source": [
        "orders=pd.read_csv(path +'orders.csv')\n",
        "\n",
        "def final_train(train,orders):\n",
        "    train[\"CID X LOC_NUM X VENDOR\"] = train[\"cust_akeed_customer_id\"].astype(str)+' X '+ train[\"cust_location_number\"].astype(str)+' X '+ train[\"v_id\"].astype(str)\n",
        "\n",
        "    all_services = orders['CID X LOC_NUM X VENDOR'].values.tolist()\n",
        "    train['target']= train['CID X LOC_NUM X VENDOR'].isin(all_services).astype(int).values\n",
        "    return train\n",
        "\n",
        "def final_test(test) :\n",
        "    test[\"CID X LOC_NUM X VENDOR\"] = test[\"cust_akeed_customer_id\"].astype(str)+' X '+ test[\"cust_location_number\"].astype(str)+' X '+ test[\"v_id\"].astype(str)\n",
        "    return test"
      ],
      "execution_count": 32,
      "outputs": []
    },
    {
      "cell_type": "code",
      "metadata": {
        "id": "SQQqCJNTPi-U",
        "colab_type": "code",
        "colab": {
          "base_uri": "https://localhost:8080/",
          "height": 51
        },
        "outputId": "60c9c6e4-5fc8-4786-b2b6-786c95be227b"
      },
      "source": [
        "%%time\n",
        "train = final_train(train,orders)\n",
        "test = final_test(test)"
      ],
      "execution_count": 33,
      "outputs": [
        {
          "output_type": "stream",
          "text": [
            "CPU times: user 12.7 s, sys: 1.56 s, total: 14.3 s\n",
            "Wall time: 14.3 s\n"
          ],
          "name": "stdout"
        }
      ]
    },
    {
      "cell_type": "code",
      "metadata": {
        "id": "fRO93O_wXjxw",
        "colab_type": "code",
        "colab": {}
      },
      "source": [
        "train.drop(['cust_index'] ,1,inplace=True)\n",
        "test.drop(['cust_index'] ,1,inplace=True)"
      ],
      "execution_count": 34,
      "outputs": []
    },
    {
      "cell_type": "code",
      "metadata": {
        "id": "1GavVQFXZ_Zs",
        "colab_type": "code",
        "colab": {
          "base_uri": "https://localhost:8080/",
          "height": 119
        },
        "outputId": "ede77496-fbab-4706-90cc-d5dfaacd8d99"
      },
      "source": [
        "%%time\n",
        "train = reduce_mem_usage(train)\n",
        "test = reduce_mem_usage(test)"
      ],
      "execution_count": 35,
      "outputs": [
        {
          "output_type": "stream",
          "text": [
            "Memory usage after optimization is: 2729.51 MB\n",
            "Decreased by 1.4%\n",
            "Memory usage after optimization is: 765.38 MB\n",
            "Decreased by 0.0%\n",
            "CPU times: user 25.4 s, sys: 54.5 ms, total: 25.4 s\n",
            "Wall time: 25.5 s\n"
          ],
          "name": "stdout"
        }
      ]
    },
    {
      "cell_type": "code",
      "metadata": {
        "id": "sBZRWtl4SJuG",
        "colab_type": "code",
        "colab": {
          "base_uri": "https://localhost:8080/",
          "height": 34
        },
        "outputId": "0b86ae72-d4d4-467a-8005-8ddb5fe485b6"
      },
      "source": [
        "train.shape ,test.shape"
      ],
      "execution_count": 36,
      "outputs": [
        {
          "output_type": "execute_result",
          "data": {
            "text/plain": [
              "((5950300, 191), (1672000, 190))"
            ]
          },
          "metadata": {
            "tags": []
          },
          "execution_count": 36
        }
      ]
    },
    {
      "cell_type": "markdown",
      "metadata": {
        "id": "NXPQxCkvaEe5",
        "colab_type": "text"
      },
      "source": [
        "# **MODELING LGBM**"
      ]
    },
    {
      "cell_type": "code",
      "metadata": {
        "id": "MKIsEBwvdENK",
        "colab_type": "code",
        "colab": {}
      },
      "source": [
        "import pandas as pd\n",
        "import numpy as np\n",
        "import math\n",
        "from numba import jit\n",
        "import lightgbm as lgb\n",
        "import time\n",
        "\n",
        "from sklearn.preprocessing import LabelEncoder\n",
        "from sklearn.model_selection import StratifiedKFold, train_test_split\n",
        "from sklearn.metrics import f1_score, classification_report\n",
        "from scipy.misc import derivative\n",
        "\n",
        "import matplotlib.pyplot as plt\n",
        "import seaborn as sns\n",
        "\n",
        "import gc\n",
        "import warnings\n",
        "warnings.filterwarnings(\"ignore\")"
      ],
      "execution_count": 37,
      "outputs": []
    },
    {
      "cell_type": "code",
      "metadata": {
        "id": "T-cPJ6QtOMI5",
        "colab_type": "code",
        "colab": {
          "base_uri": "https://localhost:8080/",
          "height": 34
        },
        "outputId": "666fa57b-5c33-4847-d086-2112394627ca"
      },
      "source": [
        "seed = 849\n",
        "np.random.seed(seed)\n",
        "\n",
        "\n",
        "\n",
        "to_drop = ['cust_akeed_customer_id_',\n",
        "           'v_vendor_rating',\t'v_primary_tags',\t'v_vendor_tag_name',\n",
        "           'v_monday_from_time1LAB_ENC',\t'v_monday_to_time1LAB_ENC'\t,'v_tuesday_from_time1LAB_ENC'\t,'v_tuesday_to_time1LAB_ENC',\t'v_wednesday_from_time1LAB_ENC',\n",
        "'v_thursday_from_time1LAB_ENC'\t,'v_thursday_to_time1LAB_ENC',\t'v_friday_from_time1LAB_ENC',\t'v_friday_to_time1LAB_ENC' ,'v_wednesday_to_time1LAB_ENC',\n",
        "'v_friday_from_time2LAB_ENC',\t'v_friday_to_time2LAB_ENC', 'vendor_id_','customer_id_count','customer_id_nunique',''\n",
        "'v_monday_from_time2LAB_ENC' ,\t'v_monday_to_time2LAB_ENC',\t'v_tuesday_from_time2LAB_ENC',\t'v_tuesday_to_time2LAB_ENC',\n",
        "'v_wednesday_from_time2LAB_ENC',\t'v_wednesday_to_time2LAB_ENC'\t,'v_thursday_from_time2LAB_ENC',\t'v_thursday_to_time2LAB_ENC',\n",
        "\n",
        "           'cust_akeed_customer_id','v_is_akeed_delivering', 'v_open_close_flags','v_one_click_vendor', 'v_country_id','v_city_id',\n",
        "           'v_display_orders','cust_customer_id','CID X LOC_NUM X VENDOR','v_authentication_id','cust_language','v_language',\n",
        "           'v_vendor_tag', 'target',\n",
        "           'v_open_close_flags',\n",
        "'v_country_id',\n",
        "'v_city_id',\n",
        "'v_display_orders',\n",
        "'item_count_min',\n",
        "'nb_reordered',\n",
        "'v_nb_tags',\n",
        "'v_is_akeed_delivering',\n",
        "'v_open_close_flags',\n",
        "'v_one_click_vendor',\n",
        "'v_country_id',\n",
        "'v_city_id',\n",
        "'v_display_orders',\n",
        "'item_count_min',\n",
        "'year_v_updated_at',]\n",
        "\n",
        "features = [c for c in train.columns if c not in to_drop]\n",
        "len(features)"
      ],
      "execution_count": 39,
      "outputs": [
        {
          "output_type": "execute_result",
          "data": {
            "text/plain": [
              "171"
            ]
          },
          "metadata": {
            "tags": []
          },
          "execution_count": 39
        }
      ]
    },
    {
      "cell_type": "code",
      "metadata": {
        "id": "2fZ0wCAzb5Po",
        "colab_type": "code",
        "colab": {}
      },
      "source": [
        "categ = ['v_vendor_category_en',\t'v_OpeningTime'\t,'v_OpeningTime2',\t'v_prepration_time','v_saturday_to_time1LAB_ENC',\n",
        "         \n",
        "'v_verified',\t'v_rank',\t'v_device_type'\t,'v_sunday_from_time1LAB_ENC'\t,'v_sunday_to_time1LAB_ENC'\t,'v_saturday_from_time1LAB_ENC',\n",
        "\t\n",
        "\t'v_sunday_from_time2LAB_ENC',\t'v_sunday_to_time2LAB_ENC'\t,'v_saturday_from_time2LAB_ENC'\t,'v_saturday_to_time2LAB_ENC'\t,\n",
        "'length_of_tags',\t'Multi_option',\t'Medium_option',\t'Low_option','cust_gender','cust_location_number',\t'cust_location_type',\n",
        "\n",
        "]"
      ],
      "execution_count": 41,
      "outputs": []
    },
    {
      "cell_type": "code",
      "metadata": {
        "id": "3rIDc_YGdWX9",
        "colab_type": "code",
        "colab": {
          "base_uri": "https://localhost:8080/",
          "height": 51
        },
        "outputId": "de0133de-d723-4160-c52d-fd630531a818"
      },
      "source": [
        "%%time\n",
        "train = train.sort_values(by='cust_akeed_customer_id', ascending=False).reset_index(drop=True)\n",
        "\n",
        "\n",
        "target = train['target']\n",
        "X_test = train[features][:892500]\n",
        "y_test = target[:892500]\n",
        "\n",
        "X_train = train[features][892500:]\n",
        "y_train = target[892500:]\n",
        "\n",
        "trn_data = lgb.Dataset(X_train, label=y_train)\n",
        "val_data = lgb.Dataset(X_test, label=y_test)"
      ],
      "execution_count": 42,
      "outputs": [
        {
          "output_type": "stream",
          "text": [
            "CPU times: user 23.8 s, sys: 531 ms, total: 24.4 s\n",
            "Wall time: 24.3 s\n"
          ],
          "name": "stdout"
        }
      ]
    },
    {
      "cell_type": "code",
      "metadata": {
        "id": "9b0R4KYwdlbn",
        "colab_type": "code",
        "colab": {
          "base_uri": "https://localhost:8080/",
          "height": 238
        },
        "outputId": "0a730a7f-6036-497f-d60b-aaacd3d5acce"
      },
      "source": [
        "%%time\n",
        "\n",
        "# F1 Score:  0.2456  LB 0.2474\n",
        "# F1 Score:  0.2484  LB 0.2466\n",
        "\n",
        "weight = 5870158/80142/10\n",
        "param = {\n",
        "    'bagging_freq': 1,\n",
        "    'bagging_fraction': 0.8,\n",
        "    'feature_fraction': 0.9,\n",
        "    'boost_from_average':'false',\n",
        "    'num_leaves': 80,\n",
        "    'boost': 'gbdt',\n",
        "    'learning_rate': 0.03,\n",
        "    'metric':'auc',\n",
        "    'scale_pos_weight': round(weight, 1),\n",
        "    'tree_learner': 'serial',\n",
        "    'objective': 'binary',\n",
        "    'random_state': seed,\n",
        "    'n_jobs': -1,\n",
        "    'verbosity': -1\n",
        "}\n",
        "\n",
        "lgb_model = lgb.train(param, trn_data, 5000, valid_sets = [trn_data, val_data],\n",
        "                      verbose_eval=200, early_stopping_rounds=200,categorical_feature =categ )\n",
        "\n",
        "#Training until validation scores don't improve for 200 rounds.\n",
        "#[200]\ttraining's auc: 0.918425\tvalid_1's auc: 0.915277\n",
        "#[400]\ttraining's auc: 0.930369\tvalid_1's auc: 0.920908\n",
        "#[600]\ttraining's auc: 0.93748\tvalid_1's auc: 0.922451\n",
        "#[800]\ttraining's auc: 0.943071\tvalid_1's auc: 0.923362"
      ],
      "execution_count": 43,
      "outputs": [
        {
          "output_type": "stream",
          "text": [
            "Training until validation scores don't improve for 200 rounds.\n",
            "[200]\ttraining's auc: 0.925817\tvalid_1's auc: 0.92168\n",
            "[400]\ttraining's auc: 0.936632\tvalid_1's auc: 0.925267\n",
            "[600]\ttraining's auc: 0.943717\tvalid_1's auc: 0.926229\n",
            "[800]\ttraining's auc: 0.949235\tvalid_1's auc: 0.926746\n",
            "[1000]\ttraining's auc: 0.953894\tvalid_1's auc: 0.927023\n",
            "[1200]\ttraining's auc: 0.957863\tvalid_1's auc: 0.927156\n",
            "[1400]\ttraining's auc: 0.961364\tvalid_1's auc: 0.927209\n",
            "[1600]\ttraining's auc: 0.964405\tvalid_1's auc: 0.927282\n",
            "Early stopping, best iteration is:\n",
            "[1573]\ttraining's auc: 0.964025\tvalid_1's auc: 0.927302\n",
            "CPU times: user 4h 31min 38s, sys: 21 s, total: 4h 31min 59s\n",
            "Wall time: 1h 14min 44s\n"
          ],
          "name": "stdout"
        }
      ]
    },
    {
      "cell_type": "code",
      "metadata": {
        "id": "7k8qB4vds7FL",
        "colab_type": "code",
        "colab": {}
      },
      "source": [
        "pred = lgb_model.predict(X_test,num_iteration=lgb_model.best_iteration)"
      ],
      "execution_count": 44,
      "outputs": []
    },
    {
      "cell_type": "code",
      "metadata": {
        "id": "fJnuYGtaxZPQ",
        "colab_type": "code",
        "colab": {
          "base_uri": "https://localhost:8080/",
          "height": 1000
        },
        "outputId": "d524163a-5e89-4c7d-ab88-860264902e13"
      },
      "source": [
        "best_score = -1\n",
        "best_threshold = 0\n",
        "score= 0 \n",
        "for i in np.arange(0.45, 0.55, 0.0005):\n",
        "\n",
        "  pred_lgb = (pred >= i)*1\n",
        "  #0.118\n",
        "\n",
        "  #print('validation F1 fold-',': ',f1_score(y_test, pred_xgb_thresh))\n",
        "  score = f1_score(y_test, pred_lgb) \n",
        "  if score > best_score:\n",
        "    best_score= score\n",
        "    best_threshold = i\n",
        "    print(\"Current Best threshold : \",best_threshold )\n",
        "    print(\"Current Best Score : \",best_score )\n",
        "    print(\"********************\")"
      ],
      "execution_count": 45,
      "outputs": [
        {
          "output_type": "stream",
          "text": [
            "Current Best threshold :  0.45\n",
            "Current Best Score :  0.25293021922911596\n",
            "********************\n",
            "Current Best threshold :  0.4505\n",
            "Current Best Score :  0.252978497401889\n",
            "********************\n",
            "Current Best threshold :  0.451\n",
            "Current Best Score :  0.2531288661276865\n",
            "********************\n",
            "Current Best threshold :  0.4515\n",
            "Current Best Score :  0.25322878228782286\n",
            "********************\n",
            "Current Best threshold :  0.452\n",
            "Current Best Score :  0.253241315584303\n",
            "********************\n",
            "Current Best threshold :  0.453\n",
            "Current Best Score :  0.2535725673207919\n",
            "********************\n",
            "Current Best threshold :  0.454\n",
            "Current Best Score :  0.25364490876815177\n",
            "********************\n",
            "Current Best threshold :  0.4545\n",
            "Current Best Score :  0.25392937334149823\n",
            "********************\n",
            "Current Best threshold :  0.46\n",
            "Current Best Score :  0.25402600501013956\n",
            "********************\n",
            "Current Best threshold :  0.4605\n",
            "Current Best Score :  0.25409248416776203\n",
            "********************\n",
            "Current Best threshold :  0.461\n",
            "Current Best Score :  0.2541297581996649\n",
            "********************\n",
            "Current Best threshold :  0.4615\n",
            "Current Best Score :  0.2542423697307669\n",
            "********************\n",
            "Current Best threshold :  0.462\n",
            "Current Best Score :  0.25441547518923463\n",
            "********************\n",
            "Current Best threshold :  0.4625\n",
            "Current Best Score :  0.254588122029003\n",
            "********************\n",
            "Current Best threshold :  0.4665\n",
            "Current Best Score :  0.254614234723451\n",
            "********************\n",
            "Current Best threshold :  0.4675\n",
            "Current Best Score :  0.2547270999969354\n",
            "********************\n",
            "Current Best threshold :  0.468\n",
            "Current Best Score :  0.25480326560677674\n",
            "********************\n",
            "Current Best threshold :  0.4685\n",
            "Current Best Score :  0.2549893908176758\n",
            "********************\n",
            "Current Best threshold :  0.46950000000000003\n",
            "Current Best Score :  0.25502361329752754\n",
            "********************\n",
            "Current Best threshold :  0.47000000000000003\n",
            "Current Best Score :  0.2551626066526524\n",
            "********************\n",
            "Current Best threshold :  0.47050000000000003\n",
            "Current Best Score :  0.25524269739491373\n",
            "********************\n",
            "Current Best threshold :  0.47100000000000003\n",
            "Current Best Score :  0.255431409062694\n",
            "********************\n",
            "Current Best threshold :  0.47150000000000003\n",
            "Current Best Score :  0.2555572827607648\n",
            "********************\n",
            "Current Best threshold :  0.47200000000000003\n",
            "Current Best Score :  0.2556531489441226\n",
            "********************\n",
            "Current Best threshold :  0.47300000000000003\n",
            "Current Best Score :  0.2557223264540338\n",
            "********************\n",
            "Current Best threshold :  0.47600000000000003\n",
            "Current Best Score :  0.2558837466435002\n",
            "********************\n",
            "Current Best threshold :  0.47650000000000003\n",
            "Current Best Score :  0.2561797752808989\n",
            "********************\n",
            "Current Best threshold :  0.47700000000000004\n",
            "Current Best Score :  0.2562947929219256\n",
            "********************\n",
            "Current Best threshold :  0.48700000000000004\n",
            "Current Best Score :  0.2562971255473972\n",
            "********************\n",
            "Current Best threshold :  0.48750000000000004\n",
            "Current Best Score :  0.2563239998680782\n",
            "********************\n",
            "Current Best threshold :  0.5015000000000001\n",
            "Current Best Score :  0.2563604178959425\n",
            "********************\n",
            "Current Best threshold :  0.502\n",
            "Current Best Score :  0.2565208318842596\n",
            "********************\n",
            "Current Best threshold :  0.5075000000000001\n",
            "Current Best Score :  0.25664156840460295\n",
            "********************\n",
            "Current Best threshold :  0.508\n",
            "Current Best Score :  0.25674954647316184\n",
            "********************\n",
            "Current Best threshold :  0.5085000000000001\n",
            "Current Best Score :  0.2567793892313723\n",
            "********************\n",
            "Current Best threshold :  0.5090000000000001\n",
            "Current Best Score :  0.25699600228440894\n",
            "********************\n",
            "Current Best threshold :  0.5095000000000001\n",
            "Current Best Score :  0.25709384604388535\n",
            "********************\n",
            "Current Best threshold :  0.5110000000000001\n",
            "Current Best Score :  0.25712849242261004\n",
            "********************\n"
          ],
          "name": "stdout"
        }
      ]
    },
    {
      "cell_type": "code",
      "metadata": {
        "id": "jOdX4GV7xZW1",
        "colab_type": "code",
        "colab": {
          "base_uri": "https://localhost:8080/",
          "height": 34
        },
        "outputId": "348916f9-d41f-40d6-f95b-9a18a6348268"
      },
      "source": [
        "pred = (pred >= best_threshold)*1\n",
        "print('F1 Score : ', f1_score(y_test, pred))"
      ],
      "execution_count": 46,
      "outputs": [
        {
          "output_type": "stream",
          "text": [
            "F1 Score :  0.25712849242261004\n"
          ],
          "name": "stdout"
        }
      ]
    },
    {
      "cell_type": "code",
      "metadata": {
        "id": "h-OchKyy23ek",
        "colab_type": "code",
        "colab": {
          "base_uri": "https://localhost:8080/",
          "height": 34
        },
        "outputId": "24af319d-0f27-4eb3-b4ea-2d44e14929ae"
      },
      "source": [
        "print('mean is :',np.mean(pred))"
      ],
      "execution_count": 47,
      "outputs": [
        {
          "output_type": "stream",
          "text": [
            "mean is : 0.01772549019607843\n"
          ],
          "name": "stdout"
        }
      ]
    },
    {
      "cell_type": "code",
      "metadata": {
        "id": "bZTiKup8xZam",
        "colab_type": "code",
        "colab": {
          "base_uri": "https://localhost:8080/",
          "height": 170
        },
        "outputId": "a91d9690-74fb-4499-e671-a015bf7254df"
      },
      "source": [
        "print(classification_report(y_test, pred))"
      ],
      "execution_count": 48,
      "outputs": [
        {
          "output_type": "stream",
          "text": [
            "              precision    recall  f1-score   support\n",
            "\n",
            "           0       0.99      0.99      0.99    880474\n",
            "           1       0.23      0.30      0.26     12026\n",
            "\n",
            "    accuracy                           0.98    892500\n",
            "   macro avg       0.61      0.64      0.62    892500\n",
            "weighted avg       0.98      0.98      0.98    892500\n",
            "\n"
          ],
          "name": "stdout"
        }
      ]
    },
    {
      "cell_type": "code",
      "metadata": {
        "id": "OcbyAmJWxxPI",
        "colab_type": "code",
        "colab": {}
      },
      "source": [
        "test_id = test['CID X LOC_NUM X VENDOR']\n",
        "full_pred = lgb_model.predict(test[features],num_iteration=lgb_model.best_iteration)"
      ],
      "execution_count": 49,
      "outputs": []
    },
    {
      "cell_type": "code",
      "metadata": {
        "id": "bCB0sgTPx_EP",
        "colab_type": "code",
        "colab": {
          "base_uri": "https://localhost:8080/",
          "height": 68
        },
        "outputId": "bc4519e9-9df4-4d6e-8fc2-1233b48cb448"
      },
      "source": [
        "submission = pd.DataFrame()\n",
        "submission['CID X LOC_NUM X VENDOR'] = test_id\n",
        "submission['target'] = (full_pred >= best_threshold)*1\n",
        "submission.target.value_counts()"
      ],
      "execution_count": 50,
      "outputs": [
        {
          "output_type": "execute_result",
          "data": {
            "text/plain": [
              "0    1641924\n",
              "1      30076\n",
              "Name: target, dtype: int64"
            ]
          },
          "metadata": {
            "tags": []
          },
          "execution_count": 50
        }
      ]
    },
    {
      "cell_type": "markdown",
      "metadata": {
        "id": "mG0CkJL3JA7m",
        "colab_type": "text"
      },
      "source": [
        "# **Binary**"
      ]
    },
    {
      "cell_type": "code",
      "metadata": {
        "id": "CR3pSaBzI8J4",
        "colab_type": "code",
        "colab": {}
      },
      "source": [
        "submission.to_csv('LGBM_CATEGORICAL_features_BINARY.csv', index=False)"
      ],
      "execution_count": 56,
      "outputs": []
    },
    {
      "cell_type": "code",
      "metadata": {
        "id": "vs7aWk_VNODL",
        "colab_type": "code",
        "colab": {
          "base_uri": "https://localhost:8080/",
          "height": 17
        },
        "outputId": "c8db93d7-2c6e-4c84-8b9d-a1f38a5b4d7e"
      },
      "source": [
        "from google.colab import files \n",
        "files.download('LGBM_CATEGORICAL_features_BINARY.csv')"
      ],
      "execution_count": 57,
      "outputs": [
        {
          "output_type": "display_data",
          "data": {
            "application/javascript": [
              "\n",
              "    async function download(id, filename, size) {\n",
              "      if (!google.colab.kernel.accessAllowed) {\n",
              "        return;\n",
              "      }\n",
              "      const div = document.createElement('div');\n",
              "      const label = document.createElement('label');\n",
              "      label.textContent = `Downloading \"${filename}\": `;\n",
              "      div.appendChild(label);\n",
              "      const progress = document.createElement('progress');\n",
              "      progress.max = size;\n",
              "      div.appendChild(progress);\n",
              "      document.body.appendChild(div);\n",
              "\n",
              "      const buffers = [];\n",
              "      let downloaded = 0;\n",
              "\n",
              "      const channel = await google.colab.kernel.comms.open(id);\n",
              "      // Send a message to notify the kernel that we're ready.\n",
              "      channel.send({})\n",
              "\n",
              "      for await (const message of channel.messages) {\n",
              "        // Send a message to notify the kernel that we're ready.\n",
              "        channel.send({})\n",
              "        if (message.buffers) {\n",
              "          for (const buffer of message.buffers) {\n",
              "            buffers.push(buffer);\n",
              "            downloaded += buffer.byteLength;\n",
              "            progress.value = downloaded;\n",
              "          }\n",
              "        }\n",
              "      }\n",
              "      const blob = new Blob(buffers, {type: 'application/binary'});\n",
              "      const a = document.createElement('a');\n",
              "      a.href = window.URL.createObjectURL(blob);\n",
              "      a.download = filename;\n",
              "      div.appendChild(a);\n",
              "      a.click();\n",
              "      div.remove();\n",
              "    }\n",
              "  "
            ],
            "text/plain": [
              "<IPython.core.display.Javascript object>"
            ]
          },
          "metadata": {
            "tags": []
          }
        },
        {
          "output_type": "display_data",
          "data": {
            "application/javascript": [
              "download(\"download_6ca723f0-53d8-4e1f-ba87-342be722f28e\", \"LGBM_CATEGORICAL_features_BINARY.csv\", 33039050)"
            ],
            "text/plain": [
              "<IPython.core.display.Javascript object>"
            ]
          },
          "metadata": {
            "tags": []
          }
        }
      ]
    },
    {
      "cell_type": "markdown",
      "metadata": {
        "id": "tcnAbItDJKYX",
        "colab_type": "text"
      },
      "source": [
        "# **FLOAT**"
      ]
    },
    {
      "cell_type": "code",
      "metadata": {
        "id": "N1dFsSS-75Sn",
        "colab_type": "code",
        "colab": {
          "base_uri": "https://localhost:8080/",
          "height": 17
        },
        "outputId": "9b1e4a8f-e275-4f20-e103-6841cdeffb6e"
      },
      "source": [
        "submission = pd.DataFrame()\n",
        "submission['CID X LOC_NUM X VENDOR'] = test_id\n",
        "submission['target'] = full_pred \n",
        "submission.to_csv('LGBM_CATEGORICAL_features_floats.csv', index=False)\n",
        "from google.colab import files \n",
        "files.download('LGBM_CATEGORICAL_features_floats.csv')"
      ],
      "execution_count": 58,
      "outputs": [
        {
          "output_type": "display_data",
          "data": {
            "application/javascript": [
              "\n",
              "    async function download(id, filename, size) {\n",
              "      if (!google.colab.kernel.accessAllowed) {\n",
              "        return;\n",
              "      }\n",
              "      const div = document.createElement('div');\n",
              "      const label = document.createElement('label');\n",
              "      label.textContent = `Downloading \"${filename}\": `;\n",
              "      div.appendChild(label);\n",
              "      const progress = document.createElement('progress');\n",
              "      progress.max = size;\n",
              "      div.appendChild(progress);\n",
              "      document.body.appendChild(div);\n",
              "\n",
              "      const buffers = [];\n",
              "      let downloaded = 0;\n",
              "\n",
              "      const channel = await google.colab.kernel.comms.open(id);\n",
              "      // Send a message to notify the kernel that we're ready.\n",
              "      channel.send({})\n",
              "\n",
              "      for await (const message of channel.messages) {\n",
              "        // Send a message to notify the kernel that we're ready.\n",
              "        channel.send({})\n",
              "        if (message.buffers) {\n",
              "          for (const buffer of message.buffers) {\n",
              "            buffers.push(buffer);\n",
              "            downloaded += buffer.byteLength;\n",
              "            progress.value = downloaded;\n",
              "          }\n",
              "        }\n",
              "      }\n",
              "      const blob = new Blob(buffers, {type: 'application/binary'});\n",
              "      const a = document.createElement('a');\n",
              "      a.href = window.URL.createObjectURL(blob);\n",
              "      a.download = filename;\n",
              "      div.appendChild(a);\n",
              "      a.click();\n",
              "      div.remove();\n",
              "    }\n",
              "  "
            ],
            "text/plain": [
              "<IPython.core.display.Javascript object>"
            ]
          },
          "metadata": {
            "tags": []
          }
        },
        {
          "output_type": "display_data",
          "data": {
            "application/javascript": [
              "download(\"download_b23cfaa2-4a6a-4ab1-b95f-bd1e94099e94\", \"LGBM_CATEGORICAL_features_floats.csv\", 64941031)"
            ],
            "text/plain": [
              "<IPython.core.display.Javascript object>"
            ]
          },
          "metadata": {
            "tags": []
          }
        }
      ]
    },
    {
      "cell_type": "code",
      "metadata": {
        "id": "53TeuvLLNN-p",
        "colab_type": "code",
        "colab": {}
      },
      "source": [
        "!cp LGBM_CATEGORICAL_features_BINARY.csv '/content/drive/My Drive/AKEED_Best_submission/'\n",
        "!cp LGBM_CATEGORICAL_features_floats.csv '/content/drive/My Drive/AKEED_Best_submission/'"
      ],
      "execution_count": 59,
      "outputs": []
    },
    {
      "cell_type": "markdown",
      "metadata": {
        "id": "ssM7Y_LiJhaZ",
        "colab_type": "text"
      },
      "source": [
        "# **Feature - importance**"
      ]
    },
    {
      "cell_type": "code",
      "metadata": {
        "id": "OQqZNND7yCRo",
        "colab_type": "code",
        "colab": {}
      },
      "source": [
        "importance_df = pd.DataFrame()\n",
        "importance_df[\"feature\"] = features\n",
        "importance_df[\"importance\"] = lgb_model.feature_importance()"
      ],
      "execution_count": 60,
      "outputs": []
    },
    {
      "cell_type": "code",
      "metadata": {
        "id": "8GtJkC5OyITW",
        "colab_type": "code",
        "colab": {
          "base_uri": "https://localhost:8080/",
          "height": 948
        },
        "outputId": "2a8aaa0f-4d77-4d7a-c3fa-97b05c33d3b9"
      },
      "source": [
        "plt.figure(figsize=(16, 16))\n",
        "sns.barplot(data=importance_df.sort_values(by='importance', ascending=False).head(70), x='importance', y='feature');\n",
        "plt.title('50 TOP feature importance');"
      ],
      "execution_count": 61,
      "outputs": [
        {
          "output_type": "display_data",
          "data": {
            "image/png": "[encoded data removed]",
            "text/plain": [
              "<Figure size 1152x1152 with 1 Axes>"
            ]
          },
          "metadata": {
            "tags": [],
            "needs_background": "light"
          }
        }
      ]
    },
    {
      "cell_type": "code",
      "metadata": {
        "id": "bi38UM0c1_a4",
        "colab_type": "code",
        "colab": {}
      },
      "source": [
        ""
      ],
      "execution_count": null,
      "outputs": []
    }
  ]
}